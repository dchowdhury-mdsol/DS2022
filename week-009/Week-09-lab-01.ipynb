{
 "cells": [
  {
   "cell_type": "markdown",
   "metadata": {
    "id": "zndGg0rNFH7b"
   },
   "source": [
    "<div style=\"background: #000;\n",
    "            color: #FFF;\n",
    "            margin: 0px;\n",
    "                padding: 10px 0px 20px 0px;\n",
    "            text-align: center; \n",
    "                \">\n",
    "    <h1>Week 9 - Lab 1</h1>\n",
    "</div>"
   ]
  },
  {
   "cell_type": "markdown",
   "metadata": {},
   "source": [
    "# Exercise 1\n",
    "\n",
    "Follow the instruction given and install the Pandas Library in VS Code. After installation, input a picture to document that you have successfully installed the Pandas Library.\n",
    "\n",
    "https://pypi.org/project/pandas/\n",
    "\n",
    "In a New Terminal: Should be pypi:\n",
    "    \n",
    "    pip install pandas \n",
    "\n",
    "If you have the latest version of python:\n",
    "\n",
    "    pip3 install pandas \n",
    "\n",
    "Once you have the library create a simple dataframe of your choosing. Show your code."
   ]
  },
  {
   "cell_type": "code",
   "execution_count": 4,
   "metadata": {},
   "outputs": [
    {
     "data": {
      "text/html": [
       "<div>\n",
       "<style scoped>\n",
       "    .dataframe tbody tr th:only-of-type {\n",
       "        vertical-align: middle;\n",
       "    }\n",
       "\n",
       "    .dataframe tbody tr th {\n",
       "        vertical-align: top;\n",
       "    }\n",
       "\n",
       "    .dataframe thead th {\n",
       "        text-align: right;\n",
       "    }\n",
       "</style>\n",
       "<table border=\"1\" class=\"dataframe\">\n",
       "  <thead>\n",
       "    <tr style=\"text-align: right;\">\n",
       "      <th></th>\n",
       "      <th>Name</th>\n",
       "      <th>Grade</th>\n",
       "    </tr>\n",
       "  </thead>\n",
       "  <tbody>\n",
       "    <tr>\n",
       "      <th>0</th>\n",
       "      <td>Student 1</td>\n",
       "      <td>A</td>\n",
       "    </tr>\n",
       "    <tr>\n",
       "      <th>1</th>\n",
       "      <td>Student 2</td>\n",
       "      <td>B</td>\n",
       "    </tr>\n",
       "    <tr>\n",
       "      <th>2</th>\n",
       "      <td>Student 3</td>\n",
       "      <td>A+</td>\n",
       "    </tr>\n",
       "  </tbody>\n",
       "</table>\n",
       "</div>"
      ],
      "text/plain": [
       "        Name Grade\n",
       "0  Student 1     A\n",
       "1  Student 2     B\n",
       "2  Student 3    A+"
      ]
     },
     "execution_count": 4,
     "metadata": {},
     "output_type": "execute_result"
    }
   ],
   "source": [
    "import pandas as pd\n",
    "\n",
    "gradebook = [['Student 1', 'A'], ['Student 2', 'B'], ['Student 3', 'A+']]\n",
    "\n",
    "df = pd.DataFrame(gradebook, columns=['Name', 'Grade'])\n",
    "df"
   ]
  },
  {
   "cell_type": "markdown",
   "metadata": {},
   "source": [
    "# Exercise 2\n",
    "\n",
    "Create a data frame using pandas that uses a conditional statement other than if ascending = false."
   ]
  },
  {
   "cell_type": "code",
   "execution_count": 54,
   "metadata": {},
   "outputs": [
    {
     "data": {
      "text/html": [
       "<div>\n",
       "<style scoped>\n",
       "    .dataframe tbody tr th:only-of-type {\n",
       "        vertical-align: middle;\n",
       "    }\n",
       "\n",
       "    .dataframe tbody tr th {\n",
       "        vertical-align: top;\n",
       "    }\n",
       "\n",
       "    .dataframe thead th {\n",
       "        text-align: right;\n",
       "    }\n",
       "</style>\n",
       "<table border=\"1\" class=\"dataframe\">\n",
       "  <thead>\n",
       "    <tr style=\"text-align: right;\">\n",
       "      <th></th>\n",
       "      <th>Name</th>\n",
       "      <th>Age</th>\n",
       "    </tr>\n",
       "  </thead>\n",
       "  <tbody>\n",
       "    <tr>\n",
       "      <th>0</th>\n",
       "      <td>Adam</td>\n",
       "      <td>20</td>\n",
       "    </tr>\n",
       "    <tr>\n",
       "      <th>1</th>\n",
       "      <td>Bob</td>\n",
       "      <td>23</td>\n",
       "    </tr>\n",
       "    <tr>\n",
       "      <th>4</th>\n",
       "      <td>Emile</td>\n",
       "      <td>18</td>\n",
       "    </tr>\n",
       "  </tbody>\n",
       "</table>\n",
       "</div>"
      ],
      "text/plain": [
       "    Name  Age\n",
       "0   Adam   20\n",
       "1    Bob   23\n",
       "4  Emile   18"
      ]
     },
     "execution_count": 54,
     "metadata": {},
     "output_type": "execute_result"
    }
   ],
   "source": [
    "people = [['Adam', 20], ['Bob', 23], ['Charlie', 13], ['Daryl', 16], ['Emile', 18]]\n",
    "\n",
    "ppl = pd.DataFrame(people, columns=['Name', 'Age'])\n",
    "\n",
    "adults = ppl[ppl['Age'] >= 18]\n",
    "adults"
   ]
  },
  {
   "cell_type": "markdown",
   "metadata": {},
   "source": [
    "# Exercise 3\n",
    "\n",
    "Create a Data Frame using pandas with Names and Age and change the datatype of age from int to str."
   ]
  },
  {
   "cell_type": "code",
   "execution_count": 56,
   "metadata": {},
   "outputs": [
    {
     "name": "stdout",
     "output_type": "stream",
     "text": [
      "int64\n",
      "object\n"
     ]
    }
   ],
   "source": [
    "print(ppl.Age.dtypes)\n",
    "\n",
    "ppl.Age = ppl.Age.astype(str)\n",
    "\n",
    "print(ppl.Age.dtypes)"
   ]
  },
  {
   "cell_type": "markdown",
   "metadata": {},
   "source": [
    "# Exercise 4\n",
    "\n",
    "Write a data frame using pandas that contains a dictionary of column1 of 5 strings of letters, a column2 of 5 integers, another column3 of 5 integers and a column4 of 5 strings of letters with lower and upper cases."
   ]
  },
  {
   "cell_type": "code",
   "execution_count": 57,
   "metadata": {},
   "outputs": [
    {
     "data": {
      "text/html": [
       "<div>\n",
       "<style scoped>\n",
       "    .dataframe tbody tr th:only-of-type {\n",
       "        vertical-align: middle;\n",
       "    }\n",
       "\n",
       "    .dataframe tbody tr th {\n",
       "        vertical-align: top;\n",
       "    }\n",
       "\n",
       "    .dataframe thead th {\n",
       "        text-align: right;\n",
       "    }\n",
       "</style>\n",
       "<table border=\"1\" class=\"dataframe\">\n",
       "  <thead>\n",
       "    <tr style=\"text-align: right;\">\n",
       "      <th></th>\n",
       "      <th>column1</th>\n",
       "      <th>column2</th>\n",
       "      <th>column3</th>\n",
       "      <th>column4</th>\n",
       "    </tr>\n",
       "  </thead>\n",
       "  <tbody>\n",
       "    <tr>\n",
       "      <th>0</th>\n",
       "      <td>a</td>\n",
       "      <td>1</td>\n",
       "      <td>6</td>\n",
       "      <td>f</td>\n",
       "    </tr>\n",
       "    <tr>\n",
       "      <th>1</th>\n",
       "      <td>b</td>\n",
       "      <td>2</td>\n",
       "      <td>7</td>\n",
       "      <td>G</td>\n",
       "    </tr>\n",
       "    <tr>\n",
       "      <th>2</th>\n",
       "      <td>c</td>\n",
       "      <td>3</td>\n",
       "      <td>8</td>\n",
       "      <td>h</td>\n",
       "    </tr>\n",
       "    <tr>\n",
       "      <th>3</th>\n",
       "      <td>d</td>\n",
       "      <td>4</td>\n",
       "      <td>9</td>\n",
       "      <td>I</td>\n",
       "    </tr>\n",
       "    <tr>\n",
       "      <th>4</th>\n",
       "      <td>e</td>\n",
       "      <td>5</td>\n",
       "      <td>10</td>\n",
       "      <td>j</td>\n",
       "    </tr>\n",
       "  </tbody>\n",
       "</table>\n",
       "</div>"
      ],
      "text/plain": [
       "  column1  column2  column3 column4\n",
       "0       a        1        6       f\n",
       "1       b        2        7       G\n",
       "2       c        3        8       h\n",
       "3       d        4        9       I\n",
       "4       e        5       10       j"
      ]
     },
     "execution_count": 57,
     "metadata": {},
     "output_type": "execute_result"
    }
   ],
   "source": [
    "data = {\n",
    "    'column1': ['a', 'b', 'c', 'd', 'e'],\n",
    "    'column2': [1, 2, 3, 4, 5],\n",
    "    'column3': [6, 7, 8, 9, 10],\n",
    "    'column4': ['f', 'G', 'h', 'I', 'j']\n",
    "}\n",
    "\n",
    "df = pd.DataFrame(data=data)\n",
    "df"
   ]
  },
  {
   "cell_type": "markdown",
   "metadata": {},
   "source": [
    "# Bonus Question\n",
    "\n",
    "Write a Pandas program that contains data of a student for each column (you can create as many as you think are necessary). Make sure to display the default index and set a column as an Index in the dataframe. Output only one of the columns of your choice and change its datatype. "
   ]
  },
  {
   "cell_type": "code",
   "execution_count": 58,
   "metadata": {},
   "outputs": [
    {
     "name": "stdout",
     "output_type": "stream",
     "text": [
      "Collecting names\n",
      "  Downloading names-0.3.0.tar.gz (789 kB)\n",
      "  Preparing metadata (setup.py): started\n",
      "  Preparing metadata (setup.py): finished with status 'done'\n",
      "Using legacy 'setup.py install' for names, since package 'wheel' is not installed.\n",
      "Installing collected packages: names\n",
      "    Running setup.py install for names: started\n",
      "    Running setup.py install for names: finished with status 'done'\n",
      "Successfully installed names-0.3.0\n"
     ]
    }
   ],
   "source": [
    "!pip install names"
   ]
  },
  {
   "cell_type": "code",
   "execution_count": 82,
   "metadata": {},
   "outputs": [
    {
     "name": "stdout",
     "output_type": "stream",
     "text": [
      "['David', 'Kevin', 'James', 'Luz', 'Stacy', 'Michael', 'Dawn', 'Robert', 'Allison', 'Ronald']\n",
      "[63, 69, 60, 71, 84, 85, 81, 86, 94, 85]\n",
      "['male', 'male', 'female', 'male', 'female', 'male', 'female', 'male', 'female', 'female']\n",
      "['Lannie', 'Christopher', 'Shannon', 'Adriana', 'Zachary', 'Rita', 'Cynthia', 'Phyllis', 'Cathie', 'Marie']\n"
     ]
    }
   ],
   "source": [
    "import names\n",
    "import random\n",
    "\n",
    "student_names = []\n",
    "student_grades = []\n",
    "student_sex = []\n",
    "student_lab_partner = []\n",
    "\n",
    "for x in range(10):\n",
    "    student_names.append(names.get_first_name())\n",
    "\n",
    "for x in range(10):\n",
    "    student_grades.append(random.randrange(60, 100))\n",
    "\n",
    "for x in range(10):\n",
    "    if x < 5:\n",
    "        student_sex.append('male')\n",
    "    else:\n",
    "        student_sex.append('female')\n",
    "\n",
    "for x in range(10):\n",
    "    student_lab_partner.append(names.get_first_name())\n",
    "\n",
    "random.shuffle(student_sex)\n",
    "\n",
    "print(student_names)\n",
    "print(student_grades)\n",
    "print(student_sex)\n",
    "print(student_lab_partner)"
   ]
  },
  {
   "cell_type": "code",
   "execution_count": 85,
   "metadata": {},
   "outputs": [
    {
     "name": "stdout",
     "output_type": "stream",
     "text": [
      "     Names  Grades     Sex Lab Partner\n",
      "0    David      63    male       Ralph\n",
      "1    Kevin      69    male        Lori\n",
      "2    James      60  female     Kathern\n",
      "3      Luz      71    male         Jim\n",
      "4    Stacy      84  female      Linnea\n",
      "5  Michael      85    male        Paul\n",
      "6     Dawn      81  female      Ronald\n",
      "7   Robert      86    male    Patricia\n",
      "8  Allison      94  female       James\n",
      "9   Ronald      85  female       Linda\n"
     ]
    }
   ],
   "source": [
    "class_data = {\n",
    "    'Names': student_names,\n",
    "    'Grades': student_grades,\n",
    "    'Sex': student_sex,\n",
    "    'Lab Partner': student_crush\n",
    "}\n",
    "\n",
    "class_df = pd.DataFrame(data=class_data)\n",
    "print(class_df)"
   ]
  },
  {
   "cell_type": "code",
   "execution_count": 89,
   "metadata": {},
   "outputs": [
    {
     "name": "stdout",
     "output_type": "stream",
     "text": [
      "   Names  Grades     Sex Lab Partner\n",
      "0  David      63    male       Ralph\n",
      "1  Kevin      69    male        Lori\n",
      "2  James      60  female     Kathern\n",
      "3    Luz      71    male         Jim\n",
      "4  Stacy      84  female      Linnea\n",
      "0    63\n",
      "1    69\n",
      "2    60\n",
      "3    71\n",
      "4    84\n",
      "5    85\n",
      "6    81\n",
      "7    86\n",
      "8    94\n",
      "9    85\n",
      "Name: Grades, dtype: int64\n",
      "0    63\n",
      "1    69\n",
      "2    60\n",
      "3    71\n",
      "4    84\n",
      "5    85\n",
      "6    81\n",
      "7    86\n",
      "8    94\n",
      "9    85\n",
      "Name: Grades, dtype: object\n"
     ]
    }
   ],
   "source": [
    "print(class_df.head())\n",
    "\n",
    "print(class_df['Grades'])\n",
    "class_df.Grades = class_df.Grades.astype(str)\n",
    "print(class_df['Grades'])"
   ]
  }
 ],
 "metadata": {
  "interpreter": {
   "hash": "f0241158d50e3e34b77f53e7a6d3f67a50c8c5a9037013305f31610104d3e5b8"
  },
  "kernelspec": {
   "display_name": "Python 3.9.8 64-bit (windows store)",
   "language": "python",
   "name": "python3"
  },
  "language_info": {
   "codemirror_mode": {
    "name": "ipython",
    "version": 3
   },
   "file_extension": ".py",
   "mimetype": "text/x-python",
   "name": "python",
   "nbconvert_exporter": "python",
   "pygments_lexer": "ipython3",
   "version": "3.9.9"
  },
  "orig_nbformat": 4
 },
 "nbformat": 4,
 "nbformat_minor": 2
}
