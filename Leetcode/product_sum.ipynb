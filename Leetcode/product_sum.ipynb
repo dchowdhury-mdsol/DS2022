{
 "cells": [
  {
   "cell_type": "markdown",
   "metadata": {},
   "source": [
    "Given an integer number n, return the difference between the product of its digits and the sum of its digits.\n",
    "\n",
    "Example 1:\n",
    "\n",
    "Input: n = 234\n",
    "Output: 15 \n",
    "Explanation: \n",
    "Product of digits = 2 * 3 * 4 = 24 \n",
    "Sum of digits = 2 + 3 + 4 = 9 \n",
    "Result = 24 - 9 = 15\n",
    "\n",
    "Example 2:\n",
    "\n",
    "Input: n = 4421\n",
    "Output: 21\n",
    "Explanation: \n",
    "Product of digits = 4 * 4 * 2 * 1 = 32 \n",
    "Sum of digits = 4 + 4 + 2 + 1 = 11 \n",
    "Result = 32 - 11 = 21"
   ]
  },
  {
   "cell_type": "code",
   "execution_count": 11,
   "metadata": {},
   "outputs": [
    {
     "name": "stdout",
     "output_type": "stream",
     "text": [
      "2\n",
      "sum: 2\n",
      "prod 2\n",
      "3\n",
      "sum: 5\n",
      "prod 6\n",
      "4\n",
      "sum: 9\n",
      "prod 24\n"
     ]
    },
    {
     "data": {
      "text/plain": [
       "15"
      ]
     },
     "execution_count": 11,
     "metadata": {},
     "output_type": "execute_result"
    }
   ],
   "source": [
    "def subtract_product_and_sum(n:int):\n",
    "    sum_n = 0\n",
    "    prod_n = 1\n",
    "\n",
    "    for i in str(n):\n",
    "        print(i)\n",
    "        sum_n += int(i)\n",
    "        prod_n *= int(i)\n",
    "        print(\"sum:\", sum_n)\n",
    "        print('prod', prod_n)\n",
    "\n",
    "    return prod_n - sum_n\n",
    "\n",
    "subtract_product_and_sum(234)"
   ]
  },
  {
   "cell_type": "markdown",
   "metadata": {},
   "source": [
    "Given two arrays arr1 and arr2, the elements of arr2 are distinct, and all elements in arr2 are also in arr1.\n",
    "\n",
    "Sort the elements of arr1 such that the relative ordering of items in arr1 are the same as in arr2. Elements that do not appear in arr2 should be placed at the end of arr1 in ascending order.\n",
    "\n",
    "Example 1:\n",
    "\n",
    "Input: arr1 = [2,3,1,3,2,4,6,7,9,2,19], arr2 = [2,1,4,3,9,6]\n",
    "Output: [2,2,2,1,4,3,3,9,6,7,19]\n",
    "\n",
    "Example 2:\n",
    "\n",
    "Input: arr1 = [28,6,22,8,44,17], arr2 = [22,28,8,6]\n",
    "Output: [22,28,8,6,17,44]"
   ]
  },
  {
   "cell_type": "code",
   "execution_count": 28,
   "metadata": {},
   "outputs": [
    {
     "name": "stdout",
     "output_type": "stream",
     "text": [
      "[7, 19]\n",
      "[]\n",
      "[2, 2, 3]\n",
      "[2, 1, 4, 3, 9, 6]\n"
     ]
    }
   ],
   "source": [
    "def relative_sort_array(arr1, arr2):\n",
    "    miss_val = []\n",
    "    complete = []\n",
    "\n",
    "    for i in arr2:\n",
    "        if i in arr1:\n",
    "            arr1.remove(i)\n",
    "\n",
    "    for i in arr1:\n",
    "        if i not in arr2:\n",
    "            miss_val.append(i)\n",
    "            arr1.remove(i)\n",
    "\n",
    "    list.sort(arr1)\n",
    "    list.sort(miss_val)\n",
    "    print(miss_val)\n",
    "    print(complete)\n",
    "    print(arr1)\n",
    "    print(arr2)\n",
    "\n",
    "relative_sort_array([2,3,1,3,2,4,6,7,9,2,19], [2,1,4,3,9,6])"
   ]
  },
  {
   "cell_type": "markdown",
   "metadata": {},
   "source": [
    "The array-form of an integer num is an array representing its digits in left to right order.\n",
    "\n",
    "For example, for num = 1321, the array form is [1,3,2,1].\n",
    "Given num, the array-form of an integer, and an integer k, return the array-form of the integer num + k.\n",
    "\n",
    "Example 1:\n",
    "\n",
    "Input: num = [1,2,0,0], k = 34\n",
    "Output: [1,2,3,4]\n",
    "Explanation: 1200 + 34 = 1234\n",
    "\n",
    "Example 2:\n",
    "\n",
    "Input: num = [2,7,4], k = 181\n",
    "Output: [4,5,5]\n",
    "Explanation: 274 + 181 = 455"
   ]
  },
  {
   "cell_type": "code",
   "execution_count": 13,
   "metadata": {},
   "outputs": [
    {
     "data": {
      "text/plain": [
       "[1, 2, 3, 4]"
      ]
     },
     "execution_count": 13,
     "metadata": {},
     "output_type": "execute_result"
    }
   ],
   "source": [
    "def add_to_array_form(num, k:int):\n",
    "    num_int = int(\"\".join([str(i) for i in num]))\n",
    "    num_int += k\n",
    "    return [int(i) for i in str(num_int)]\n",
    "\n",
    "add_to_array_form([1, 2, 0, 0], 34)"
   ]
  },
  {
   "cell_type": "markdown",
   "metadata": {},
   "source": [
    "Given a string s, reverse the string according to the following rules:\n",
    "\n",
    "All the characters that are not English letters remain in the same position.\n",
    "All the English letters (lowercase or uppercase) should be reversed.\n",
    "Return s after reversing it.\n",
    "\n",
    "Example 1:\n",
    "\n",
    "Input: s = \"ab-cd\"\n",
    "Output: \"dc-ba\"\n",
    "\n",
    "Example 2:\n",
    "\n",
    "Input: s = \"a-bC-dEf-ghIj\"\n",
    "Output: \"j-Ih-gfE-dCba\""
   ]
  },
  {
   "cell_type": "code",
   "execution_count": 24,
   "metadata": {},
   "outputs": [
    {
     "name": "stdout",
     "output_type": "stream",
     "text": [
      "['a', 'b', '-']\n",
      "['d', 'c', '-']\n"
     ]
    }
   ],
   "source": [
    "def reverse_only_letters(s:str):\n",
    "    lst = [i for i in s]\n",
    "    ans = []\n",
    "    for i in lst:\n",
    "        if i.isalpha():\n",
    "            ans.append(lst.pop())\n",
    "        else:\n",
    "            ans.append(i)\n",
    "    print(lst)\n",
    "    print(ans)\n",
    "reverse_only_letters('ab-cd')"
   ]
  },
  {
   "cell_type": "markdown",
   "metadata": {},
   "source": [
    "Write a function that reverses a string. The input string is given as an array of characters s.\n",
    "\n",
    "You must do this by modifying the input array in-place with O(1) extra memory.\n",
    "\n",
    "Example 1:\n",
    "Input: s = [\"h\",\"e\",\"l\",\"l\",\"o\"]\n",
    "Output: [\"o\",\"l\",\"l\",\"e\",\"h\"]\n",
    "\n",
    "Example 2:\n",
    "Input: s = [\"H\",\"a\",\"n\",\"n\",\"a\",\"h\"]\n",
    "Output: [\"h\",\"a\",\"n\",\"n\",\"a\",\"H\"]"
   ]
  },
  {
   "cell_type": "code",
   "execution_count": 6,
   "metadata": {},
   "outputs": [
    {
     "data": {
      "text/plain": [
       "['o', 'l', 'l', 'e', 'h']"
      ]
     },
     "execution_count": 6,
     "metadata": {},
     "output_type": "execute_result"
    }
   ],
   "source": [
    "def reverse_string(s):\n",
    "    s[:] = [i for i in s[::-1]]\n",
    "    return s\n",
    "    \n",
    "reverse_string([\"h\",\"e\",\"l\",\"l\",\"o\"])"
   ]
  },
  {
   "cell_type": "markdown",
   "metadata": {},
   "source": [
    "You are given a string text of words that are placed among some number of spaces. Each word consists of one or more lowercase English letters and are separated by at least one space. It's guaranteed that text contains at least one word.\n",
    "\n",
    "Rearrange the spaces so that there is an equal number of spaces between every pair of adjacent words and that number is maximized. If you cannot redistribute all the spaces equally, place the extra spaces at the end, meaning the returned string should be the same length as text.\n",
    "\n",
    "Return the string after rearranging the spaces.\n",
    "\n",
    "Example 1:\n",
    "\n",
    "Input: text = \"  this   is  a sentence \"\n",
    "Output: \"this   is   a   sentence\"\n",
    "Explanation: There are a total of 9 spaces and 4 words. We can evenly divide the 9 spaces between the words: 9 / (4-1) = 3 spaces.\n",
    "\n",
    "Example 2:\n",
    "\n",
    "Input: text = \" practice   makes   perfect\"\n",
    "Output: \"practice   makes   perfect \"\n",
    "Explanation: There are a total of 7 spaces and 3 words. 7 / (3-1) = 3 spaces plus 1 extra space. We place this extra space at the end of the string."
   ]
  },
  {
   "cell_type": "code",
   "execution_count": 20,
   "metadata": {},
   "outputs": [
    {
     "name": "stdout",
     "output_type": "stream",
     "text": [
      "practice   makes   perfect \n",
      "['practice', 'makes', 'perfect']\n",
      "7\n"
     ]
    }
   ],
   "source": [
    "def reorder_spaces(text):\n",
    "    words = text.split()\n",
    "    white_spaces = text.count(' ')\n",
    "    out = words[0]\n",
    "    for i in words[1:]:\n",
    "        out += (' ' * (white_spaces // (len(words) - 1)))\n",
    "        out += i\n",
    "    out += (' ' * (white_spaces % (len(words) - 1)))\n",
    "\n",
    "reorder_spaces(\" practice   makes   perfect\")"
   ]
  },
  {
   "cell_type": "markdown",
   "metadata": {},
   "source": [
    "Given two non-negative integers low and high. Return the count of odd numbers between low and high (inclusive).\n",
    "\n",
    "Example 1:\n",
    "\n",
    "Input: low = 3, high = 7\n",
    "Output: 3\n",
    "Explanation: The odd numbers between 3 and 7 are [3,5,7].\n",
    "\n",
    "Example 2:\n",
    "\n",
    "Input: low = 8, high = 10\n",
    "Output: 1\n",
    "Explanation: The odd numbers between 8 and 10 are [9]."
   ]
  },
  {
   "cell_type": "code",
   "execution_count": 27,
   "metadata": {},
   "outputs": [
    {
     "data": {
      "text/plain": [
       "[3, 5, 7, 9, 11, 13, 15, 17]"
      ]
     },
     "execution_count": 27,
     "metadata": {},
     "output_type": "execute_result"
    }
   ],
   "source": [
    "def count_odds(low, high):\n",
    "    out = [low]\n",
    "    for i in range(low + 2, high, 2):\n",
    "        out.append(i)\n",
    "    out.append(high)\n",
    "    return out\n",
    "\n",
    "count_odds(3, 17)"
   ]
  },
  {
   "cell_type": "markdown",
   "metadata": {},
   "source": [
    "Given the head of a singly linked list, return the middle node of the linked list.\n",
    "\n",
    "If there are two middle nodes, return the second middle node.\n",
    "\n",
    "Example 1:\n",
    "\n",
    "Input: head = [1,2,3,4,5]\n",
    "Output: [3,4,5]\n",
    "Explanation: The middle node of the list is node 3.\n",
    "\n",
    "Example 2:\n",
    "\n",
    "Input: head = [1,2,3,4,5,6]\n",
    "Output: [4,5,6]\n",
    "Explanation: Since the list has two middle nodes with values 3 and 4, we return the second one."
   ]
  },
  {
   "cell_type": "code",
   "execution_count": null,
   "metadata": {},
   "outputs": [],
   "source": [
    "class Node:\n",
    "    def __init__(self, val=0, next=None):\n",
    "        self.val = val\n",
    "        self.next = next\n",
    "\n",
    "def middle_node(head):\n",
    "    "
   ]
  }
 ],
 "metadata": {
  "interpreter": {
   "hash": "669f5abd92f1a410df15b0643b9f42360e277a412fc08ae8bc7d7911cf7e8f3d"
  },
  "kernelspec": {
   "display_name": "Python 3.10.2 64-bit",
   "language": "python",
   "name": "python3"
  },
  "language_info": {
   "codemirror_mode": {
    "name": "ipython",
    "version": 3
   },
   "file_extension": ".py",
   "mimetype": "text/x-python",
   "name": "python",
   "nbconvert_exporter": "python",
   "pygments_lexer": "ipython3",
   "version": "3.10.2"
  },
  "orig_nbformat": 4
 },
 "nbformat": 4,
 "nbformat_minor": 2
}
