{
 "cells": [
  {
   "cell_type": "markdown",
   "metadata": {},
   "source": [
    "Given an integer number n, return the difference between the product of its digits and the sum of its digits.\n",
    "\n",
    "Example 1:\n",
    "\n",
    "Input: n = 234\n",
    "Output: 15 \n",
    "Explanation: \n",
    "Product of digits = 2 * 3 * 4 = 24 \n",
    "Sum of digits = 2 + 3 + 4 = 9 \n",
    "Result = 24 - 9 = 15\n",
    "\n",
    "Example 2:\n",
    "\n",
    "Input: n = 4421\n",
    "Output: 21\n",
    "Explanation: \n",
    "Product of digits = 4 * 4 * 2 * 1 = 32 \n",
    "Sum of digits = 4 + 4 + 2 + 1 = 11 \n",
    "Result = 32 - 11 = 21"
   ]
  },
  {
   "cell_type": "code",
   "execution_count": 11,
   "metadata": {},
   "outputs": [
    {
     "name": "stdout",
     "output_type": "stream",
     "text": [
      "2\n",
      "sum: 2\n",
      "prod 2\n",
      "3\n",
      "sum: 5\n",
      "prod 6\n",
      "4\n",
      "sum: 9\n",
      "prod 24\n"
     ]
    },
    {
     "data": {
      "text/plain": [
       "15"
      ]
     },
     "execution_count": 11,
     "metadata": {},
     "output_type": "execute_result"
    }
   ],
   "source": [
    "def subtract_product_and_sum(n:int):\n",
    "    sum_n = 0\n",
    "    prod_n = 1\n",
    "\n",
    "    for i in str(n):\n",
    "        print(i)\n",
    "        sum_n += int(i)\n",
    "        prod_n *= int(i)\n",
    "        print(\"sum:\", sum_n)\n",
    "        print('prod', prod_n)\n",
    "\n",
    "    return prod_n - sum_n\n",
    "\n",
    "subtract_product_and_sum(234)"
   ]
  },
  {
   "cell_type": "markdown",
   "metadata": {},
   "source": [
    "Given two arrays arr1 and arr2, the elements of arr2 are distinct, and all elements in arr2 are also in arr1.\n",
    "\n",
    "Sort the elements of arr1 such that the relative ordering of items in arr1 are the same as in arr2. Elements that do not appear in arr2 should be placed at the end of arr1 in ascending order.\n",
    "\n",
    "Example 1:\n",
    "\n",
    "Input: arr1 = [2,3,1,3,2,4,6,7,9,2,19], arr2 = [2,1,4,3,9,6]\n",
    "Output: [2,2,2,1,4,3,3,9,6,7,19]\n",
    "\n",
    "Example 2:\n",
    "\n",
    "Input: arr1 = [28,6,22,8,44,17], arr2 = [22,28,8,6]\n",
    "Output: [22,28,8,6,17,44]"
   ]
  },
  {
   "cell_type": "code",
   "execution_count": 28,
   "metadata": {},
   "outputs": [
    {
     "name": "stdout",
     "output_type": "stream",
     "text": [
      "[7, 19]\n",
      "[]\n",
      "[2, 2, 3]\n",
      "[2, 1, 4, 3, 9, 6]\n"
     ]
    }
   ],
   "source": [
    "def relative_sort_array(arr1, arr2):\n",
    "    miss_val = []\n",
    "    complete = []\n",
    "\n",
    "    for i in arr2:\n",
    "        if i in arr1:\n",
    "            arr1.remove(i)\n",
    "\n",
    "    for i in arr1:\n",
    "        if i not in arr2:\n",
    "            miss_val.append(i)\n",
    "            arr1.remove(i)\n",
    "\n",
    "    list.sort(arr1)\n",
    "    list.sort(miss_val)\n",
    "    print(miss_val)\n",
    "    print(complete)\n",
    "    print(arr1)\n",
    "    print(arr2)\n",
    "\n",
    "relative_sort_array([2,3,1,3,2,4,6,7,9,2,19], [2,1,4,3,9,6])"
   ]
  }
 ],
 "metadata": {
  "interpreter": {
   "hash": "669f5abd92f1a410df15b0643b9f42360e277a412fc08ae8bc7d7911cf7e8f3d"
  },
  "kernelspec": {
   "display_name": "Python 3.10.2 64-bit",
   "language": "python",
   "name": "python3"
  },
  "language_info": {
   "codemirror_mode": {
    "name": "ipython",
    "version": 3
   },
   "file_extension": ".py",
   "mimetype": "text/x-python",
   "name": "python",
   "nbconvert_exporter": "python",
   "pygments_lexer": "ipython3",
   "version": "3.10.2"
  },
  "orig_nbformat": 4
 },
 "nbformat": 4,
 "nbformat_minor": 2
}
