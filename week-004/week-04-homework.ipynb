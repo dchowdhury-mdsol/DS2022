{
  "nbformat": 4,
  "nbformat_minor": 0,
  "metadata": {
    "kernelspec": {
      "display_name": "Python 3 (ipykernel)",
      "language": "python",
      "name": "python3"
    },
    "language_info": {
      "codemirror_mode": {
        "name": "ipython",
        "version": 3
      },
      "file_extension": ".py",
      "mimetype": "text/x-python",
      "name": "python",
      "nbconvert_exporter": "python",
      "pygments_lexer": "ipython3",
      "version": "3.8.2"
    },
    "colab": {
      "name": "week-04-homework.ipynb",
      "provenance": []
    }
  },
  "cells": [
    {
      "cell_type": "markdown",
      "metadata": {
        "id": "BADuAQW8I89X"
      },
      "source": [
        "<div style=\"background: #000;\n",
        "            color: #FFF;\n",
        "            margin: 0px;\n",
        "                padding: 10px 0px 20px 0px;\n",
        "            text-align: center; \n",
        "                \">\n",
        "    <h1>Week 4 - Homework</h1>\n",
        "</div>\n",
        "\n",
        "<hr>\n",
        "<pre style=\"text-align: center;\">\n",
        "<h3>Due Tuesday before class time.</h3>\n",
        "Be prepared to present Exercise 1 and 2 on Tuesday.\n",
        "Be prepared to present Exercise 3 and 4 on Tuesday.\n",
        "</pre>\n",
        "<hr>\n"
      ]
    },
    {
      "cell_type": "markdown",
      "metadata": {
        "id": "ycH7yqC4I89a"
      },
      "source": [
        "# Exercise 1\n",
        "\n",
        "Create a function that takes both postional arguments and a keyword arguments. "
      ]
    },
    {
      "cell_type": "code",
      "metadata": {
        "id": "jMFRYUWkI89a"
      },
      "source": [
        "def func(a, b, c=None):\n",
        "  print(a, b, c)\n",
        "func(1, 2, 3)\n",
        "func(1, 2)"
      ],
      "execution_count": null,
      "outputs": []
    },
    {
      "cell_type": "markdown",
      "metadata": {
        "id": "SmzqLAg9I89b"
      },
      "source": [
        "# Exercise 2\n",
        "\n",
        "Fix the following function so that it takes an arbitrary number of arguments. Demonstrate this function works by unpacking `lst` into the function as 11 arguements."
      ]
    },
    {
      "cell_type": "code",
      "metadata": {
        "id": "cIgEjERjI89b",
        "outputId": "19a7e09b-023a-4dc8-854a-d80d42ca2f6f",
        "colab": {
          "base_uri": "https://localhost:8080/"
        }
      },
      "source": [
        "lst = [1, 2, 3, 4, 5, 6, 7, 8, 9, 10, 11]\n",
        "\n",
        "def values_to_string(*lst):\n",
        "    new_list = []\n",
        "    for i in lst:\n",
        "        new_list.append(str(i))\n",
        "    return new_list\n",
        "\n",
        "values_to_string(lst)"
      ],
      "execution_count": 13,
      "outputs": [
        {
          "output_type": "execute_result",
          "data": {
            "text/plain": [
              "['[1, 2, 3, 4, 5, 6, 7, 8, 9, 10, 11]']"
            ]
          },
          "metadata": {},
          "execution_count": 13
        }
      ]
    },
    {
      "cell_type": "markdown",
      "metadata": {
        "id": "WgDdWV3KI89c"
      },
      "source": [
        "# Exercise 3\n",
        "\n",
        "Write a function that has an algorithm that is worst case 0(n)."
      ]
    },
    {
      "cell_type": "code",
      "metadata": {
        "id": "RtaWlFlKI89d",
        "outputId": "a222bbdb-2422-4404-ea6f-2e036d8b531e",
        "colab": {
          "base_uri": "https://localhost:8080/"
        }
      },
      "source": [
        "def linear_search(data, value):\n",
        "  for i in range(len(data)):\n",
        "    if value == data[i]:\n",
        "      return i\n",
        "  raise ValueError(\"Value not found.\")\n",
        "\n",
        "data = [1, 2, 3, 4, 5, 6, 7, 8, 9, 10]\n",
        "print(linear_search(data, 7))"
      ],
      "execution_count": 44,
      "outputs": [
        {
          "output_type": "stream",
          "name": "stdout",
          "text": [
            "6\n"
          ]
        }
      ]
    },
    {
      "cell_type": "markdown",
      "metadata": {
        "id": "qFBGd8zVI89d"
      },
      "source": [
        "# Exercise 4\n",
        "\n",
        "Write a function called `summer` that takes an arbitrary number of keyword arguments and then adds any arguments that are ints/floats to produce a sum.\n",
        "\n",
        "Hint:  \n",
        "`summer(**{a=True, b=1})` would return 1.   \n",
        "`summer(**{c=3, d=\"4\" })` would return 3."
      ]
    },
    {
      "cell_type": "code",
      "metadata": {
        "id": "266E2seBI89e",
        "outputId": "4a579457-2968-4204-e6a9-87034d969bc1",
        "colab": {
          "base_uri": "https://localhost:8080/"
        }
      },
      "source": [
        "def summer(**kwargs):\n",
        "  sum = 0;\n",
        "  for kwarg in kwargs.values():\n",
        "    if type(kwarg) == int:\n",
        "      sum += kwarg\n",
        "    if type(kwarg) == float:\n",
        "      sum += kwarg\n",
        "  return \"Sum:\", sum\n",
        "\n",
        "print(summer(a=True, b=1))\n",
        "print(summer(c=3, d=\"4\" ))"
      ],
      "execution_count": 42,
      "outputs": [
        {
          "output_type": "stream",
          "name": "stdout",
          "text": [
            "('Sum:', 1)\n",
            "('Sum:', 3)\n"
          ]
        }
      ]
    },
    {
      "cell_type": "markdown",
      "metadata": {
        "id": "VkobTwfVI89e"
      },
      "source": [
        "# Bonus\n",
        "\n",
        "Create a function that returns a lambda function. Show how it can be used to create new functions. Can you turn this into a decorator?\n",
        "\n",
        "Hint: see example from `week-04-class-02.ipynb` with the `mytripler` function"
      ]
    },
    {
      "cell_type": "code",
      "metadata": {
        "id": "l7yoXaY_I89e",
        "outputId": "ae38e5b4-28ac-4faf-9b9f-f738b3f1889b",
        "colab": {
          "base_uri": "https://localhost:8080/"
        }
      },
      "source": [
        "def func(n):\n",
        "  return lambda a : a * n\n",
        "\n",
        "test = func(3)\n",
        "\n",
        "print(test(5))"
      ],
      "execution_count": 45,
      "outputs": [
        {
          "output_type": "stream",
          "name": "stdout",
          "text": [
            "15\n"
          ]
        }
      ]
    }
  ]
}