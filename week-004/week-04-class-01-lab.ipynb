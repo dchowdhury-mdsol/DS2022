{
  "nbformat": 4,
  "nbformat_minor": 0,
  "metadata": {
    "kernelspec": {
      "display_name": "Python 3 (ipykernel)",
      "language": "python",
      "name": "python3"
    },
    "language_info": {
      "codemirror_mode": {
        "name": "ipython",
        "version": 3
      },
      "file_extension": ".py",
      "mimetype": "text/x-python",
      "name": "python",
      "nbconvert_exporter": "python",
      "pygments_lexer": "ipython3",
      "version": "3.8.2"
    },
    "colab": {
      "name": "week-04-class-01-lab.ipynb",
      "provenance": []
    }
  },
  "cells": [
    {
      "cell_type": "markdown",
      "metadata": {
        "id": "S-7LBzn7PARe"
      },
      "source": [
        "<div style=\"background: #000;\n",
        "            color: #FFF;\n",
        "            margin: 0px;\n",
        "                padding: 10px 0px 20px 0px;\n",
        "            text-align: center; \n",
        "                \">\n",
        "    <h1>Lab</h1>\n",
        "</div>\n"
      ]
    },
    {
      "cell_type": "markdown",
      "metadata": {
        "id": "kZmaTMXHPARf"
      },
      "source": [
        "# Question 1 \n",
        "\n",
        "We'd like to create a function that takes a number and outputs the number with it's ordinal indictator (e.g. 1 -> 1st, 2 -> 2nd, and so on).\n",
        "\n",
        "Walk us through the steps we might need to take. DO NOT write any code. Try writing what we call \"pseudocode\"."
      ]
    },
    {
      "cell_type": "markdown",
      "metadata": {
        "id": "sJBC52mSPARg"
      },
      "source": [
        "# Exercise 1\n",
        "\n",
        "Create a function that takes two parameters and returns a list."
      ]
    },
    {
      "cell_type": "code",
      "metadata": {
        "id": "8zRpsBFIPARg",
        "outputId": "19391790-e63a-407b-f088-1bd820857806",
        "colab": {
          "base_uri": "https://localhost:8080/"
        }
      },
      "source": [
        "def myFunction(val1, val2):\n",
        "  my_list = [val1, val2]\n",
        "  return my_list\n",
        "\n",
        "print(myFunction(2, \"red\"))"
      ],
      "execution_count": 2,
      "outputs": [
        {
          "output_type": "stream",
          "name": "stdout",
          "text": [
            "[2, 'red']\n"
          ]
        }
      ]
    },
    {
      "cell_type": "markdown",
      "metadata": {
        "id": "zQ9RjqpCPARg"
      },
      "source": [
        "# Exercise 2\n"
      ]
    },
    {
      "cell_type": "markdown",
      "metadata": {
        "id": "h8ZgIisjPARh"
      },
      "source": [
        "Create a function that will return the list of square roots from numbers from 1 to `n` (where `n` is the input)\n",
        "\n"
      ]
    },
    {
      "cell_type": "code",
      "metadata": {
        "id": "Fhp7M1U7PUO4",
        "outputId": "f654890d-0825-4600-9fc9-d6032af27787",
        "colab": {
          "base_uri": "https://localhost:8080/"
        }
      },
      "source": [
        "import numpy as np\n",
        "\n",
        "def squareRoots(n):\n",
        "  my_list = []\n",
        "  for i in range(1, n + 1):\n",
        "    my_list.append(np.sqrt(i))\n",
        "  \n",
        "  return my_list\n",
        "\n",
        "squareRoots(5)"
      ],
      "execution_count": 16,
      "outputs": [
        {
          "output_type": "execute_result",
          "data": {
            "text/plain": [
              "[1.0, 1.4142135623730951, 1.7320508075688772, 2.0, 2.23606797749979]"
            ]
          },
          "metadata": {},
          "execution_count": 16
        }
      ]
    },
    {
      "cell_type": "markdown",
      "metadata": {
        "id": "XHvt8JhbPARh"
      },
      "source": [
        "# Exercise 3\n",
        "\n",
        "Create a function that takes `n` as the input and returns a `n`x`n` matrix where all the values are zeros. "
      ]
    },
    {
      "cell_type": "code",
      "metadata": {
        "id": "cGtLw2VFPARh",
        "outputId": "41448e96-aa97-4714-9d8e-ff27142120ac",
        "colab": {
          "base_uri": "https://localhost:8080/"
        }
      },
      "source": [
        "import numpy as np\n",
        "\n",
        "def matrix(n):\n",
        "  return np.zeros((n, n))\n",
        "\n",
        "matrix(3)"
      ],
      "execution_count": 9,
      "outputs": [
        {
          "output_type": "stream",
          "name": "stdout",
          "text": [
            "[[0. 0. 0.]\n",
            " [0. 0. 0.]\n",
            " [0. 0. 0.]]\n"
          ]
        }
      ]
    },
    {
      "cell_type": "markdown",
      "metadata": {
        "id": "kcWP5tqsPARh"
      },
      "source": [
        "# Exercise 4\n",
        "\n",
        "Find an exercise from a previous lab and convert it into a function demonstrating the ability to define the function and call it using the correct arguments/keywords"
      ]
    },
    {
      "cell_type": "code",
      "metadata": {
        "id": "Z3Qwfr0bPARh"
      },
      "source": [
        "import random\n",
        "\n",
        "def numberSearch(num):\n",
        "  number = random.randint(0, 100)\n",
        "  while number != num:\n",
        "    number = random.randint(0, 100)\n",
        "    print(\"Current number in loop:\", number)\n",
        "  print(\"Number found, loop exited...\")\n",
        "\n",
        "user = int(input(\"Enter a number 0 - 100 to search: \"))\n",
        "numberSearch(user)"
      ],
      "execution_count": null,
      "outputs": []
    },
    {
      "cell_type": "markdown",
      "metadata": {
        "id": "ncneO9BpPARh"
      },
      "source": [
        "# Bonus:\n",
        "    \n",
        "Create a function that has a function within. Demonstrate how you might use this function in a real world application."
      ]
    },
    {
      "cell_type": "code",
      "metadata": {
        "id": "d822csGjPARi",
        "outputId": "aa5aefd6-45cb-4690-ad17-e53e6912b7bf",
        "colab": {
          "base_uri": "https://localhost:8080/",
          "height": 35
        }
      },
      "source": [
        "def createTriangle(val):\n",
        "  triangle = []\n",
        "  while val >= 0:\n",
        "    triangle.append(val)\n",
        "    print(triangle)\n",
        "    val -= 1\n",
        "\n",
        "def testFunction (element):\n",
        "  if type(element) == int:\n",
        "    createTriangle(element)\n",
        "  else:\n",
        "    return \"You did not pass an integer value.\"\n",
        "\n",
        "testFunction(\"red\")"
      ],
      "execution_count": 15,
      "outputs": [
        {
          "output_type": "execute_result",
          "data": {
            "application/vnd.google.colaboratory.intrinsic+json": {
              "type": "string"
            },
            "text/plain": [
              "'You did not pass an integer value.'"
            ]
          },
          "metadata": {},
          "execution_count": 15
        }
      ]
    }
  ]
}