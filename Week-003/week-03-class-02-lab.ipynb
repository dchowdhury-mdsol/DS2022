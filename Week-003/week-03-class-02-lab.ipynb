{
  "nbformat": 4,
  "nbformat_minor": 0,
  "metadata": {
    "kernelspec": {
      "display_name": "Python 3",
      "language": "python",
      "name": "python3"
    },
    "language_info": {
      "codemirror_mode": {
        "name": "ipython",
        "version": 3
      },
      "file_extension": ".py",
      "mimetype": "text/x-python",
      "name": "python",
      "nbconvert_exporter": "python",
      "pygments_lexer": "ipython3",
      "version": "3.9.0"
    },
    "colab": {
      "name": "week-03-class-02-lab.ipynb",
      "provenance": []
    }
  },
  "cells": [
    {
      "cell_type": "markdown",
      "metadata": {
        "id": "vO_Jv9roaZMh"
      },
      "source": [
        "<div style=\"background: #000;\n",
        "            color: #FFF;\n",
        "            margin: 0px;\n",
        "                padding: 10px 0px 20px 0px;\n",
        "            text-align: center; \n",
        "                \">\n",
        "    <h1>Week 3 - Class -2 - Lab</h1>\n",
        "</div>\n"
      ]
    },
    {
      "cell_type": "markdown",
      "metadata": {
        "id": "htRzPbgUaZMk"
      },
      "source": [
        "# Question 1: \n",
        "\n",
        "In the future we will be using different datasets, how do you think we can utilize condtionals and control structures to clean, sort, and separate data?"
      ]
    },
    {
      "cell_type": "markdown",
      "metadata": {
        "id": "e8dazru7aZMk"
      },
      "source": [
        "# Exercise 1:\n",
        "\n",
        "Given any integer, create a conditional that checks if the integer is 3 digits. Print \"It's 3 digits\" if the number is three digits, print \"it's not three digits\" otherwise\n"
      ]
    },
    {
      "cell_type": "code",
      "metadata": {
        "id": "9tOgAXQkaZMk"
      },
      "source": [
        "num = 362"
      ],
      "execution_count": 1,
      "outputs": []
    },
    {
      "cell_type": "code",
      "metadata": {
        "id": "F7-YsOSEaZMl",
        "outputId": "32640a90-7a5e-491c-ce57-95632547444b",
        "colab": {
          "base_uri": "https://localhost:8080/"
        }
      },
      "source": [
        "if 99 < num < 1000:\n",
        "  print(\"It's 3 digits.\")\n",
        "else:\n",
        "  print(\"It's not three digits.\")"
      ],
      "execution_count": 2,
      "outputs": [
        {
          "output_type": "stream",
          "name": "stdout",
          "text": [
            "It's 3 digits.\n"
          ]
        }
      ]
    },
    {
      "cell_type": "markdown",
      "metadata": {
        "id": "u4oCq0dGaZMl"
      },
      "source": [
        "# Exercise 2:\n",
        "\n",
        "Write a conditional to apply the correct amount of tax depending on how much is spent on a purchase.\n",
        "\n",
        "        **Cost price**                                                        **Tax**\n",
        "        Greater than 100000                                                    15 %\n",
        "        Greater than 50000 and less than or equal to 100000                    10%\n",
        "        less than or equal to 50000                                            5%\n",
        "        \n",
        "Print the total amount including tax"
      ]
    },
    {
      "cell_type": "code",
      "metadata": {
        "id": "zHqQeyA2aZMm",
        "outputId": "44d94390-19d5-43ea-c7a4-c58aae820d3e",
        "colab": {
          "base_uri": "https://localhost:8080/"
        }
      },
      "source": [
        "purchase = input(\"How much was the purchase?: \")\n",
        "\n",
        "if float(purchase) > 100000:\n",
        "  total = float(purchase) * 1.15\n",
        "  print('Total after taxes is:', \"{:.2f}\".format(total))\n",
        "elif float(purchase) > 50000:\n",
        "  total = float(purchase) * 1.1\n",
        "  print('Total after taxes is:', \"{:.2f}\".format(total))\n",
        "else:\n",
        "  total = float(purchase) * 1.05\n",
        "  print('Total after taxes is:', \"{:.2f}\".format(total))"
      ],
      "execution_count": 17,
      "outputs": [
        {
          "output_type": "stream",
          "name": "stdout",
          "text": [
            "How much was the purchase?: 999993\n",
            "Total after taxes is: 1149991.95\n"
          ]
        }
      ]
    },
    {
      "cell_type": "markdown",
      "metadata": {
        "id": "bqiCEzyVaZMm"
      },
      "source": [
        "# Exercise 3\n",
        "\n",
        "Provided a dictionary of users, take an input value and create a conditonal to determine if the password enter matches the user's password.\n",
        "\n",
        "print the users name, admin status and age\n",
        "\n",
        "If the user entered in the input is not in the users print \"Username/Password Incorrect\"\n",
        "\n",
        "If the password enter in the input is incorrect print \"Username/Password Incorrect\""
      ]
    },
    {
      "cell_type": "code",
      "metadata": {
        "id": "p91gv_p6aZMn"
      },
      "source": [
        "users = {\n",
        "    \"Joe\": {\n",
        "        \"is_admin\": False,\n",
        "        \"age\" : 22,\n",
        "        \"password\": \"newpassword1\"\n",
        "    },\n",
        "    \"Craig\": {\n",
        "        \"is_admin\": True,\n",
        "        \"age\" : 35,\n",
        "        \"password\": \"testword4321\"\n",
        "    },\n",
        "    \"Trixy\": {\n",
        "        \"is_admin\": False,\n",
        "        \"age\" : 18,\n",
        "        \"password\": \"catdoor2\"\n",
        "    },\n",
        "    \"Matt\": {\n",
        "        \"is_admin\": True,\n",
        "        \"age\" : 31,\n",
        "        \"password\": \"yoyo45alma\"\n",
        "    },\n",
        "    \"Tim\": {\n",
        "        \"is_admin\": False,\n",
        "        \"age\" : 27,\n",
        "        \"password\": \"p@$$w0rd!23\"\n",
        "    },\n",
        "}"
      ],
      "execution_count": 21,
      "outputs": []
    },
    {
      "cell_type": "code",
      "metadata": {
        "id": "yFtcN-T5aZMo",
        "outputId": "59c86136-20d4-4c41-d443-6e87b0d66217",
        "colab": {
          "base_uri": "https://localhost:8080/"
        }
      },
      "source": [
        "input_value = input(\"Enter User's name and password separated by a comma: \")\n",
        "username = input_value[:input_value.index(\",\")]\n",
        "password = input_value[input_value.index(',') + 1:].strip()\n",
        "user_found = False\n",
        "\n",
        "for key in users.keys():\n",
        "  if key == username:\n",
        "    for values in users.values():\n",
        "      for value in values.values():\n",
        "        if password == value:\n",
        "          print(\"Name: {name}, Admin Status: {status}, Age: {age}\".format(name= key, status= values.get('is_admin'), age= values.get('age')))\n",
        "          user_found = True\n",
        "\n",
        "if user_found == False:\n",
        "  print(\"Username/Password Incorrect\")"
      ],
      "execution_count": 66,
      "outputs": [
        {
          "output_type": "stream",
          "name": "stdout",
          "text": [
            "Enter User's name and password separated by a comma: Joe, newpassword1\n",
            "Name: Joe, Admin Status: False, Age: 22\n"
          ]
        }
      ]
    },
    {
      "cell_type": "code",
      "metadata": {
        "id": "AnL9Api0aZMo"
      },
      "source": [
        ""
      ],
      "execution_count": null,
      "outputs": []
    }
  ]
}