{
  "nbformat": 4,
  "nbformat_minor": 0,
  "metadata": {
    "kernelspec": {
      "display_name": "Python 3",
      "language": "python",
      "name": "python3"
    },
    "language_info": {
      "codemirror_mode": {
        "name": "ipython",
        "version": 3
      },
      "file_extension": ".py",
      "mimetype": "text/x-python",
      "name": "python",
      "nbconvert_exporter": "python",
      "pygments_lexer": "ipython3",
      "version": "3.9.0"
    },
    "colab": {
      "name": "week-03-homework.ipynb",
      "provenance": []
    }
  },
  "cells": [
    {
      "cell_type": "markdown",
      "metadata": {
        "id": "L55sc3LfGxeR"
      },
      "source": [
        "<div style=\"background: #000;\n",
        "            color: #FFF;\n",
        "            margin: 0px;\n",
        "                padding: 10px 0px 20px 0px;\n",
        "            text-align: center; \n",
        "                \">\n",
        "    <h1>Week 3 - Homework</h1>\n",
        "</div>\n",
        "\n",
        "<hr>\n",
        "\n",
        "Exercise 1 due Monday.  \n",
        "\n",
        "Exercise 2 due Tueday.\n",
        "\n",
        "Exercise 3 due Wednesday.\n",
        "<hr>"
      ]
    },
    {
      "cell_type": "markdown",
      "metadata": {
        "id": "8c3D0lZPGxeU"
      },
      "source": [
        "# Exercise 1\n",
        "\n",
        "Write a for loop that sums the values of the following list and appends the different values to the correct list.\n",
        "\n",
        "Remember what we learned about the value of an `int` and `str`.\n",
        "\n",
        "Hint: try one part before the other."
      ]
    },
    {
      "cell_type": "code",
      "metadata": {
        "id": "hfXxHS9LGxeV"
      },
      "source": [
        "# list to sum\n",
        "list_vals = [82,True,'d',False,'v',7301,False,1,True,'x','F','w','Q','f',True]\n",
        "#import hashlib;print(\"list_vals is correct\" if hashlib.md5(str(list_vals).encode()).hexdigest() == '867f5d64395c44f016668cc442fb650c' else \"list_vals is incorrect\")"
      ],
      "execution_count": 1,
      "outputs": []
    },
    {
      "cell_type": "code",
      "metadata": {
        "id": "PIL7xTroGxeW",
        "outputId": "cd9bdda7-d52c-4dac-a07b-c6e57247db34",
        "colab": {
          "base_uri": "https://localhost:8080/"
        }
      },
      "source": [
        "list_for_bools = []\n",
        "list_for_ints = []\n",
        "list_for_chars = []\n",
        "sum_of_all = 0\n",
        "\n",
        "for val in list_vals:\n",
        "  if type(val) == int:\n",
        "    list_for_ints.append(val)\n",
        "    sum_of_all += val\n",
        "  elif type(val) == bool:\n",
        "    list_for_bools.append(val)\n",
        "    sum_of_all += int(val)\n",
        "  else:\n",
        "    list_for_chars.append(val)\n",
        "    sum_of_all += ord(val)\n",
        "  \n",
        "\n",
        "\n",
        "# use the following to output your results:\n",
        "print(sum_of_all)\n",
        "print(list_for_bools)\n",
        "print(list_for_ints)\n",
        "print(list_for_chars)"
      ],
      "execution_count": 14,
      "outputs": [
        {
          "output_type": "stream",
          "name": "stdout",
          "text": [
            "8097\n",
            "[True, False, False, True, True]\n",
            "[82, 7301, 1]\n",
            "['d', 'v', 'x', 'F', 'w', 'Q', 'f']\n"
          ]
        }
      ]
    },
    {
      "cell_type": "markdown",
      "metadata": {
        "id": "xZoE1X9qGxeW"
      },
      "source": [
        "### Final Answer: \n",
        "`sum == 8097`  \n",
        "`len(list_for_bools) == 5`  \n",
        "`len(list_for_ints) == 3`   \n",
        "`len(list_for_ints) == 7`   "
      ]
    },
    {
      "cell_type": "markdown",
      "metadata": {
        "id": "xGHOhP3PGxeW"
      },
      "source": [
        "# Exercise 2\n",
        "\n",
        "Given a tuple of strings. Find the following value `x` and print it. The loop should end when `x` is found"
      ]
    },
    {
      "cell_type": "code",
      "metadata": {
        "id": "wLn4CNKjGxeX",
        "outputId": "c57e6efc-4969-44a8-9c75-63cbca10a17b",
        "colab": {
          "base_uri": "https://localhost:8080/"
        }
      },
      "source": [
        "x = '------'\n",
        "\n",
        "tuple_of_strings = ('steel', 'collect', 'capable', '------', 'shelter', 'language', 'mug', 'flowers')\n",
        "\n",
        "# enter your code here:\n",
        "\n",
        "found = False\n",
        "print(\"Searching...\")\n",
        "while found == False:\n",
        "  for item in tuple_of_strings:\n",
        "    print(\"Current item:\", item)\n",
        "    if item == x:\n",
        "      print(\"Item found!\")\n",
        "      found = True\n",
        "      break"
      ],
      "execution_count": 28,
      "outputs": [
        {
          "output_type": "stream",
          "name": "stdout",
          "text": [
            "Searching...\n",
            "Current item: steel\n",
            "Current item: collect\n",
            "Current item: capable\n",
            "Current item: ------\n",
            "Item found!\n"
          ]
        }
      ]
    },
    {
      "cell_type": "markdown",
      "metadata": {
        "id": "4MdjLMjOGxeX"
      },
      "source": [
        "# Exercise 3\n",
        "\n",
        "Create a game in python. \n",
        "\n",
        "Rules:  \n",
        "    1. You have 3 tries to guess a secret number.   \n",
        "    2. Each try you are prompted to input a number.  \n",
        "    3. You get a success message if you guess correctly and stop looping, else you subtract a try and go again.\n",
        "    "
      ]
    },
    {
      "cell_type": "code",
      "metadata": {
        "id": "YlvKGkGiGxeY",
        "outputId": "822ad6fa-b64c-440c-ba69-406efaf50d40",
        "colab": {
          "base_uri": "https://localhost:8080/"
        }
      },
      "source": [
        "import random as random\n",
        "##### use secret_number in your code but don't cheat\n",
        "secret_number = random.randint(0,3)\n",
        "user_guess = int(input(\"Guess a number 0 - 3: \"))\n",
        "num_guesses = 2\n",
        "\n",
        "while num_guesses > 0 and user_guess != secret_number:\n",
        "  print(\"Try again.\", num_guesses, \"guesses remaining.\")\n",
        "  user_guess = int(input(\"Guess another number 0 - 3: \"))\n",
        "  num_guesses -= 1\n",
        "  \n",
        "if user_guess == secret_number:\n",
        "  print(\"You guessed the correct number!\")\n",
        "else:\n",
        "  print(\"Better luck next time.\")    "
      ],
      "execution_count": 60,
      "outputs": [
        {
          "output_type": "stream",
          "name": "stdout",
          "text": [
            "Guess a number 0 - 3: 3\n",
            "Try again. 2 guesses remaining.\n",
            "Guess another number 0 - 3: 3\n",
            "Try again. 1 guesses remaining.\n",
            "Guess another number 0 - 3: 3\n",
            "Better luck next time.\n"
          ]
        }
      ]
    },
    {
      "cell_type": "markdown",
      "metadata": {
        "id": "37mfJVXXGxeZ"
      },
      "source": [
        "# Bonus Exercise\n",
        "Research List & Dict Comprehension and try these problems. Also leave a written explanation of both.\n",
        "\n",
        "a. \n",
        "Create a list comprehension that prints the following.\n",
        "```python\n",
        "[0, '*',2, '*', 4, '*', 6]\n",
        "\n",
        "```\n",
        "\n",
        "Hint: start from the most basic list comprehension  "
      ]
    },
    {
      "cell_type": "code",
      "metadata": {
        "id": "24jOnpfnGxeZ",
        "outputId": "6bfdfc09-6b5f-4855-fbcd-686f5a6b6e19",
        "colab": {
          "base_uri": "https://localhost:8080/"
        }
      },
      "source": [
        "List = [item for item in [0, '*', 2, '*', 4, '*', 6]]  # Copies each item in the iterable target list\n",
        "print(List)"
      ],
      "execution_count": 63,
      "outputs": [
        {
          "output_type": "stream",
          "name": "stdout",
          "text": [
            "[0, '*', 2, '*', 4, '*', 6]\n"
          ]
        }
      ]
    },
    {
      "cell_type": "markdown",
      "metadata": {
        "id": "1uhnjFd-GxeZ"
      },
      "source": [
        "b. Create a dict comprehension that prints the following:\n",
        "```python\n",
        "{'a': ['*', '*'], 'b': ['*', '*'],}\n",
        "\n",
        "```\n"
      ]
    },
    {
      "cell_type": "code",
      "metadata": {
        "id": "3QNgkumwGxeZ",
        "outputId": "f809d4ee-37f9-4601-9871-94c9f84d5e03",
        "colab": {
          "base_uri": "https://localhost:8080/"
        }
      },
      "source": [
        "Dictionary = {items: ['*', '*'] for items in ('a', 'b')} # Assigns the list ['*', '*'] to each item in the tuple ('a', 'b')\n",
        "print(Dictionary)"
      ],
      "execution_count": 68,
      "outputs": [
        {
          "output_type": "stream",
          "name": "stdout",
          "text": [
            "{'a': ['*', '*'], 'b': ['*', '*']}\n"
          ]
        }
      ]
    }
  ]
}