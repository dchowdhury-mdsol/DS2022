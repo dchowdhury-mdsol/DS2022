{
  "nbformat": 4,
  "nbformat_minor": 0,
  "metadata": {
    "interpreter": {
      "hash": "aee8b7b246df8f9039afb4144a1f6fd8d2ca17a180786b69acc140d282b71a49"
    },
    "kernelspec": {
      "display_name": "Python 3",
      "language": "python",
      "name": "python3"
    },
    "language_info": {
      "codemirror_mode": {
        "name": "ipython",
        "version": 3
      },
      "file_extension": ".py",
      "mimetype": "text/x-python",
      "name": "python",
      "nbconvert_exporter": "python",
      "pygments_lexer": "ipython3",
      "version": "3.9.0"
    },
    "colab": {
      "name": "week-03-class-03-lab.ipynb",
      "provenance": []
    }
  },
  "cells": [
    {
      "cell_type": "markdown",
      "metadata": {
        "id": "HTUlXQBXeRdN"
      },
      "source": [
        "<div style=\"background: #000;\n",
        "            color: #FFF;\n",
        "            margin: 0px;\n",
        "                padding: 10px 0px 20px 0px;\n",
        "            text-align: center; \n",
        "                \">\n",
        "    <h1>Week 3 - Class 3 - Lab</h1>\n",
        "</div>\n"
      ]
    },
    {
      "cell_type": "markdown",
      "metadata": {
        "id": "TJ2APZmyeRdQ"
      },
      "source": [
        "# Question 1\n",
        "\n",
        "In your own words, describe an example where a `while` loop would be useful."
      ]
    },
    {
      "cell_type": "markdown",
      "metadata": {
        "id": "qggUT-e_eRdR"
      },
      "source": [
        "# Exercise 1\n",
        "\n",
        "Create a list with two nested for loops that generate the following output:\n",
        "\n",
        "```\n",
        "[('T', 'T'), ('T', 'F'), ('F', 'T'), ('F', 'F')]\n",
        "\n",
        "```"
      ]
    },
    {
      "cell_type": "code",
      "metadata": {
        "id": "7ajREv9seRdR"
      },
      "source": [
        ""
      ],
      "execution_count": null,
      "outputs": []
    },
    {
      "cell_type": "markdown",
      "metadata": {
        "id": "hor45KRWeRdR"
      },
      "source": [
        "# Exercise 2 \n",
        "\n",
        "Using the following function, create a while loop that will take a variable `found` originally set to False, print \"still searching\" if not found and exit if the searching function returns True"
      ]
    },
    {
      "cell_type": "code",
      "metadata": {
        "id": "sdAhXlUjeRdS"
      },
      "source": [
        "import random\n",
        "\n",
        "def searching_function():\n",
        "    random_int = random.randint(0,5)\n",
        "    if random_int == 4:\n",
        "        print(\"we found it!\")\n",
        "        return True\n",
        "    else:\n",
        "        return False"
      ],
      "execution_count": 10,
      "outputs": []
    },
    {
      "cell_type": "code",
      "metadata": {
        "id": "9AkCkpQaeRdS",
        "outputId": "6a58b4d8-7489-474d-8e15-0d1a64d2287b",
        "colab": {
          "base_uri": "https://localhost:8080/"
        }
      },
      "source": [
        "# enter your while loop code in this cell, rearranging the already included statements\n",
        "#hint: look back in the notes from today's lecture\n",
        "\n",
        "found = False\n",
        "\n",
        "print(\"still searching\")\n",
        "\n",
        "while found != True:\n",
        "  searching_function()\n",
        "  if searching_function() == True:\n",
        "    found = True \n",
        "\n",
        "print(\"while loop completed\")"
      ],
      "execution_count": 40,
      "outputs": [
        {
          "output_type": "stream",
          "name": "stdout",
          "text": [
            "still searching\n",
            "we found it!\n",
            "we found it!\n",
            "while loop completed\n"
          ]
        }
      ]
    },
    {
      "cell_type": "markdown",
      "metadata": {
        "id": "mwvgAJKIeRdT"
      },
      "source": [
        "# Exercise 3\n",
        "\n",
        "Create a for loop that loops through the numbers from 0 to 100 printing them and exits the loop when it hits 25."
      ]
    },
    {
      "cell_type": "code",
      "metadata": {
        "id": "--xDmZu9eRdU",
        "outputId": "debad5ef-43d2-4a06-8a7b-a837c66f4059",
        "colab": {
          "base_uri": "https://localhost:8080/"
        }
      },
      "source": [
        "import random\n",
        "\n",
        "number = random.randint(0, 100)\n",
        "while number != 25:\n",
        "  number = random.randint(0, 100)\n",
        "  print(\"Current number in loop:\", number)\n",
        "print(\"Loop exited...\")"
      ],
      "execution_count": 5,
      "outputs": [
        {
          "output_type": "stream",
          "name": "stdout",
          "text": [
            "Current number in loop: 25\n",
            "Loop exited...\n"
          ]
        }
      ]
    },
    {
      "cell_type": "markdown",
      "metadata": {
        "id": "DkGCLotjeRdU"
      },
      "source": [
        "# Exercise 4\n",
        "\n",
        "Use one of the control structures we learned this week (if, for, and while) to output the following:\n",
        "```\n",
        "[[1],\n",
        " [1, 2],\n",
        " [1, 2, 3],\n",
        " [1, 2, 3, 4],\n",
        " [1, 2, 3, 4, 5],\n",
        " [1, 2, 3, 4, 5, 6],\n",
        " [1, 2, 3, 4, 5, 6, 7],\n",
        " [1, 2, 3, 4, 5, 6, 7, 8],\n",
        " [1, 2, 3, 4, 5, 6, 7, 8, 9],\n",
        " [1, 2, 3, 4, 5, 6, 7, 8, 9, 10],\n",
        " [1, 2, 3, 4, 5, 6, 7, 8, 9, 10, 11],\n",
        " [1, 2, 3, 4, 5, 6, 7, 8, 9, 10, 11, 12],\n",
        " [1, 2, 3, 4, 5, 6, 7, 8, 9, 10, 11, 12, 13],\n",
        " [1, 2, 3, 4, 5, 6, 7, 8, 9, 10, 11, 12, 13, 14],\n",
        " [1, 2, 3, 4, 5, 6, 7, 8, 9, 10, 11, 12, 13, 14, 15],\n",
        " [1, 2, 3, 4, 5, 6, 7, 8, 9, 10, 11, 12, 13, 14, 15, 16],\n",
        " [1, 2, 3, 4, 5, 6, 7, 8, 9, 10, 11, 12, 13, 14, 15, 16, 17],\n",
        " [1, 2, 3, 4, 5, 6, 7, 8, 9, 10, 11, 12, 13, 14, 15, 16, 17, 18],\n",
        " [1, 2, 3, 4, 5, 6, 7, 8, 9, 10, 11, 12, 13, 14, 15, 16, 17, 18, 19],\n",
        " [1, 2, 3, 4, 5, 6, 7, 8, 9, 10, 11, 12, 13, 14, 15, 16, 17, 18, 19, 20]]\n",
        " ```\n",
        " \n",
        "hint: while index is less than... \n"
      ]
    },
    {
      "cell_type": "code",
      "metadata": {
        "id": "IvUglwsdeRdU"
      },
      "source": [
        "index = 1\n",
        "i = []\n",
        "\n",
        "# enter code here\n",
        "while index <= 20:\n",
        "  i.append(index)\n",
        "  index = index + 1\n",
        "  print(i)"
      ],
      "execution_count": null,
      "outputs": []
    }
  ]
}