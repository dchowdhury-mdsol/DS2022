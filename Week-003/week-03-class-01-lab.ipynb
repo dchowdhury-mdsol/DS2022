{
  "nbformat": 4,
  "nbformat_minor": 0,
  "metadata": {
    "kernelspec": {
      "display_name": "Python 3",
      "language": "python",
      "name": "python3"
    },
    "language_info": {
      "codemirror_mode": {
        "name": "ipython",
        "version": 3
      },
      "file_extension": ".py",
      "mimetype": "text/x-python",
      "name": "python",
      "nbconvert_exporter": "python",
      "pygments_lexer": "ipython3",
      "version": "3.9.0"
    },
    "colab": {
      "name": "week-03-class-01-lab.ipynb",
      "provenance": []
    }
  },
  "cells": [
    {
      "cell_type": "markdown",
      "metadata": {
        "id": "C6PoBTTWMVip"
      },
      "source": [
        "<div style=\"background: #000;\n",
        "            color: #FFF;\n",
        "            margin: 0px;\n",
        "                padding: 10px 0px 20px 0px;\n",
        "            text-align: center; \n",
        "                \">\n",
        "    <h1>Week 3 - Class 1 - Lab</h1>\n",
        "</div>\n"
      ]
    },
    {
      "cell_type": "markdown",
      "metadata": {
        "id": "DqLezgH2MVis"
      },
      "source": [
        "# Question 1\n",
        "    \n",
        "Why do we need control structures and conditionals? Name one scenario we've encountered in previous assignments that could have benefitted from the use of these things. How would it have helped?"
      ]
    },
    {
      "cell_type": "markdown",
      "metadata": {
        "id": "bal7UT2fMVis"
      },
      "source": [
        "# Exercise 1\n",
        "\n",
        "Given the input variable, write conditional statements to return True if an element:\n",
        "* contains a string longer than 30.\n",
        "* is a number greater than 30.\n",
        "* is a string less than 30 characters containing a number.\n",
        "* otherwise store the value to a list."
      ]
    },
    {
      "cell_type": "code",
      "metadata": {
        "id": "pcXPSjILMVit",
        "outputId": "46537964-701b-4baa-c9f7-c3525326fa83",
        "colab": {
          "base_uri": "https://localhost:8080/"
        }
      },
      "source": [
        "var = input(\"Enter input: \")\n",
        "list_var = []\n",
        "\n",
        "if len(var) > 30:\n",
        "  print('type 1', True)\n",
        "\n",
        "elif len(var) < 30 and not var.isdigit:\n",
        "    for letters in  var:\n",
        "      if letters.isdigit():\n",
        "        print('type 2', True)\n",
        "\n",
        "elif int(var) > 30:\n",
        "  print('type 3', True)\n",
        "\n",
        "else: \n",
        "  list_var.append(var)\n",
        "  print(list_var)"
      ],
      "execution_count": 42,
      "outputs": [
        {
          "output_type": "stream",
          "name": "stdout",
          "text": [
            "Enter input: 1\n",
            "['1']\n"
          ]
        }
      ]
    },
    {
      "cell_type": "markdown",
      "metadata": {
        "id": "-Rf2HT-KMVit"
      },
      "source": [
        "# Exercise 2\n",
        "\n",
        "Create a \"switch\" statement that takes a number and prints \"fizz\" if the number is greater than 0 **and** even, \"buzz\" if greater than 0 and odd, an absolute value of the number if negative, \"ZERO\" if 0 and \"not a number\" otherwise. \n"
      ]
    },
    {
      "cell_type": "code",
      "metadata": {
        "id": "4VnjZOHOMViw",
        "outputId": "6f0c905e-3209-459c-dbdd-72db855a5040",
        "colab": {
          "base_uri": "https://localhost:8080/"
        }
      },
      "source": [
        "#put your code here:\n",
        "num = input(\"Enter a number: \")\n",
        "\n",
        "if not num.strip('-').isnumeric():\n",
        "  print(\"Not a number.\")\n",
        "\n",
        "elif int(num) > 0 and int(num) % 2 == 0:\n",
        "  print(\"fizz\")\n",
        "\n",
        "elif int(num) > 0 and int(num) % 2 == 1:\n",
        "  print(\"buzz\")\n",
        "\n",
        "elif int(num) < 0:\n",
        "  print(abs(int(num)))\n",
        "\n",
        "else:\n",
        "  print('0')"
      ],
      "execution_count": 66,
      "outputs": [
        {
          "output_type": "stream",
          "name": "stdout",
          "text": [
            "Enter a number: -666\n",
            "666\n"
          ]
        }
      ]
    }
  ]
}