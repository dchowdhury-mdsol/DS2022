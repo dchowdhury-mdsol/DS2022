{
 "cells": [
  {
   "cell_type": "markdown",
   "metadata": {},
   "source": [
    "<div style=\"background: #000;\n",
    "            color: #FFF;\n",
    "            margin: 0px;\n",
    "                padding: 10px 0px 20px 0px;\n",
    "            text-align: center; \n",
    "                \">\n",
    "    <h1>Week 8 - Lab</h1>\n",
    "</div>\n"
   ]
  },
  {
   "cell_type": "markdown",
   "metadata": {},
   "source": [
    "# Exercise 1\n",
    "\n",
    "Create a class called `Person`.\n",
    "Make an attribute for the class called `x` and set it equal to 5.\n",
    "\n",
    "Create an instance of the `Person` class.\n",
    "Print out the `x` attribute of the instance."
   ]
  },
  {
   "cell_type": "code",
   "execution_count": 2,
   "metadata": {},
   "outputs": [
    {
     "data": {
      "text/plain": [
       "5"
      ]
     },
     "execution_count": 2,
     "metadata": {},
     "output_type": "execute_result"
    }
   ],
   "source": [
    "class Person:\n",
    "    def __init__(self):\n",
    "        self.x = 5\n",
    "\n",
    "y = Person()\n",
    "y.x"
   ]
  },
  {
   "cell_type": "markdown",
   "metadata": {},
   "source": [
    "# Excerise 2\n",
    "\n",
    "Create a class called `Student` with  the following attributes \n",
    "<br>`first_name`\n",
    "<br>`last_name`\n",
    "<br>`age`\n",
    "<br>`hw_grades` \n",
    "# `THINK ABOUT WHAT DATA STRUCTURE WE SHOULD BE USING FOR HW GRADES`\n",
    "# `THINK ABOUT THE DATA STRUCTURES WE KNOW. WHAT SEEMS APPROPRIATE? LISTS, DICTS, TUPLES OR SETS?`\n",
    "\n",
    "Create methods that:\n",
    "<br>Print the full name of the student\n",
    "<br>Adds a grade to the attribute `hw_grades` \n",
    "<br>Calculates the Student's average hw grade\n",
    "\n",
    "Create an instance of the class and ensure that all the methods works."
   ]
  },
  {
   "cell_type": "code",
   "execution_count": 4,
   "metadata": {},
   "outputs": [],
   "source": [
    "class Student:\n",
    "    def __init__(self, first_name, last_name, age) -> None:\n",
    "        self.first_name = first_name\n",
    "        self.last_name = last_name\n",
    "        self.age = age\n",
    "        self.hw_grades = []\n",
    "        self.count = 0\n",
    "        self.sum = 0\n",
    "\n",
    "    def add_grade(self, grade:int):\n",
    "        self.count += 1\n",
    "        self.sum += grade\n",
    "        self.hw_grades.append(grade)\n",
    "    \n",
    "    def avg_grade(self):\n",
    "        if self.count == 0:\n",
    "            raise ValueError(\"Can not divide by 0.\")\n",
    "        return self.sum / self.count\n",
    "\n",
    "    def __str__(self):\n",
    "        return f'{self.last_name}, {self.first_name} {self.age} | {self.hw_grades}'"
   ]
  },
  {
   "cell_type": "code",
   "execution_count": 6,
   "metadata": {},
   "outputs": [
    {
     "name": "stdout",
     "output_type": "stream",
     "text": [
      "83.33333333333333\n",
      "Black, Jack 21 | [90, 100, 60]\n"
     ]
    }
   ],
   "source": [
    "jack = Student(\"Jack\", \"Black\", 21)\n",
    "jack.add_grade(90)\n",
    "jack.add_grade(100)\n",
    "jack.add_grade(60)\n",
    "\n",
    "print(jack.avg_grade())\n",
    "print(jack)"
   ]
  },
  {
   "cell_type": "markdown",
   "metadata": {},
   "source": [
    "# Exercise 3:\n",
    "Create a class called `Square` that overloads the addition operator by adding the area of two squares. You will need at least an attribute for length, a method for calculating area and the overloaded + operator method.\n",
    "\n",
    "e.g. Square(3) + Square(4) == 25"
   ]
  },
  {
   "cell_type": "code",
   "execution_count": 7,
   "metadata": {},
   "outputs": [],
   "source": [
    "class Square:\n",
    "    def __init__(self, num:int) -> None:\n",
    "        self.num = num\n",
    "        self.area = num ** 2\n",
    "    \n",
    "    def __add__(self, other):\n",
    "        if not isinstance(other, Square):\n",
    "            raise AttributeError(\"This is not a Square object.\")\n",
    "        return self.area + other.area"
   ]
  },
  {
   "cell_type": "code",
   "execution_count": 8,
   "metadata": {},
   "outputs": [
    {
     "name": "stdout",
     "output_type": "stream",
     "text": [
      "25\n"
     ]
    }
   ],
   "source": [
    "square1 = Square(3)\n",
    "square2 = Square(4)\n",
    "print(square1 + square2)"
   ]
  },
  {
   "cell_type": "markdown",
   "metadata": {},
   "source": [
    "\n",
    "# Exercise 4:\n",
    "Create a class called `Store` with an attribute called `inventory` that stores key value pairs which represent a product and its count.\n",
    "<br> `{\"oranges\":100,'apples':20}`\n",
    "\n",
    "Create a `buy` method that decrements from a key's value whenever an item is \"bought\"\n",
    "\n",
    "Create a method that lists the products for sale.\n",
    "<br>Create a method that allows you to add more products to the store's inventory.\n",
    "\n",
    "\n",
    "When you're finished, create an instance of Store and demonstrate that your methods/code work. Bonus points for addtional methods/functionality."
   ]
  },
  {
   "cell_type": "code",
   "execution_count": 33,
   "metadata": {},
   "outputs": [],
   "source": [
    "class Store:\n",
    "    def __init__(self) -> None:\n",
    "        self.inventory = {}\n",
    "\n",
    "    def add_item(self, item:str, count:int):\n",
    "        if item in self.inventory.keys():\n",
    "            count += self.inventory[item]\n",
    "        else:\n",
    "            self.inventory[item] = count\n",
    "            return f'Adding {count} {item}(s) to inventory...'\n",
    "    \n",
    "    def remove_item(self, item:str, count=1):\n",
    "        if item not in self.inventory.keys():\n",
    "            raise AttributeError(\"Product not on hand.\")\n",
    "        else:\n",
    "            amount = self.inventory[item]\n",
    "            if count > amount:\n",
    "                raise ValueError(f'Not enough {item} in stock.')\n",
    "            print(f'Removing {count} {item}(s) from inventory...')\n",
    "            self.inventory[item] = amount - count\n",
    "            print(f'There are {self.inventory[item]} {item}(s) left.')\n",
    "            if self.inventory[item] == 0:\n",
    "                self.inventory.pop(item)\n",
    "\n",
    "\n",
    "    def __str__(self):\n",
    "        return f'Current store: {self.inventory}'"
   ]
  },
  {
   "cell_type": "code",
   "execution_count": 35,
   "metadata": {},
   "outputs": [
    {
     "data": {
      "text/plain": [
       "'Adding 100 Apple(s) to inventory...'"
      ]
     },
     "execution_count": 35,
     "metadata": {},
     "output_type": "execute_result"
    }
   ],
   "source": [
    "my_store = Store()\n",
    "my_store.add_item(\"Apple\", 100)"
   ]
  },
  {
   "cell_type": "code",
   "execution_count": 36,
   "metadata": {},
   "outputs": [
    {
     "data": {
      "text/plain": [
       "'Adding 50 Orange(s) to inventory...'"
      ]
     },
     "execution_count": 36,
     "metadata": {},
     "output_type": "execute_result"
    }
   ],
   "source": [
    "my_store.add_item(\"Orange\", 50)"
   ]
  },
  {
   "cell_type": "code",
   "execution_count": 37,
   "metadata": {},
   "outputs": [
    {
     "data": {
      "text/plain": [
       "'Adding 10 Bread(s) to inventory...'"
      ]
     },
     "execution_count": 37,
     "metadata": {},
     "output_type": "execute_result"
    }
   ],
   "source": [
    "my_store.add_item(\"Bread\", 10)"
   ]
  },
  {
   "cell_type": "code",
   "execution_count": 38,
   "metadata": {},
   "outputs": [
    {
     "name": "stdout",
     "output_type": "stream",
     "text": [
      "Current store: {'Apple': 100, 'Orange': 50, 'Bread': 10}\n"
     ]
    }
   ],
   "source": [
    "print(my_store)"
   ]
  },
  {
   "cell_type": "code",
   "execution_count": 39,
   "metadata": {},
   "outputs": [
    {
     "name": "stdout",
     "output_type": "stream",
     "text": [
      "Removing 1 Apple(s) from inventory...\n",
      "There are 99 Apple(s) left.\n"
     ]
    }
   ],
   "source": [
    "my_store.remove_item(\"Apple\")"
   ]
  },
  {
   "cell_type": "code",
   "execution_count": 40,
   "metadata": {},
   "outputs": [
    {
     "name": "stdout",
     "output_type": "stream",
     "text": [
      "Removing 50 Apple(s) from inventory...\n",
      "There are 49 Apple(s) left.\n"
     ]
    }
   ],
   "source": [
    "my_store.remove_item(\"Apple\", 50)"
   ]
  },
  {
   "cell_type": "code",
   "execution_count": 41,
   "metadata": {},
   "outputs": [
    {
     "name": "stdout",
     "output_type": "stream",
     "text": [
      "Current store: {'Apple': 49, 'Orange': 50, 'Bread': 10}\n"
     ]
    }
   ],
   "source": [
    "print(my_store)"
   ]
  },
  {
   "cell_type": "code",
   "execution_count": 42,
   "metadata": {},
   "outputs": [
    {
     "ename": "ValueError",
     "evalue": "Not enough Apple in stock.",
     "output_type": "error",
     "traceback": [
      "\u001b[1;31m---------------------------------------------------------------------------\u001b[0m",
      "\u001b[1;31mValueError\u001b[0m                                Traceback (most recent call last)",
      "\u001b[1;32m~\\AppData\\Local\\Temp/ipykernel_2912/180841770.py\u001b[0m in \u001b[0;36m<module>\u001b[1;34m\u001b[0m\n\u001b[1;32m----> 1\u001b[1;33m \u001b[0mmy_store\u001b[0m\u001b[1;33m.\u001b[0m\u001b[0mremove_item\u001b[0m\u001b[1;33m(\u001b[0m\u001b[1;34m\"Apple\"\u001b[0m\u001b[1;33m,\u001b[0m \u001b[1;36m50\u001b[0m\u001b[1;33m)\u001b[0m\u001b[1;33m\u001b[0m\u001b[1;33m\u001b[0m\u001b[0m\n\u001b[0m",
      "\u001b[1;32m~\\AppData\\Local\\Temp/ipykernel_2912/996106902.py\u001b[0m in \u001b[0;36mremove_item\u001b[1;34m(self, item, count)\u001b[0m\n\u001b[0;32m     16\u001b[0m             \u001b[0mamount\u001b[0m \u001b[1;33m=\u001b[0m \u001b[0mself\u001b[0m\u001b[1;33m.\u001b[0m\u001b[0minventory\u001b[0m\u001b[1;33m[\u001b[0m\u001b[0mitem\u001b[0m\u001b[1;33m]\u001b[0m\u001b[1;33m\u001b[0m\u001b[1;33m\u001b[0m\u001b[0m\n\u001b[0;32m     17\u001b[0m             \u001b[1;32mif\u001b[0m \u001b[0mcount\u001b[0m \u001b[1;33m>\u001b[0m \u001b[0mamount\u001b[0m\u001b[1;33m:\u001b[0m\u001b[1;33m\u001b[0m\u001b[1;33m\u001b[0m\u001b[0m\n\u001b[1;32m---> 18\u001b[1;33m                 \u001b[1;32mraise\u001b[0m \u001b[0mValueError\u001b[0m\u001b[1;33m(\u001b[0m\u001b[1;34mf'Not enough {item} in stock.'\u001b[0m\u001b[1;33m)\u001b[0m\u001b[1;33m\u001b[0m\u001b[1;33m\u001b[0m\u001b[0m\n\u001b[0m\u001b[0;32m     19\u001b[0m             \u001b[0mprint\u001b[0m\u001b[1;33m(\u001b[0m\u001b[1;34mf'Removing {count} {item}(s) from inventory...'\u001b[0m\u001b[1;33m)\u001b[0m\u001b[1;33m\u001b[0m\u001b[1;33m\u001b[0m\u001b[0m\n\u001b[0;32m     20\u001b[0m             \u001b[0mself\u001b[0m\u001b[1;33m.\u001b[0m\u001b[0minventory\u001b[0m\u001b[1;33m[\u001b[0m\u001b[0mitem\u001b[0m\u001b[1;33m]\u001b[0m \u001b[1;33m=\u001b[0m \u001b[0mamount\u001b[0m \u001b[1;33m-\u001b[0m \u001b[0mcount\u001b[0m\u001b[1;33m\u001b[0m\u001b[1;33m\u001b[0m\u001b[0m\n",
      "\u001b[1;31mValueError\u001b[0m: Not enough Apple in stock."
     ]
    }
   ],
   "source": [
    "my_store.remove_item(\"Apple\", 50)"
   ]
  },
  {
   "cell_type": "code",
   "execution_count": 43,
   "metadata": {},
   "outputs": [
    {
     "name": "stdout",
     "output_type": "stream",
     "text": [
      "Removing 10 Bread(s) from inventory...\n",
      "There are 0 Bread(s) left.\n"
     ]
    }
   ],
   "source": [
    "my_store.remove_item(\"Bread\", 10)"
   ]
  },
  {
   "cell_type": "code",
   "execution_count": 44,
   "metadata": {},
   "outputs": [
    {
     "name": "stdout",
     "output_type": "stream",
     "text": [
      "Current store: {'Apple': 49, 'Orange': 50}\n"
     ]
    }
   ],
   "source": [
    "print(my_store)"
   ]
  }
 ],
 "metadata": {
  "interpreter": {
   "hash": "f0241158d50e3e34b77f53e7a6d3f67a50c8c5a9037013305f31610104d3e5b8"
  },
  "kernelspec": {
   "display_name": "Python 3.9.7 64-bit (windows store)",
   "name": "python3"
  },
  "language_info": {
   "codemirror_mode": {
    "name": "ipython",
    "version": 3
   },
   "file_extension": ".py",
   "mimetype": "text/x-python",
   "name": "python",
   "nbconvert_exporter": "python",
   "pygments_lexer": "ipython3",
   "version": "3.9.7"
  }
 },
 "nbformat": 4,
 "nbformat_minor": 4
}
