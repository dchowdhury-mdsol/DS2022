{
 "cells": [
  {
   "cell_type": "markdown",
   "metadata": {},
   "source": [
    "# Question 1\n",
    "\n",
    "What is the use of read() function in Python? Why it is important?"
   ]
  },
  {
   "cell_type": "markdown",
   "metadata": {},
   "source": [
    "The read() function allows us to open files and essentially, read the contents of it. It's important when we're working with local files from our machine and manipulate them using variables without altering the original file."
   ]
  },
  {
   "cell_type": "markdown",
   "metadata": {},
   "source": [
    "# Exercise 1\n",
    "\n",
    "Create a txt file (file extention .txt) and title it reading_python.ipynb. In the txt file, write: \"It's time to read in python!\".\n",
    "\n",
    "Open the txt file in Visual Studio Code using read() .\n",
    "\n",
    "Insert that screenshot below showing you were successful:"
   ]
  },
  {
   "cell_type": "code",
   "execution_count": 1,
   "metadata": {},
   "outputs": [
    {
     "data": {
      "text/plain": [
       "<_io.TextIOWrapper name='reading_python.txt' mode='w' encoding='cp1252'>"
      ]
     },
     "execution_count": 1,
     "metadata": {},
     "output_type": "execute_result"
    }
   ],
   "source": [
    "with open(\"reading_python.txt\", 'w') as f: f.write(\"It's time to read in python!\")\n",
    "\n",
    "f"
   ]
  },
  {
   "cell_type": "markdown",
   "metadata": {},
   "source": [
    "# Exercise 2\n",
    "\n",
    "From the helloworld.html file from the lesson, use Python to update the webpage to display an image of your choice. Upload your code and a screenshot of your updated webpage."
   ]
  },
  {
   "cell_type": "code",
   "execution_count": 3,
   "metadata": {},
   "outputs": [
    {
     "data": {
      "text/plain": [
       "True"
      ]
     },
     "execution_count": 3,
     "metadata": {},
     "output_type": "execute_result"
    }
   ],
   "source": [
    "import webbrowser\n",
    "\n",
    "var_1 = open(\"file_hello_world.html\", 'w')\n",
    "file_content = \"\"\"\n",
    "<html>\n",
    "    <head></head>\n",
    "    <body>\n",
    "        <p> hello world</p>\n",
    "        <img src=\"sadge.png\" alt=\"sadge\">\n",
    "    </body>\n",
    "</html>\n",
    "\"\"\"\n",
    "\n",
    "var_1.write(file_content)\n",
    "var_1.close()\n",
    "webbrowser.open_new_tab(\"file_hello_world.html\")"
   ]
  },
  {
   "cell_type": "markdown",
   "metadata": {},
   "source": [
    "### **Bonus**\n",
    "\n",
    "---\n",
    "\n",
    "\n",
    "when using the open() function/parameters what are the 6 available file mode's that can be used? please give a  brief description of what these modes do."
   ]
  },
  {
   "cell_type": "markdown",
   "metadata": {},
   "source": [
    "The 6 modes are ->\n",
    "1. r -- Default mode. Opens file in read only mode\n",
    "2. w -- Open file in write mode. Everytime we write into the file, it removes pre-existing content.\n",
    "3. x -- Creates a new file and opens it in write mode.\n",
    "4. a -- Appends to the file\n",
    "5. b -- Opens the file in binary mode (0s and 1s)\n",
    "6. t -- Opens the file in text mode (Default mode)"
   ]
  }
 ],
 "metadata": {
  "interpreter": {
   "hash": "f0241158d50e3e34b77f53e7a6d3f67a50c8c5a9037013305f31610104d3e5b8"
  },
  "kernelspec": {
   "display_name": "Python 3.9.7 64-bit (windows store)",
   "name": "python3"
  },
  "language_info": {
   "codemirror_mode": {
    "name": "ipython",
    "version": 3
   },
   "file_extension": ".py",
   "mimetype": "text/x-python",
   "name": "python",
   "nbconvert_exporter": "python",
   "pygments_lexer": "ipython3",
   "version": "3.9.8"
  },
  "orig_nbformat": 4
 },
 "nbformat": 4,
 "nbformat_minor": 2
}
