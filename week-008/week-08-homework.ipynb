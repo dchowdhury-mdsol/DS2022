{
 "cells": [
  {
   "cell_type": "markdown",
   "metadata": {},
   "source": [
    "<div style=\"background: #000;\n",
    "            color: #FFF;\n",
    "            margin: 0px;\n",
    "                padding: 10px 0px 20px 0px;\n",
    "            text-align: center; \n",
    "                \">\n",
    "    <h1>Week 8 - Homework</h1>\n",
    "</div>\n",
    "\n",
    "<pre style=\"text-align:center;\">\n",
    "Exercise 1,2 and 3 are due Tuesday Novemeber 9th\n",
    "</pre>"
   ]
  },
  {
   "cell_type": "markdown",
   "metadata": {},
   "source": [
    "# Exercise 1\n",
    "\n",
    "Create a class called `Person`.\n",
    "\n",
    "Then create two classes, one called `Child` and one called `Adult` that inherit from the Person Class.  \n",
    "\n",
    "These methods should be available to all classes. \n",
    "<br>`print_age`\n",
    "<br>`print_name`\n",
    "\n",
    "\n",
    "\n",
    "These methods should only be available to the `Child` Class\n",
    "<br>`age_until_adult`\n",
    "<br>`current_school`\n",
    "\n",
    "\n",
    "\n",
    "\n",
    "\n",
    "These methods should only be available to the `Adult Class`\n",
    "<br>`age_until_senior`\n",
    "<br>`current_job`\n",
    "\n",
    "\n",
    "Create an instance of all 3 classes, and prove that all functions work for every class"
   ]
  },
  {
   "cell_type": "code",
   "execution_count": 29,
   "metadata": {},
   "outputs": [],
   "source": [
    "class Person:\n",
    "    def __init__(self, name ,age):\n",
    "        self.name = name\n",
    "        self.age = age\n",
    "\n",
    "    def print_age(self):\n",
    "        return self.age\n",
    "\n",
    "    def print_name(self):\n",
    "        return self.name\n",
    "\n",
    "class Child(Person):\n",
    "    def __init__(self, name, age, school):\n",
    "        super().__init__(name, age)\n",
    "        self.school = school\n",
    "\n",
    "    def age_until_adult(self):\n",
    "        if self.age < 18:\n",
    "            return 18 - self.age\n",
    "        else:\n",
    "            return 0\n",
    "\n",
    "    def current_school(self):\n",
    "        return self.school\n",
    "\n",
    "class Adult(Person):\n",
    "    def __init__(self, name, age, job):\n",
    "        super().__init__(name, age)\n",
    "        self.job = job\n",
    "\n",
    "    def age_until_senior(self):\n",
    "        if self.age < 65:\n",
    "            return 65 - self.age\n",
    "        else:\n",
    "            return 0\n",
    "\n",
    "    def current_job(self):\n",
    "        return self.job"
   ]
  },
  {
   "cell_type": "code",
   "execution_count": 35,
   "metadata": {},
   "outputs": [
    {
     "name": "stdout",
     "output_type": "stream",
     "text": [
      "20\n",
      "Ayy\n",
      "----------\n",
      "10\n",
      "Bee\n",
      "8\n",
      "Elementary\n",
      "----------\n",
      "40\n",
      "Cee\n",
      "25\n",
      "Job\n"
     ]
    }
   ],
   "source": [
    "ayy = Person(\"Ayy\", 20)\n",
    "print(ayy.print_age())\n",
    "print(ayy.print_name())\n",
    "\n",
    "print(\"----------\")\n",
    "\n",
    "bee = Child(\"Bee\", 10, \"Elementary\")\n",
    "print(bee.print_age())\n",
    "print(bee.print_name())\n",
    "print(bee.age_until_adult())\n",
    "print(bee.current_school())\n",
    "\n",
    "print(\"----------\")\n",
    "\n",
    "cee = Adult(\"Cee\", 40, \"Job\")\n",
    "print(cee.print_age())\n",
    "print(cee.print_name())\n",
    "print(cee.age_until_senior())\n",
    "print(cee.current_job())"
   ]
  },
  {
   "cell_type": "markdown",
   "metadata": {},
   "source": [
    "# Exercise 2\n",
    "\n",
    "Create a class called `Animal`.\n",
    "\n",
    "It should have the following attributes:\n",
    "<br>\n",
    "<br>`name` which is a string that contains its name\n",
    "<br>`has_hair` which is a bool\n",
    "<br>`has_feathers` which is a bool\n",
    "<br>`age` which is an integer\n",
    "<br>`diet` which is a string containing a food that it's diet. Either Grain or Pellets.\n",
    "\n",
    "____________\n",
    "Animals should have the following functions available to them\n",
    "\n",
    "`description` which prints out its name and age in a line.\n",
    "____________\n",
    "\n",
    "Create two classes that inherit from `Animal`.\n",
    "\n",
    "`Cow` and `Chicken`. Chickens eat pellets, Cows eat Grain. \n",
    "____________\n",
    "\n",
    "Cows should have the following attribute\n",
    "\n",
    "`times_milked` which is starts at 0\n",
    "\n",
    "Cows should have the functions\n",
    "\n",
    "`milk` which increases the times_milked by 1. Cows under 1 year old cannot be milked.\n",
    "\n",
    "____________\n",
    "Chickens should have the attribute\n",
    "\n",
    "`eggs_laid` which is starts at 0\n",
    "\n",
    "Chickens should have the function \n",
    "\n",
    "`lay_egg` which increases egg_laid by 5. Chickens under 6 months cannot lay eggs.\n",
    "\n",
    "____________\n",
    "\n"
   ]
  },
  {
   "cell_type": "code",
   "execution_count": 44,
   "metadata": {},
   "outputs": [],
   "source": [
    "class Animal:\n",
    "    def __init__(self, name, has_hair:bool, has_feathers:bool, age:float, diet):\n",
    "        self.name = name\n",
    "        self.has_hair = has_hair\n",
    "        self.has_feathers = has_feathers\n",
    "        self.age = age\n",
    "        self.diet = diet\n",
    "\n",
    "    def description(self):\n",
    "        return f'Name: {self.name}, Age: {self.age}'\n",
    "\n",
    "class Cow(Animal):\n",
    "    def __init__(self, name, has_hair:bool, has_feathers:bool, age:float, diet):\n",
    "        super().__init__(name, has_hair, has_feathers, age, diet)\n",
    "        self.times_milked = 0\n",
    "    \n",
    "    def milk(self):\n",
    "        if self.age < 1:\n",
    "            raise ValueError(\"Too young to milk.\")\n",
    "        else:\n",
    "            self.times_milked += 1\n",
    "\n",
    "class Chicken(Animal):\n",
    "    def __init__(self, name, has_hair:bool, has_feathers:bool, age:float, diet):\n",
    "        super().__init__(name, has_hair, has_feathers, age, diet)\n",
    "        self.eggs_laid = 0\n",
    "\n",
    "    def lay_egg(self):\n",
    "        if self.age < 0.5:\n",
    "            raise ValueError(\"Too young to lay eggs.\")\n",
    "        else:\n",
    "            self.eggs_laid += 5"
   ]
  },
  {
   "cell_type": "code",
   "execution_count": 45,
   "metadata": {},
   "outputs": [
    {
     "name": "stdout",
     "output_type": "stream",
     "text": [
      "2\n",
      "10\n"
     ]
    }
   ],
   "source": [
    "cow = Cow(\"Betsy\", True, False, 5, \"Grass\")\n",
    "cow.milk()\n",
    "cow.milk()\n",
    "print(cow.times_milked)\n",
    "\n",
    "chimken = Chicken(\"Chimken\", False, True, 3, \"Seeds\")\n",
    "chimken.lay_egg()\n",
    "chimken.lay_egg()\n",
    "print(chimken.eggs_laid)"
   ]
  },
  {
   "cell_type": "markdown",
   "metadata": {},
   "source": [
    "# Exercise 3\n",
    "\n",
    "Create a class called `Car`.\n",
    "\n",
    "It should contain a private attribute called `fuel`. Fuel `ALWAYS` starts at 50.\n",
    "\n",
    "Use setter and getter functions to protect our attribute. When a user tries to change `fuel`, it should raise a ValueError if Fuel is < 0 or > 100\n",
    "\n"
   ]
  },
  {
   "cell_type": "code",
   "execution_count": 1,
   "metadata": {},
   "outputs": [],
   "source": [
    "class Car:\n",
    "    def __init__(self):\n",
    "        self.fuel = 50\n",
    "\n",
    "    def get_fuel(self):\n",
    "        return self.fuel\n",
    "    \n",
    "    def set_fuel(self, fuel):\n",
    "        if fuel < 0 or fuel > 100:\n",
    "            raise ValueError(\"Too much fuel.\")\n",
    "        self.fuel = fuel\n",
    "        return self.fuel\n",
    "    \n",
    "    fuel = property(get_fuel, set_fuel)"
   ]
  },
  {
   "cell_type": "code",
   "execution_count": null,
   "metadata": {},
   "outputs": [],
   "source": [
    "car = Car()\n",
    "car.fuel"
   ]
  },
  {
   "cell_type": "markdown",
   "metadata": {},
   "source": [
    "# Question 1\n",
    "\n",
    "What is a class?\n"
   ]
  },
  {
   "cell_type": "markdown",
   "metadata": {},
   "source": [
    "A class is a blueprint for an object. It contains methods and variables that define this object and it's attributes."
   ]
  },
  {
   "cell_type": "markdown",
   "metadata": {},
   "source": [
    "# Question 2\n",
    "\n",
    "<br>What is a the difference between a Parent Class and a Child Class?\n",
    "\n",
    "\n"
   ]
  },
  {
   "cell_type": "markdown",
   "metadata": {},
   "source": [
    "A Child class inherits all the attributes and methods of it's Parent class, but not vice versa."
   ]
  },
  {
   "cell_type": "markdown",
   "metadata": {},
   "source": [
    "# Question 3\n",
    "How does inheritance help us as programmers?\n"
   ]
  },
  {
   "cell_type": "markdown",
   "metadata": {},
   "source": [
    "Inheritance allows us to create sub-objects from one main address."
   ]
  }
 ],
 "metadata": {
  "interpreter": {
   "hash": "6b8157b6fa1ebbaed96c1c1d9635dcd49016c43deea78ac8da8888d62b60131e"
  },
  "kernelspec": {
   "display_name": "Python 3.9.1 64-bit",
   "name": "python3"
  },
  "language_info": {
   "codemirror_mode": {
    "name": "ipython",
    "version": 3
   },
   "file_extension": ".py",
   "mimetype": "text/x-python",
   "name": "python",
   "nbconvert_exporter": "python",
   "pygments_lexer": "ipython3",
   "version": "3.9.8"
  }
 },
 "nbformat": 4,
 "nbformat_minor": 4
}
