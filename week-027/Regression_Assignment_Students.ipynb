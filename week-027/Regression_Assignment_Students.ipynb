{
 "cells": [
  {
   "cell_type": "markdown",
   "id": "9d74b4e3",
   "metadata": {},
   "source": [
    "# Question 1"
   ]
  },
  {
   "cell_type": "markdown",
   "id": "d6b58907",
   "metadata": {},
   "source": [
    "    Define Gradient Descent using your own words."
   ]
  },
  {
   "cell_type": "markdown",
   "id": "fa052920",
   "metadata": {},
   "source": [
    "Gradient descent is an algorithm that is used by AI/ML scientist to train their models with. It takes a cost function, and finds the coeffecient values that minizmize the cost function as much as possible."
   ]
  },
  {
   "cell_type": "markdown",
   "id": "fbfc4c6c",
   "metadata": {},
   "source": [
    "# Question 2"
   ]
  },
  {
   "cell_type": "markdown",
   "id": "fedf0ba0",
   "metadata": {},
   "source": [
    "    Define what a loss function is, and what it is used for."
   ]
  },
  {
   "cell_type": "markdown",
   "id": "c10c2d81",
   "metadata": {},
   "source": [
    "When we have an estimated value, we can use a loss function to find the difference between this estimated value and the actual value."
   ]
  },
  {
   "cell_type": "markdown",
   "id": "60c700ae",
   "metadata": {},
   "source": [
    "# Question 3"
   ]
  },
  {
   "cell_type": "markdown",
   "id": "76fb3455",
   "metadata": {},
   "source": [
    "    We talked about 3 common loss functions. Please write down the loss function, the cost function built out of the loss function, and the benfits and negatives of using a particular loss function. Remember, loss function is the measure of error at a singular point, the COST is the measure of error across the entire dataset."
   ]
  },
  {
   "cell_type": "markdown",
   "id": "c44d153f",
   "metadata": {},
   "source": [
    "### L1 Loss"
   ]
  },
  {
   "cell_type": "markdown",
   "id": "ad6873e3",
   "metadata": {},
   "source": [
    "L1 Loss Function:\n",
    "$$\\begin{align}\n",
    "\\sum_{i=1}^n\\left\\lvert{y_{true} - y_{predicted}}\\right\\rvert\n",
    "\\end{align}$$\n",
    "Cost function : \n",
    "$$\\begin{align}\n",
    "Y(\\theta) = \\frac{1}{m}\\sum_{i=1}^m\\left\\lvert{y^i_{predicted} - y^i_{actual}}\\right\\rvert\n",
    "\\end{align}$$\n",
    "\n",
    "Benefits\n",
    "L1 loss is less sensitive to outliers, there for it is more robust\n",
    "\n",
    "Negatives: \n",
    "L1 loss regression is less stable when values are changed. Non differentiable. Can have multiple solutions."
   ]
  },
  {
   "cell_type": "markdown",
   "id": "5ea47cd2",
   "metadata": {},
   "source": [
    "### L2 Loss"
   ]
  },
  {
   "cell_type": "markdown",
   "id": "fc81ceae",
   "metadata": {},
   "source": [
    "L2 Loss Function:\n",
    "$$\\begin{align}\n",
    "\\sum_{i=1}^n({y_{true} - y_{predicted}})^2\n",
    "\\end{align}$$\n",
    "Cost function : \n",
    "$$\\begin{align}\n",
    "Y(\\theta) = \\frac{1}{m}\\sum_{i=1}^m({y^i_{predicted} - y^i_{actual}})^2\n",
    "\\end{align}$$\n",
    "\n",
    "Benefits:\n",
    "L2 loss is more stable, less changes when values are changed. Has only 1 solution\n",
    "\n",
    "Negatives: \n",
    "Not as robust with outliers because the function is squared"
   ]
  },
  {
   "cell_type": "markdown",
   "id": "a35b20d0",
   "metadata": {},
   "source": [
    "### Huber Loss"
   ]
  },
  {
   "cell_type": "markdown",
   "id": "12474388",
   "metadata": {},
   "source": [
    "Loss Function:\n",
    "$$\\begin{align}\n",
    "\\sum_{i=1}^n\n",
    "\\begin{cases} \n",
    "\\frac{1}{2}({y_{true} - y_{predicted}})^2, \n",
    "for: \\left\\lvert{y_{true} - y_{predicted}}\\right\\rvert\\le\\theta \\\\ \n",
    "\\theta\\left\\lvert{y_{true} - y_{predicted}}\\right\\rvert - \\frac{1}{2}\\theta^2, \n",
    "for: \\left\\lvert{y_{true} - y_{predicted}}\\right\\rvert > \\theta\n",
    "\\end{cases}\n",
    "\\end{align}$$\n",
    "Benefits: \n",
    "Less Sensitive to outliers compared to L2\n",
    "Can handle local minima\n",
    "\n",
    "Negatives:\n",
    "Increased training requirement\n",
    "Complexity"
   ]
  },
  {
   "cell_type": "markdown",
   "id": "ac0acb04",
   "metadata": {},
   "source": [
    "# Question 4"
   ]
  },
  {
   "cell_type": "markdown",
   "id": "01a2f7a0",
   "metadata": {},
   "source": [
    "    Why is Stochastic Gradient Descent preferable to Batch Gradient Descent?"
   ]
  },
  {
   "cell_type": "markdown",
   "id": "6bc0c547",
   "metadata": {},
   "source": [
    "It is faster than BGD because it takes less data to manipulate."
   ]
  },
  {
   "cell_type": "markdown",
   "id": "46d3e50c",
   "metadata": {},
   "source": [
    "# Question 5"
   ]
  },
  {
   "cell_type": "markdown",
   "id": "f855c565",
   "metadata": {},
   "source": [
    "    There are four assumptions about our data before we do linear regression. What are they?"
   ]
  },
  {
   "cell_type": "markdown",
   "id": "96404254",
   "metadata": {},
   "source": [
    "1. X and Y relationship is linear\n",
    "2. Independent residuals\n",
    "3. variance is constant at every x\n",
    "4. Normal distribution of residuals"
   ]
  },
  {
   "cell_type": "markdown",
   "id": "dc8a1bb3",
   "metadata": {},
   "source": [
    "# Question 6"
   ]
  },
  {
   "cell_type": "markdown",
   "id": "44d4aec0",
   "metadata": {},
   "source": [
    "    Using SKLearn, create three Regression Lines for the x's and y's provided. Use the three different cost functions.\n",
    "    \n",
    "    Create a plot that shows your Regression Lines plotted against the data set. \n",
    "    (hint: Remember, you can get theta_0 and theta_1 from your SGDRegressor. Use that to build out your line.)"
   ]
  },
  {
   "cell_type": "code",
   "execution_count": 3,
   "id": "2c62b85f",
   "metadata": {},
   "outputs": [],
   "source": [
    "from sklearn.linear_model import SGDRegressor\n",
    "from sklearn.model_selection import train_test_split\n",
    "from matplotlib import pyplot as plt\n",
    "import numpy as np\n",
    "import pandas as pd"
   ]
  },
  {
   "cell_type": "code",
   "execution_count": 4,
   "id": "f5cac625",
   "metadata": {},
   "outputs": [],
   "source": [
    "x_set_to_use = [[83],[42],[23],[54],[57],[69],[47],[69],[80],[41],[24],[11],[4],[52],[39],[43],[19],[53],[1],[18],[10],[11],[78],[66]]"
   ]
  },
  {
   "cell_type": "code",
   "execution_count": 5,
   "id": "b4a8d016",
   "metadata": {},
   "outputs": [],
   "source": [
    "y_set_to_use = [19,73,51,54,47,48,37,15,4,89,50,88,91,77,57,36,96,61,91,71,87,99,11,39]"
   ]
  },
  {
   "cell_type": "code",
   "execution_count": 13,
   "id": "64051794",
   "metadata": {},
   "outputs": [
    {
     "data": {
      "image/png": "[encoded data removed]",
      "text/plain": [
       "<Figure size 432x288 with 1 Axes>"
      ]
     },
     "metadata": {
      "needs_background": "light"
     },
     "output_type": "display_data"
    }
   ],
   "source": [
    "L1SG = SGDRegressor(loss='squared_error', penalty='l1', alpha=0.0001, max_iter=100_000, epsilon=1, tol=None)\n",
    "L1SG.fit(x_set_to_use, y_set_to_use)\n",
    "m = L1SG.coef_\n",
    "b = L1SG.intercept_\n",
    "plt.scatter(x_set_to_use, y_set_to_use)\n",
    "plt.plot(x_set_to_use, m * x_set_to_use + b, color='g', alpha=0.3)\n",
    "plt.show()"
   ]
  },
  {
   "cell_type": "code",
   "execution_count": 12,
   "id": "de59b4c5",
   "metadata": {},
   "outputs": [
    {
     "data": {
      "image/png": "[encoded data removed]",
      "text/plain": [
       "<Figure size 432x288 with 1 Axes>"
      ]
     },
     "metadata": {
      "needs_background": "light"
     },
     "output_type": "display_data"
    }
   ],
   "source": [
    "L2SG = SGDRegressor(loss='squared_error', penalty='l2', alpha=0.0001, max_iter=100_000, epsilon=1, tol=None)\n",
    "L2SG.fit(x_set_to_use, y_set_to_use)\n",
    "m = L2SG.coef_\n",
    "b = L2SG.intercept_\n",
    "plt.scatter(x_set_to_use, y_set_to_use)\n",
    "plt.plot(x_set_to_use, m * x_set_to_use + b, color='g', alpha=0.3)\n",
    "plt.show()"
   ]
  },
  {
   "cell_type": "code",
   "execution_count": 11,
   "id": "0781bf29",
   "metadata": {},
   "outputs": [
    {
     "data": {
      "image/png": "[encoded data removed]",
      "text/plain": [
       "<Figure size 432x288 with 1 Axes>"
      ]
     },
     "metadata": {
      "needs_background": "light"
     },
     "output_type": "display_data"
    }
   ],
   "source": [
    "HUBER = SGDRegressor(loss='huber', penalty=None, alpha=0.0001, max_iter=100_000, epsilon=1, tol=None)\n",
    "HUBER.fit(x_set_to_use, y_set_to_use)\n",
    "m = HUBER.coef_\n",
    "b = HUBER.intercept_\n",
    "plt.scatter(x_set_to_use, y_set_to_use)\n",
    "plt.plot(x_set_to_use, m * x_set_to_use + b, color='g', alpha=0.3)\n",
    "plt.show()"
   ]
  }
 ],
 "metadata": {
  "kernelspec": {
   "display_name": "Python 3",
   "language": "python",
   "name": "python3"
  },
  "language_info": {
   "codemirror_mode": {
    "name": "ipython",
    "version": 3
   },
   "file_extension": ".py",
   "mimetype": "text/x-python",
   "name": "python",
   "nbconvert_exporter": "python",
   "pygments_lexer": "ipython3",
   "version": "3.10.4"
  }
 },
 "nbformat": 4,
 "nbformat_minor": 5
}
