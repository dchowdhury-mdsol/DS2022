{
  "nbformat": 4,
  "nbformat_minor": 0,
  "metadata": {
    "colab": {
      "name": "week-02-class-03-notes",
      "provenance": [],
      "collapsed_sections": [],
      "authorship_tag": "ABX9TyOheXGpiFRihoEJPs47L5aR",
      "include_colab_link": true
    },
    "kernelspec": {
      "name": "python3",
      "display_name": "Python 3"
    },
    "language_info": {
      "name": "python"
    }
  },
  "cells": [
    {
      "cell_type": "markdown",
      "metadata": {
        "id": "view-in-github",
        "colab_type": "text"
      },
      "source": [
        "<a href=\"https://colab.research.google.com/github/xdaiyan/DS2022/blob/main/week_02_class_03_notes.ipynb\" target=\"_parent\"><img src=\"https://colab.research.google.com/assets/colab-badge.svg\" alt=\"Open In Colab\"/></a>"
      ]
    },
    {
      "cell_type": "code",
      "metadata": {
        "id": "8tGYb2cRjRfF"
      },
      "source": [
        "a = set([\"Cat\", \"Hat\", \"Sat\", \"Mat\", \"Bat\", \"Rat\", \"Pat\"])\n",
        "\n",
        "b = set([\"Cat\", \"Vat\", \"Nat\", \"Mat\", \"Bat\", \"Dat\", \"Fat\"])\n",
        "\n",
        "c = set([\"Sue\", \"Bob\", \"Mark\", \"Sue\", \"Johnny\", \"Joey\"])\n",
        "\n",
        "d = set()\n",
        "\n",
        "e = {}\n",
        "\n",
        "f = {2, \"red\", 3.0, True, \"blue\", 7, True, False, False}\n",
        "\n",
        "g = set()\n",
        "\n",
        "bool(g)\n",
        "\n",
        "h = {(6, 1, 3, 5), \"red\", \"green\", 3, 7, 3.3, }"
      ],
      "execution_count": 34,
      "outputs": []
    },
    {
      "cell_type": "code",
      "metadata": {
        "colab": {
          "base_uri": "https://localhost:8080/"
        },
        "id": "sUA3fvZHmQ1x",
        "outputId": "6bee6fbb-42e6-4968-b7c2-1404fd653944"
      },
      "source": [
        "print(type(e))\n",
        "print(type(d))\n",
        "print(f)\n",
        "\n",
        "print(g or 1)\n",
        "print(g and 1)\n",
        "print(h)\n",
        "print(\"blue\" in h)\n",
        "print(\"green\" in h)\n",
        "print(\"blue\" not in h)\n",
        "print(\"red\" not in h)"
      ],
      "execution_count": 37,
      "outputs": [
        {
          "output_type": "stream",
          "name": "stdout",
          "text": [
            "<class 'dict'>\n",
            "<class 'set'>\n",
            "{False, True, 2, 3.0, 'blue', 7, 'red'}\n",
            "1\n",
            "set()\n",
            "{3, 3.3, 'green', 7, 'red', (6, 1, 3, 5)}\n",
            "False\n",
            "True\n",
            "True\n",
            "False\n"
          ]
        }
      ]
    }
  ]
}