{
  "nbformat": 4,
  "nbformat_minor": 0,
  "metadata": {
    "kernelspec": {
      "display_name": "Python 3",
      "language": "python",
      "name": "python3"
    },
    "language_info": {
      "codemirror_mode": {
        "name": "ipython",
        "version": 3
      },
      "file_extension": ".py",
      "mimetype": "text/x-python",
      "name": "python",
      "nbconvert_exporter": "python",
      "pygments_lexer": "ipython3",
      "version": "3.7.4"
    },
    "colab": {
      "name": "week-06-class-01-lab.ipynb",
      "provenance": []
    }
  },
  "cells": [
    {
      "cell_type": "markdown",
      "metadata": {
        "id": "2CAeuHeTAmLA"
      },
      "source": [
        "<div style=\"background: #000;\n",
        "            color: #FFF;\n",
        "            margin: 0px;\n",
        "                padding: 10px 0px 20px 0px;\n",
        "            text-align: center; \n",
        "                \">\n",
        "    <h1>Week 6 - Class 1 - Lab</h1>\n",
        "</div>\n"
      ]
    },
    {
      "cell_type": "markdown",
      "metadata": {
        "id": "Crh6O9dDAmLB"
      },
      "source": [
        "# Question 1\n",
        "\n",
        "What is a class? What is an object? What is the difference? How can we use objects in python?"
      ]
    },
    {
      "cell_type": "code",
      "metadata": {
        "id": "a4WKrz6YAmLC"
      },
      "source": [
        ""
      ],
      "execution_count": null,
      "outputs": []
    },
    {
      "cell_type": "markdown",
      "metadata": {
        "id": "e9kwsk19AmLC"
      },
      "source": [
        "# Execise 1\n",
        "\n",
        "Create a class. Show that the class can be used to create an object."
      ]
    },
    {
      "cell_type": "code",
      "metadata": {
        "id": "rSfo1NmKAmLC"
      },
      "source": [
        ""
      ],
      "execution_count": null,
      "outputs": []
    },
    {
      "cell_type": "markdown",
      "metadata": {
        "id": "-uDFu5z0AmLC"
      },
      "source": [
        "# Exercise 2\n",
        "\n",
        "Create a class including an `__init__` function that initializes some sort of state when objects are created. Demonstrate that the state is initialized."
      ]
    },
    {
      "cell_type": "code",
      "metadata": {
        "id": "avpyn1VzAmLC"
      },
      "source": [
        ""
      ],
      "execution_count": null,
      "outputs": []
    },
    {
      "cell_type": "markdown",
      "metadata": {
        "id": "D9hMvcagAmLC"
      },
      "source": [
        "# Exercise 3\n",
        "\n",
        "Building on our point example, add code to alter the class to store three values `x`, `y`, and `z`. Bonus if you're able to implement the distance method for this new class."
      ]
    },
    {
      "cell_type": "code",
      "metadata": {
        "id": "lxBU7R_QAmLD"
      },
      "source": [
        "import numpy as np\n",
        "\n",
        "class ThreeVariables:\n",
        "  def __init__(self, x, y, z):\n",
        "    self.x = x\n",
        "    self.y = y\n",
        "    self.z = z\n",
        "\n",
        "  def distance_forumla():\n",
        "    formula = np.sqrt()  "
      ],
      "execution_count": null,
      "outputs": []
    },
    {
      "cell_type": "markdown",
      "metadata": {
        "id": "Kl1RwpbZAmLD"
      },
      "source": [
        "# Exercise 4\n",
        "\n",
        "Create an object called `Student` with attributes that store the `first_name`, `last_name`, and `age` of the student. Also create an attribute `hw_grades` that stores hw grades depending on how you think it might be stored. Create methods that prints the full name of the student, adds grades to the attribute`hw_grades` and even calculates the average hw grade. Use additional attributes and methods if needed.\n",
        "\n",
        "Demonstrate that your code works by creating an instance of the class and storing the requisite information."
      ]
    },
    {
      "cell_type": "code",
      "metadata": {
        "id": "8dz2rSCPAou6"
      },
      "source": [
        "class Student:\n",
        "  def __init__(self, first_name, last_name, age):\n",
        "    self.first_name = first_name\n",
        "    self.last_name = last_name\n",
        "    self.age = age\n",
        "    self.hw_grades = {}\n",
        "    self.total_grades = 0\n",
        "    self.sum_grades = 0\n",
        "\n",
        "  def name(self):\n",
        "    full_name = self.first_name + \" \" + self.last_name\n",
        "    # print(f'{self.first_name} {self.last_name}')\n",
        "    return full_name\n",
        "\n",
        "  def add_grade(self, subject, grade):\n",
        "    if grade < 0 or grade > 100:\n",
        "      raise ValueError(\"Invalid grade.\")\n",
        "    self.hw_grades[subject] = grade \n",
        "    self.total_grades += 1  \n",
        "    return self.hw_grades    \n",
        "\n",
        "  def average(self):\n",
        "    for val in self.hw_grades.values():\n",
        "      self.sum_grades += val\n",
        "    string = \"You're average grade is: \" + str(self.sum_grades / self.total_grades)  \n",
        "    return string"
      ],
      "execution_count": 71,
      "outputs": []
    },
    {
      "cell_type": "code",
      "metadata": {
        "id": "Hz50YPFSD0B8",
        "outputId": "8984c7b8-278b-40e0-d749-630aee488804",
        "colab": {
          "base_uri": "https://localhost:8080/"
        }
      },
      "source": [
        "student1 = Student(\"Michael\", \"Scott\", 18)\n",
        "student1.add_grade(\"Biology\", 95)\n",
        "student1.add_grade(\"Trigonometry\", 70)\n",
        "student1.add_grade(\"English\", 80)\n",
        "student1.add_grade(\"US History\", 60)\n",
        "\n",
        "print(student1.name())\n",
        "print(student1.average())"
      ],
      "execution_count": 72,
      "outputs": [
        {
          "output_type": "stream",
          "name": "stdout",
          "text": [
            "Michael Scott\n",
            "You're average grade is: 76.25\n"
          ]
        }
      ]
    }
  ]
}