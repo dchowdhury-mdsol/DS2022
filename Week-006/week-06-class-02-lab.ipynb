{
  "nbformat": 4,
  "nbformat_minor": 0,
  "metadata": {
    "kernelspec": {
      "display_name": "Python 3",
      "language": "python",
      "name": "python3"
    },
    "language_info": {
      "codemirror_mode": {
        "name": "ipython",
        "version": 3
      },
      "file_extension": ".py",
      "mimetype": "text/x-python",
      "name": "python",
      "nbconvert_exporter": "python",
      "pygments_lexer": "ipython3",
      "version": "3.8.6"
    },
    "colab": {
      "name": "week-06-class-02-lab.ipynb",
      "provenance": []
    }
  },
  "cells": [
    {
      "cell_type": "markdown",
      "metadata": {
        "id": "A61GjKBWCrwp"
      },
      "source": [
        "<div style=\"background: #000;\n",
        "            color: #FFF;\n",
        "            margin: 0px;\n",
        "                padding: 10px 0px 20px 0px;\n",
        "            text-align: center; \n",
        "                \">\n",
        "    <h1>Week 6 - Class 2 - Lab</h1>\n",
        "</div>\n"
      ]
    },
    {
      "cell_type": "markdown",
      "metadata": {
        "id": "EotJeeCYCrwq"
      },
      "source": [
        "## Exercise 1:\n",
        "\n",
        "Create a class called `Employee`, add in attributes and methods you think would be associated with an employee. Use at least 2 attributes and 2 methods (not including the `__init__` method you'll create as well)."
      ]
    },
    {
      "cell_type": "code",
      "metadata": {
        "id": "0Y3pZGbPCrwr"
      },
      "source": [
        "class Employee:\n",
        "  def __init__(self, name, age):\n",
        "    self.name = name\n",
        "    self.age = age\n",
        "    self.id = 0\n",
        "\n",
        "  def salary(self): \n",
        "    if self.age > 35:\n",
        "      return 150000\n",
        "    else:\n",
        "      return 80000   \n",
        "\n",
        "  def new_id(self, id):\n",
        "    self.id = id  \n",
        "    return self.id"
      ],
      "execution_count": 74,
      "outputs": []
    },
    {
      "cell_type": "code",
      "metadata": {
        "colab": {
          "base_uri": "https://localhost:8080/"
        },
        "id": "i8PqWigGFBqP",
        "outputId": "e84514cb-c241-4535-c857-110883759bd4"
      },
      "source": [
        "jim = Employee(\"Jim\", 40)\n",
        "jim.new_id(1)\n",
        "\n",
        "print(jim.id)"
      ],
      "execution_count": 80,
      "outputs": [
        {
          "output_type": "stream",
          "name": "stdout",
          "text": [
            "1\n"
          ]
        }
      ]
    },
    {
      "cell_type": "code",
      "metadata": {
        "colab": {
          "base_uri": "https://localhost:8080/"
        },
        "id": "jaRZ-qx0GLyM",
        "outputId": "cc80745c-4048-40d7-a2bd-f4c7ac162fe7"
      },
      "source": [
        "dwight = Employee(\"Dwight\", 45)\n",
        "dwight.new_id(2)"
      ],
      "execution_count": 26,
      "outputs": [
        {
          "output_type": "execute_result",
          "data": {
            "text/plain": [
              "2"
            ]
          },
          "metadata": {},
          "execution_count": 26
        }
      ]
    },
    {
      "cell_type": "markdown",
      "metadata": {
        "id": "qatDWBL4Crwr"
      },
      "source": [
        "## Exercise 2:\n",
        "\n",
        "Create a class called `Paper` with the `content`, `length`, `width`, `margin`, `print_layout` (landscape or portrait) and `doublesided` (boolean value) as attributes. Provide methods that allow us to change those attributes."
      ]
    },
    {
      "cell_type": "code",
      "metadata": {
        "id": "XCObt8naCrws"
      },
      "source": [
        "class Paper():\n",
        "  def __init__(self, content, length, width, margin, print_layout, doublesided):\n",
        "    self.content = content\n",
        "    self.length = length\n",
        "    self.width = width\n",
        "    self.margin = margin\n",
        "    self.print_layout = print_layout\n",
        "    self.doublesided = doublesided\n",
        "\n",
        "  def update_content(self, content):\n",
        "    self.content = content\n",
        "    return self.content\n",
        "\n",
        "  def update_length(self, length):\n",
        "    self.length = length\n",
        "    return self.length\n",
        "\n",
        "  def update_width(self, width):\n",
        "    self.width = width\n",
        "    return self.width\n",
        "\n",
        "  def update_margin(self, margin):\n",
        "    self.margin = margin\n",
        "    return self.margin\n",
        "\n",
        "  def update_print_layout(self, print_layout):\n",
        "    if print_layout.lower != 'landscape' or print_layout.lower != 'portrait':\n",
        "      raise ValueError(\"Unsupported layout.\")\n",
        "    self.print_layout = print_layout\n",
        "    return self.print_layout\n",
        "\n",
        "  def update_doublesided(self, doublesided):\n",
        "    if doublesided != True or doublesided != False:\n",
        "      raise ValueError(\"Unsupported type. Expected bool\")\n",
        "    self.doublesided = doublesided\n",
        "    return doublesided  \n",
        "\n",
        "  def __str__(self):\n",
        "    return f'Content: {self.content} Length: {self.length} Width: {self.width} Margin: {self.margin} Print Layout: {self.print_layout} Doublesided: {self.doublesided}'                "
      ],
      "execution_count": 143,
      "outputs": []
    },
    {
      "cell_type": "code",
      "metadata": {
        "colab": {
          "base_uri": "https://localhost:8080/"
        },
        "id": "pNvJZLxfVOpa",
        "outputId": "11eea832-0670-469f-efd4-e639b20bf546"
      },
      "source": [
        "paper_1 = Paper('Content in my paper', 11, 8, 1, 'landscape', True)\n",
        "print(paper_1)\n",
        "paper_1.update_content(\"This is the new content\")\n",
        "print(paper_1)"
      ],
      "execution_count": 144,
      "outputs": [
        {
          "output_type": "stream",
          "name": "stdout",
          "text": [
            "Content: Content in my paper Length: 11 Width: 8 Margin: 1 Print Layout: landscape Doublesided: True\n",
            "Content: This is the new content Length: 11 Width: 8 Margin: 1 Print Layout: landscape Doublesided: True\n"
          ]
        }
      ]
    },
    {
      "cell_type": "markdown",
      "metadata": {
        "id": "yHGEdoPpCrws"
      },
      "source": [
        "## Exercise 3\n",
        "\n",
        "Create a class called `Printer` that implements a queue. You should be able to store `Paper` objects in this queue so provide methods that add instances of `Paper` to the `Printer`'s queue and a toy method that \"prints\" `n` amount of \"jobs\" from the queue at a time. Demonstrate that this code works."
      ]
    },
    {
      "cell_type": "code",
      "metadata": {
        "id": "OBd9c2kzCrws"
      },
      "source": [
        "class Printer(Paper):\n",
        "  def __init__(self):\n",
        "    self.queue = {}\n",
        "    self.index = -1\n",
        "\n",
        "  def enqueue(self, content, length, width, margin, print_layout, doublesided):\n",
        "    paper = Paper(content=content, length=length, width=width, margin=margin, \n",
        "                print_layout=print_layout, doublesided=doublesided)\n",
        "    paper_str = str(paper)\n",
        "    self.index += 1\n",
        "    self.queue[self.index] = paper_str\n",
        "    return self.queue\n",
        "\n",
        "  def dequeue(self, n):\n",
        "    if n <= 0:\n",
        "      raise ValueError(\"Invalid queue time.\")\n",
        "\n",
        "    while n > 0:\n",
        "      for key in self.queue.keys():\n",
        "        removed_item = self.queue.pop(key)\n",
        "        print(\"Current removed item:\", removed_item)\n",
        "        break\n",
        "      n -= 1  \n",
        "\n",
        "  def __str__(self):\n",
        "    return paper"
      ],
      "execution_count": 168,
      "outputs": []
    },
    {
      "cell_type": "code",
      "metadata": {
        "colab": {
          "base_uri": "https://localhost:8080/"
        },
        "id": "0NJcZnODIVP-",
        "outputId": "050b8d70-634f-4825-892d-52d051e8a726"
      },
      "source": [
        "new_printer = Printer()\n",
        "new_printer.enqueue(\"Content in my paper\", 11, 8, 1, 'Portrait', True)\n",
        "new_printer.enqueue(\"Other in my paper\", 11, 8, 1, 'Portrait', True)\n",
        "print(new_printer.queue)\n",
        "new_printer.dequeue(2)"
      ],
      "execution_count": 170,
      "outputs": [
        {
          "output_type": "stream",
          "name": "stdout",
          "text": [
            "{0: 'Content: Content in my paper Length: 11 Width: 8 Margin: 1 Print Layout: Portrait Doublesided: True', 1: 'Content: Other in my paper Length: 11 Width: 8 Margin: 1 Print Layout: Portrait Doublesided: True'}\n",
            "Current removed item: Content: Content in my paper Length: 11 Width: 8 Margin: 1 Print Layout: Portrait Doublesided: True\n",
            "Current removed item: Content: Other in my paper Length: 11 Width: 8 Margin: 1 Print Layout: Portrait Doublesided: True\n"
          ]
        }
      ]
    }
  ]
}