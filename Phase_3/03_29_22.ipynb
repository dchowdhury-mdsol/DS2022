{
 "cells": [
  {
   "cell_type": "code",
   "execution_count": 13,
   "metadata": {},
   "outputs": [],
   "source": [
    "def naive_gradient_descent_with_MSE(x:list, y:list, alpha=0.001, iterations=1000, tolerance=0.001, theta_1=0): # only works when line passes thru origin\n",
    "    avg = 1 / len(x) # 1 / m\n",
    "    for i in range(iterations): # convergance failure case\n",
    "        # Starting process for MSE\n",
    "        MSE = 0\n",
    "        for count in range(len(x)): MSE += ((theta_1 * x[count]) - y[count]) * x[count]\n",
    "        new_theta_1 = theta_1 - (alpha * avg * MSE)\n",
    "        if abs(theta_1 - new_theta_1) < tolerance: return new_theta_1\n",
    "        theta_1 = new_theta_1\n",
    "    return f'Failed to converge'"
   ]
  },
  {
   "cell_type": "code",
   "execution_count": 18,
   "metadata": {},
   "outputs": [
    {
     "data": {
      "text/plain": [
       "0.997538265841357"
      ]
     },
     "execution_count": 18,
     "metadata": {},
     "output_type": "execute_result"
    }
   ],
   "source": [
    "test_set_x = [i for i in range(1, 11)]\n",
    "test_set_y = [i for i in range(1, 11)]\n",
    "naive_gradient_descent_with_MSE(test_set_x, test_set_y, tolerance=0.0001) # tolerance allows us to go closer to true 1"
   ]
  },
  {
   "cell_type": "code",
   "execution_count": 28,
   "metadata": {},
   "outputs": [],
   "source": [
    "def gradient_descent_with_MSE(x:list[int], y:list[int], alpha=0.001, iterations=1000, tolerance=0.0001, theta0=0, theta1=1):\n",
    "    avg = 1/len(x)\n",
    "    total_error = sum([(theta0 + (theta1 * x[i]) - y[i] ** 2) for i in range(len(x))])\n",
    "    for i in range(iterations):\n",
    "        MSE_THETA0 = 0\n",
    "        MSE_THETA1 = 1\n",
    "        for count in range(len(x)): MSE_THETA1 += ((theta0 + theta1 * x[count]) - y[count]) * x[count]\n",
    "        for count in range(len(x)): MSE_THETA0 += ((theta0 + theta1 * x[count]) - y[count])\n",
    "        new_theta1 = theta1 - (alpha * avg * MSE_THETA1)\n",
    "        new_theta0 = theta0 - (alpha * avg * MSE_THETA0)\n",
    "        new_error = sum([(new_theta0 + (new_theta1 * x[i]) - y[i])**2 for i in range(len(x))])\n",
    "        if abs(total_error - new_error) <= tolerance: return new_theta0, new_theta1, i\n",
    "        total_error = new_error\n",
    "        theta0 = new_theta0\n",
    "        theta1 = new_theta1\n",
    "    return new_theta0, new_theta1"
   ]
  },
  {
   "cell_type": "code",
   "execution_count": 29,
   "metadata": {},
   "outputs": [
    {
     "data": {
      "text/plain": [
       "(2.9999851308545473, 0.9993550136473618, 2110)"
      ]
     },
     "execution_count": 29,
     "metadata": {},
     "output_type": "execute_result"
    }
   ],
   "source": [
    "x_grad = [i for i in range(2, 21, 2)]\n",
    "y_grad = [i for i in range(5, 24, 2)]\n",
    "gradient_descent_with_MSE(x_grad, y_grad, iterations=10000, alpha=0.01, tolerance=0.00000001)"
   ]
  },
  {
   "cell_type": "code",
   "execution_count": 32,
   "metadata": {},
   "outputs": [],
   "source": [
    "import random\n",
    "\n",
    "def stochastic_descent_with_MSE(x:list[int], y:list[int], alpha=0.001, iterations=1000, tolerance=0.0001, theta0=0, theta1=1):\n",
    "    avg = 1/len(x)\n",
    "    total_error = sum([(theta0 + (theta1 * x[i]) - y[i] ** 2) for i in range(len(x))])\n",
    "    for i in range(iterations):\n",
    "        MSE_THETA0 = 0\n",
    "        MSE_THETA1 = 1\n",
    "        grabber = random.randint(0, len(x) - 1)\n",
    "        MSE_THETA1 += ((theta0 + theta1 * x[grabber]) - y[grabber]) * x[grabber]\n",
    "        MSE_THETA0 += ((theta0 + theta1 * x[grabber]) - y[grabber])\n",
    "        new_theta1 = theta1 - (alpha * MSE_THETA1)\n",
    "        new_theta0 = theta0 - (alpha * MSE_THETA0)\n",
    "        new_error = sum([(new_theta0 + (new_theta1 * x[i]) - y[i])**2 for i in range(len(x))])\n",
    "        if abs(total_error - new_error) <= tolerance: return new_theta0, new_theta1, i\n",
    "        total_error = new_error\n",
    "        theta0 = new_theta0\n",
    "        theta1 = new_theta1\n",
    "    return new_theta0, new_theta1"
   ]
  },
  {
   "cell_type": "code",
   "execution_count": 33,
   "metadata": {},
   "outputs": [
    {
     "data": {
      "text/plain": [
       "(0.6687752396878455, 1.1617045827646235)"
      ]
     },
     "execution_count": 33,
     "metadata": {},
     "output_type": "execute_result"
    }
   ],
   "source": [
    "stochastic_descent_with_MSE(x_grad, y_grad)"
   ]
  },
  {
   "cell_type": "code",
   "execution_count": 39,
   "metadata": {},
   "outputs": [
    {
     "ename": "ValueError",
     "evalue": "too many values to unpack (expected 2)",
     "output_type": "error",
     "traceback": [
      "\u001b[1;31m---------------------------------------------------------------------------\u001b[0m",
      "\u001b[1;31mValueError\u001b[0m                                Traceback (most recent call last)",
      "\u001b[1;32mc:\\Users\\daiya\\VisualStudioProjects\\DS2022\\Phase_3\\03_29_22.ipynb Cell 7'\u001b[0m in \u001b[0;36m<module>\u001b[1;34m\u001b[0m\n\u001b[0;32m      <a href='vscode-notebook-cell:/c%3A/Users/daiya/VisualStudioProjects/DS2022/Phase_3/03_29_22.ipynb#ch0000009?line=1'>2</a>\u001b[0m y_avg \u001b[39m=\u001b[39m []\n\u001b[0;32m      <a href='vscode-notebook-cell:/c%3A/Users/daiya/VisualStudioProjects/DS2022/Phase_3/03_29_22.ipynb#ch0000009?line=2'>3</a>\u001b[0m \u001b[39mfor\u001b[39;00m i \u001b[39min\u001b[39;00m \u001b[39mrange\u001b[39m(\u001b[39m0\u001b[39m, \u001b[39m100\u001b[39m):\n\u001b[1;32m----> <a href='vscode-notebook-cell:/c%3A/Users/daiya/VisualStudioProjects/DS2022/Phase_3/03_29_22.ipynb#ch0000009?line=3'>4</a>\u001b[0m     x, y \u001b[39m=\u001b[39m stochastic_descent_with_MSE(x_grad, y_grad, alpha\u001b[39m=\u001b[39m\u001b[39m0.01\u001b[39m, iterations\u001b[39m=\u001b[39m\u001b[39m1000000\u001b[39m, tolerance\u001b[39m=\u001b[39m\u001b[39m0.0001\u001b[39m)\n\u001b[0;32m      <a href='vscode-notebook-cell:/c%3A/Users/daiya/VisualStudioProjects/DS2022/Phase_3/03_29_22.ipynb#ch0000009?line=4'>5</a>\u001b[0m     x_avg\u001b[39m.\u001b[39mappend(x)\n\u001b[0;32m      <a href='vscode-notebook-cell:/c%3A/Users/daiya/VisualStudioProjects/DS2022/Phase_3/03_29_22.ipynb#ch0000009?line=5'>6</a>\u001b[0m     y_avg\u001b[39m.\u001b[39mappend(y)\n",
      "\u001b[1;31mValueError\u001b[0m: too many values to unpack (expected 2)"
     ]
    }
   ],
   "source": [
    "x_avg = []\n",
    "y_avg = []\n",
    "for i in range(0, 100):\n",
    "    x, y = stochastic_descent_with_MSE(x_grad, y_grad, alpha=0.01, iterations=1000000, tolerance=0.0001)\n",
    "    x_avg.append(x)\n",
    "    y_avg.append(y)\n",
    "(sum(x_avg) / len(x_avg), sum(y_avg) / len(y_avg))"
   ]
  }
 ],
 "metadata": {
  "interpreter": {
   "hash": "d9a4ba7a39ad5692da286452aea182a2f639774b342ad6371c4f013f8b98072d"
  },
  "kernelspec": {
   "display_name": "Python 3.10.4 64-bit",
   "language": "python",
   "name": "python3"
  },
  "language_info": {
   "codemirror_mode": {
    "name": "ipython",
    "version": 3
   },
   "file_extension": ".py",
   "mimetype": "text/x-python",
   "name": "python",
   "nbconvert_exporter": "python",
   "pygments_lexer": "ipython3",
   "version": "3.10.4"
  },
  "orig_nbformat": 4
 },
 "nbformat": 4,
 "nbformat_minor": 2
}
