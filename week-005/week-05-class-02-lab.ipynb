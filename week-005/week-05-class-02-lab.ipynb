{
  "nbformat": 4,
  "nbformat_minor": 0,
  "metadata": {
    "kernelspec": {
      "display_name": "Python 3",
      "language": "python",
      "name": "python3"
    },
    "language_info": {
      "codemirror_mode": {
        "name": "ipython",
        "version": 3
      },
      "file_extension": ".py",
      "mimetype": "text/x-python",
      "name": "python",
      "nbconvert_exporter": "python",
      "pygments_lexer": "ipython3",
      "version": "3.8.5"
    },
    "colab": {
      "name": "week-05-class-02-lab.ipynb",
      "provenance": []
    }
  },
  "cells": [
    {
      "cell_type": "markdown",
      "metadata": {
        "id": "D9Vn43uOp-GL"
      },
      "source": [
        "<div style=\"background: #000;\n",
        "            color: #FFF;\n",
        "            margin: 0px;\n",
        "                padding: 10px 0px 20px 0px;\n",
        "            text-align: center; \n",
        "                \">\n",
        "    <h1>Week 5 - Class 2 - Lab</h1>\n",
        "</div>"
      ]
    },
    {
      "cell_type": "markdown",
      "metadata": {
        "id": "AxyN_SKup-GO"
      },
      "source": [
        "# Question 1:\n",
        "\n",
        "What is the time complexity of the following code? Explain your answer.\n",
        "\n",
        "```python3\n",
        "def function_a(*args):\n",
        "    array = []\n",
        "    length = len(args)\n",
        "    \n",
        "    for i in range(0, length-1):\n",
        "        print(i)\n",
        "    \n",
        "    for i in range(0, length-1):\n",
        "        for j in range(0, length-1):\n",
        "            for k in range(0, length-1):\n",
        "                array.append([i, j, k])\n",
        "    \n",
        "    for val in array:\n",
        "        print(val)\n",
        "    \n",
        "    return array\n",
        "            \n",
        "\n",
        "\n",
        "```\n"
      ]
    },
    {
      "cell_type": "raw",
      "metadata": {
        "id": "XlUJUn2gp-GO"
      },
      "source": [
        "Time complexity is n^3 because there are 3 for loops nested so its n * n * n and the other two for loops are linear."
      ]
    },
    {
      "cell_type": "markdown",
      "metadata": {
        "id": "aTrJbL1Dp-GP"
      },
      "source": [
        "# Exercise 1:\n",
        "\n",
        "Create a function of your own choosing that uses `if`, `for` or `while`. What is the time complexity?"
      ]
    },
    {
      "cell_type": "code",
      "metadata": {
        "id": "wRjddaqlp-GP",
        "outputId": "b8425150-3be0-43da-8f4b-f361be105bf5",
        "colab": {
          "base_uri": "https://localhost:8080/"
        }
      },
      "source": [
        "# time complexity of n^2\n",
        "for i in range(0, 3):\n",
        "  for j in range(i, 3):\n",
        "    print(i, j)"
      ],
      "execution_count": 7,
      "outputs": [
        {
          "output_type": "stream",
          "name": "stdout",
          "text": [
            "0 0\n",
            "0 1\n",
            "0 2\n",
            "1 1\n",
            "1 2\n",
            "2 2\n"
          ]
        }
      ]
    },
    {
      "cell_type": "markdown",
      "metadata": {
        "id": "q4njRkrHp-GQ"
      },
      "source": [
        "# Exercise 2:\n",
        "\n",
        "Write a lambda function that checks whether or not a given string starts with a given character. \n",
        "\n",
        "Hint: Use a string method."
      ]
    },
    {
      "cell_type": "code",
      "metadata": {
        "id": "4wDRt3SBp-GQ",
        "outputId": "cd110816-9b76-4fd2-ad95-c479201a563c",
        "colab": {
          "base_uri": "https://localhost:8080/"
        }
      },
      "source": [
        "string = \"abc\"\n",
        "string2 = \"cba\"\n",
        "check = lambda x: True if(x[0] == 'a') else False\n",
        "print(check(string))\n",
        "print(check(string2))"
      ],
      "execution_count": 5,
      "outputs": [
        {
          "output_type": "stream",
          "name": "stdout",
          "text": [
            "True\n",
            "False\n"
          ]
        }
      ]
    },
    {
      "cell_type": "markdown",
      "metadata": {
        "id": "cX3Nki8Yp-GQ"
      },
      "source": [
        "# Exercise 3:\n",
        "\n",
        "Create a function called `checker` that takes a tuple of three values, checks if there's a pair of numbers and returns the 3rd. If no doubles, return False. If there's a triple return the non-paired number and \"triple\" Use the code in the following cell to generate tuples.\n",
        "\n",
        "E.g. \n",
        "\n",
        "`checker(2,3,2)` would return 3    \n",
        "`checker(1,2,3)` would return False  \n",
        "`checker(3,3,3)` would return 3, \"triple\"  \n"
      ]
    },
    {
      "cell_type": "code",
      "metadata": {
        "id": "tq_KXiv7p-GR",
        "outputId": "f2f8d7a0-3d8c-4916-c686-8a2655cdac1c",
        "colab": {
          "base_uri": "https://localhost:8080/"
        }
      },
      "source": [
        "import random\n",
        "\n",
        "def dice_roller():\n",
        "    return (random.randint(1,6), random.randint(1,6), random.randint(1,6))\n",
        "\n",
        "three_dice_rolls = dice_roller()\n",
        "\n",
        "three_dice_rolls"
      ],
      "execution_count": 69,
      "outputs": [
        {
          "output_type": "execute_result",
          "data": {
            "text/plain": [
              "(1, 5, 5)"
            ]
          },
          "metadata": {},
          "execution_count": 69
        }
      ]
    },
    {
      "cell_type": "code",
      "metadata": {
        "id": "GO7IR4K-p-GS",
        "outputId": "d31c524b-f443-4820-8fe7-36a8d3639157",
        "colab": {
          "base_uri": "https://localhost:8080/"
        }
      },
      "source": [
        "def checker(three_tuple):\n",
        "  if three_tuple[0] == three_tuple[1] == three_tuple[2]:\n",
        "    print(three_tuple[0], \"triple\")\n",
        "  elif three_tuple[0] == three_tuple[1] or three_tuple[2] == three_tuple[0]:\n",
        "    print(three_tuple[0])\n",
        "  elif three_tuple[1] == three_tuple[2]:\n",
        "    print(three_tuple[1])\n",
        "  else:\n",
        "    print(False)\n",
        "  return three_tuple\n",
        "\n",
        "checker(three_dice_rolls)"
      ],
      "execution_count": 72,
      "outputs": [
        {
          "output_type": "stream",
          "name": "stdout",
          "text": [
            "5\n"
          ]
        },
        {
          "output_type": "execute_result",
          "data": {
            "text/plain": [
              "(1, 5, 5)"
            ]
          },
          "metadata": {},
          "execution_count": 72
        }
      ]
    },
    {
      "cell_type": "markdown",
      "metadata": {
        "id": "a7MSlkTSp-GT"
      },
      "source": [
        "# Bonus: \n",
        "\n",
        "Create your own naive (unsophisticated) sorting algorithm that takes a list of ints and sorts the elements. It doesn't not have to be efficient, it just needs to give the correct sorted list as output. No points for using any built in or library method that sorts."
      ]
    },
    {
      "cell_type": "code",
      "metadata": {
        "id": "nygtiRFVp-GT"
      },
      "source": [
        ""
      ],
      "execution_count": null,
      "outputs": []
    }
  ]
}