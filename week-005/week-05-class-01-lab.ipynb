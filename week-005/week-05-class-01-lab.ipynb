{
  "nbformat": 4,
  "nbformat_minor": 0,
  "metadata": {
    "kernelspec": {
      "name": "python3",
      "display_name": "Python 3.9.5 64-bit"
    },
    "language_info": {
      "codemirror_mode": {
        "name": "ipython",
        "version": 3
      },
      "file_extension": ".py",
      "mimetype": "text/x-python",
      "name": "python",
      "nbconvert_exporter": "python",
      "pygments_lexer": "ipython3",
      "version": "3.9.5"
    },
    "interpreter": {
      "hash": "aee8b7b246df8f9039afb4144a1f6fd8d2ca17a180786b69acc140d282b71a49"
    },
    "colab": {
      "name": "week-05-class-01-lab.ipynb",
      "provenance": []
    }
  },
  "cells": [
    {
      "cell_type": "markdown",
      "metadata": {
        "id": "U8fpldFwRvno"
      },
      "source": [
        "<div style=\"background: #000;\n",
        "            color: #FFF;\n",
        "            margin: 0px;\n",
        "                padding: 10px 0px 20px 0px;\n",
        "            text-align: center; \n",
        "                \">\n",
        "    <h1>Week 5 - Class 1 - Lab</h1>\n",
        "</div>"
      ]
    },
    {
      "cell_type": "markdown",
      "metadata": {
        "id": "bt0_t2gnRvnq"
      },
      "source": [
        "# Question 1:\n",
        "\n",
        "What are signs you should use a recursive function? What happens when you do a recursive function call in a return statement?\n",
        "\n",
        "Walk us through how recursive functions work in your answer."
      ]
    },
    {
      "cell_type": "markdown",
      "metadata": {
        "id": "XZZR3TXNRvnr"
      },
      "source": [
        "# Exercise 1:\n",
        "\n",
        "Create a function using the following function that will take your choice of the following and input:\n",
        "\n",
        "\"R\" (rock), \"P\" (paper), or \"S\" (scissors) \n",
        "\n",
        "and return whether or not you beat the computer.\n"
      ]
    },
    {
      "cell_type": "code",
      "metadata": {
        "colab": {
          "base_uri": "https://localhost:8080/"
        },
        "id": "9InmICObRvnr",
        "outputId": "5a31b6be-7d3c-4526-f862-a2d3fa6f2ce7"
      },
      "source": [
        "import random\n",
        "def computers_turn():\n",
        "    choices = {\n",
        "        0: 'rock',\n",
        "        1: 'paper',\n",
        "        2: 'scissors',\n",
        "    }\n",
        "    turn = random.randint(0,2)\n",
        "  \n",
        "    return (turn, choices[turn])\n",
        "\n",
        "computers_turn()"
      ],
      "execution_count": 73,
      "outputs": [
        {
          "output_type": "execute_result",
          "data": {
            "text/plain": [
              "(2, 'scissors')"
            ]
          },
          "metadata": {},
          "execution_count": 73
        }
      ]
    },
    {
      "cell_type": "code",
      "metadata": {
        "colab": {
          "base_uri": "https://localhost:8080/",
          "height": 87
        },
        "id": "mhbOh-KfRvnu",
        "outputId": "ab2523ee-9a8b-414b-fd5d-0df933e37073"
      },
      "source": [
        "def user_turn():\n",
        "  user_input = input(\"R(rock), P(paper), or S(scissors): \")\n",
        "  if user_input == 'R':\n",
        "    num_val = 0\n",
        "  elif user_input == 'P':\n",
        "    num_val = 1\n",
        "  elif user_input == 'S':\n",
        "    num_val = 2\n",
        "  else:\n",
        "    user_turn()\n",
        "\n",
        "  comp_val = computers_turn()[0]\n",
        "\n",
        "  if (num_val == 1 and comp_val == 0) or (num_val == 2 and comp_val == 1) or (num_val == 0 and comp_val == 2):\n",
        "    print(\"You picked:\", user_input)\n",
        "    print(\"Computer picked:\", computers_turn()[1])\n",
        "    return \"You win!\"\n",
        "  elif (num_val == 0 and comp_val == 1) or (num_val == 1 and comp_val == 2) or (num_val == 2 and comp_val == 0):\n",
        "    print(\"You picked:\", user_input)\n",
        "    print(\"Computer picked:\", computers_turn()[1])\n",
        "    return \"Computer wins!\" \n",
        "  else:\n",
        "    print(\"You picked:\", user_input)\n",
        "    print(\"Computer picked:\", computers_turn()[1])\n",
        "    return \"Tie\"\n",
        "\n",
        "user_turn()"
      ],
      "execution_count": 89,
      "outputs": [
        {
          "output_type": "stream",
          "name": "stdout",
          "text": [
            "R(rock), P(paper), or S(scissors): P\n",
            "You picked: P\n",
            "Computer picked: scissors\n"
          ]
        },
        {
          "output_type": "execute_result",
          "data": {
            "application/vnd.google.colaboratory.intrinsic+json": {
              "type": "string"
            },
            "text/plain": [
              "'Computer wins!'"
            ]
          },
          "metadata": {},
          "execution_count": 89
        }
      ]
    },
    {
      "cell_type": "markdown",
      "metadata": {
        "id": "2f9j4SiQRvnv"
      },
      "source": [
        "# Exercise 2:\n",
        "\n",
        "Create a function that takes a string, converts it to upper, sorts it and then take the `ord()` of each element of the string and adds it to a list. Output the final list."
      ]
    },
    {
      "cell_type": "code",
      "metadata": {
        "id": "h3Py_Y7WRvnv"
      },
      "source": [
        ""
      ],
      "execution_count": null,
      "outputs": []
    },
    {
      "cell_type": "markdown",
      "metadata": {
        "id": "HxcH8MHYRvnw"
      },
      "source": [
        "# Exercise 3:\n",
        "\n",
        "Create a recursive function that computers the powers of a number using the following equation:\n",
        "\n",
        "   $$ x^{n} = x * x^{n-1} $$ "
      ]
    },
    {
      "cell_type": "code",
      "metadata": {
        "colab": {
          "base_uri": "https://localhost:8080/"
        },
        "id": "Y5twZS5BRvnx",
        "outputId": "224e9f39-36a3-4755-df9a-926b6bdf7476"
      },
      "source": [
        "def power(x, n):\n",
        "  if n == 0:\n",
        "    return 1\n",
        "  elif n == 1:\n",
        "    return x\n",
        "  else:\n",
        "    return x * power(x, n - 1)\n",
        "\n",
        "power(6, 2)"
      ],
      "execution_count": 8,
      "outputs": [
        {
          "output_type": "execute_result",
          "data": {
            "text/plain": [
              "36"
            ]
          },
          "metadata": {},
          "execution_count": 8
        }
      ]
    }
  ]
}