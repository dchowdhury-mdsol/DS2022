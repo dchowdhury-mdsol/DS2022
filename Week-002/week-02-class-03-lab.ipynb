{
  "nbformat": 4,
  "nbformat_minor": 0,
  "metadata": {
    "kernelspec": {
      "display_name": "Python 3",
      "language": "python",
      "name": "python3"
    },
    "language_info": {
      "codemirror_mode": {
        "name": "ipython",
        "version": 3
      },
      "file_extension": ".py",
      "mimetype": "text/x-python",
      "name": "python",
      "nbconvert_exporter": "python",
      "pygments_lexer": "ipython3",
      "version": "3.8.5"
    },
    "colab": {
      "name": "week-02-class-03-lab.ipynb",
      "provenance": []
    }
  },
  "cells": [
    {
      "cell_type": "markdown",
      "metadata": {
        "id": "2XzdHnv1TLp6"
      },
      "source": [
        "<div style=\"background: #000;\n",
        "            color: #FFF;\n",
        "            margin: 0px;\n",
        "                padding: 10px 0px 20px 0px;\n",
        "            text-align: center; \n",
        "                \">\n",
        "    <h1>Week 2 Class 3 Lab</h1>\n",
        "</div>"
      ]
    },
    {
      "cell_type": "markdown",
      "metadata": {
        "id": "LEHCXC_qTLp7"
      },
      "source": [
        "# Question 1\n",
        "\n",
        "When might you use a dictionary? Why? Explain in your own words"
      ]
    },
    {
      "cell_type": "markdown",
      "metadata": {
        "id": "AHPxA5FLTLp7"
      },
      "source": [
        "# Question 2\n",
        "\n",
        "When might you use a set? Why? Explain in your own words."
      ]
    },
    {
      "cell_type": "markdown",
      "metadata": {
        "id": "TVnjixI4TLp7"
      },
      "source": [
        "# Exercise 1 \n",
        "\n",
        "Create a dictionary and populate it with keys from 0 to 9 and a default value of \"None\". Then set the values of all keys divisible by 2 to be the value times itself. "
      ]
    },
    {
      "cell_type": "code",
      "metadata": {
        "colab": {
          "base_uri": "https://localhost:8080/"
        },
        "id": "jgYfVFz5TLp7",
        "outputId": "0a1b0e10-7c34-4946-e7ad-a974a5aa895c"
      },
      "source": [
        "nums = [0, 1, 2, 3, 4, 5, 6, 7, 8, 9]\n",
        "numbers = dict.fromkeys(nums)\n",
        "for key in numbers.keys():\n",
        "  if key % 2 == 0:\n",
        "    numbers[key] = key ** 2\n",
        "print(numbers)"
      ],
      "execution_count": 136,
      "outputs": [
        {
          "output_type": "stream",
          "name": "stdout",
          "text": [
            "{0: 0, 1: None, 2: 4, 3: None, 4: 16, 5: None, 6: 36, 7: None, 8: 64, 9: None}\n"
          ]
        }
      ]
    },
    {
      "cell_type": "code",
      "metadata": {
        "id": "M01hz63-W2ZI"
      },
      "source": [
        ""
      ],
      "execution_count": null,
      "outputs": []
    },
    {
      "cell_type": "markdown",
      "metadata": {
        "id": "of188Ip5TLp7"
      },
      "source": [
        "# Exercise 2\n",
        "\n",
        "Given a list of words and utilizing set methods print the words that can be typed using letters of alphabet on only one row's of the (American) keyboard. You may use one character in the keyboard more than once. \n",
        "\n",
        " "
      ]
    },
    {
      "cell_type": "code",
      "metadata": {
        "colab": {
          "base_uri": "https://localhost:8080/"
        },
        "id": "a4_gzyPhTLp8",
        "outputId": "4aef2d3a-2380-44c3-8b49-0976e9bc066c"
      },
      "source": [
        "words = set(['type', 'router', 'pine', 'dash', 'top', 'rower', 'freedom'])\n",
        "row = set('asdfghjkl')\n",
        "\n",
        "for word in words:\n",
        "  for letter in word:\n",
        "    if row.intersection(letter):\n",
        "      if row.union(letter):\n",
        "        print(word)\n",
        "        break\n",
        "      break\n",
        "    break"
      ],
      "execution_count": 155,
      "outputs": [
        {
          "output_type": "stream",
          "name": "stdout",
          "text": [
            "freedom\n",
            "dash\n"
          ]
        }
      ]
    },
    {
      "cell_type": "markdown",
      "metadata": {
        "id": "OIKPkYCOTLp8"
      },
      "source": [
        "# Exercise 3\n",
        "\n",
        "Given a list of students, find the students who favorite colors are the same utitlizng set methods. Print the name of the students who share similar tastes in colors. "
      ]
    },
    {
      "cell_type": "code",
      "metadata": {
        "colab": {
          "base_uri": "https://localhost:8080/"
        },
        "id": "jvquRHyGTLp8",
        "outputId": "ece6238a-2cf7-4288-cf3a-8837f8ac4047"
      },
      "source": [
        "students = [{\"name\":\"Rob\",\"student_id\": 115, \"favorite_colors\":{\"red\",\"green\"}},{\"name\":\"Clara\",\"student_id\": 15, \"favorite_colors\":{\"blue\",\"red\",\"green\"}}, {\"name\":\"Sally\",\"student_id\": 21, \"favorite_colors\":{\"black\"}}, {\"name\":\"Jim\",\"student_id\": 33, \"favorite_colors\":{\"blue\",\"green\"}}]\n",
        "\n",
        "for student in students:\n",
        "  for keys in student.keys():\n",
        "    for values in student.values():\n",
        "      print(values)\n",
        "    print(keys)\n",
        "    break\n",
        "\n",
        "print(students)"
      ],
      "execution_count": 137,
      "outputs": [
        {
          "output_type": "stream",
          "name": "stdout",
          "text": [
            "Rob\n",
            "115\n",
            "{'red', 'green'}\n",
            "name\n",
            "Clara\n",
            "15\n",
            "{'red', 'green', 'blue'}\n",
            "name\n",
            "Sally\n",
            "21\n",
            "{'black'}\n",
            "name\n",
            "Jim\n",
            "33\n",
            "{'green', 'blue'}\n",
            "name\n",
            "[{'name': 'Rob', 'student_id': 115, 'favorite_colors': {'red', 'green'}}, {'name': 'Clara', 'student_id': 15, 'favorite_colors': {'red', 'green', 'blue'}}, {'name': 'Sally', 'student_id': 21, 'favorite_colors': {'black'}}, {'name': 'Jim', 'student_id': 33, 'favorite_colors': {'green', 'blue'}}]\n"
          ]
        }
      ]
    },
    {
      "cell_type": "code",
      "metadata": {
        "id": "apHCX405TLp8"
      },
      "source": [
        ""
      ],
      "execution_count": null,
      "outputs": []
    }
  ]
}