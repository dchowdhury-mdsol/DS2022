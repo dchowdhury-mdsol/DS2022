{
  "nbformat": 4,
  "nbformat_minor": 0,
  "metadata": {
    "kernelspec": {
      "display_name": "Python 3",
      "language": "python",
      "name": "python3"
    },
    "language_info": {
      "codemirror_mode": {
        "name": "ipython",
        "version": 3
      },
      "file_extension": ".py",
      "mimetype": "text/x-python",
      "name": "python",
      "nbconvert_exporter": "python",
      "pygments_lexer": "ipython3",
      "version": "3.9.0"
    },
    "colab": {
      "name": "week-02-class-02-lab.ipynb",
      "provenance": []
    }
  },
  "cells": [
    {
      "cell_type": "markdown",
      "metadata": {
        "id": "bhUPoXkIfybZ"
      },
      "source": [
        "<div style=\"background: #000;\n",
        "            color: #FFF;\n",
        "            margin: 0px;\n",
        "                padding: 10px 0px 20px 0px;\n",
        "            text-align: center; \n",
        "                \">\n",
        "    <h1>Week 2 Class 2 Lab</h1>\n",
        "</div>"
      ]
    },
    {
      "cell_type": "markdown",
      "metadata": {
        "id": "XLYHjDLsfyba"
      },
      "source": [
        "# Question 1\n",
        "\n",
        "In your own words, explain the difference between lists and tuples. Explain a situation where it may be useful to use tuples instead of lists."
      ]
    },
    {
      "cell_type": "markdown",
      "metadata": {
        "id": "4dFnzWEmfybb"
      },
      "source": [
        "# Exercise 1\n",
        "\n",
        "Create a tuple with four values (ints or strings) or  in it. Unpack the tuple into four variables. Create a list with those four values. Turn the list into a string. Add that to the end of a separate string (create whatever you'd like). Now make a tuple  from  that string and output one element from it.\n",
        "\n",
        "Follow each step as described. Show all your work in python statements. "
      ]
    },
    {
      "cell_type": "code",
      "metadata": {
        "id": "S3Fmqnetfybc"
      },
      "source": [
        "my_tuple = (\"I\", \"Like\", \"Eating\", \"Cheese\")\n",
        "(I, Like, Eating, Cheese) = my_tuple\n",
        "my_list = [I, Like, Eating, Cheese]\n",
        "my_string = \"Seriously, \"\n",
        "for item in my_list:\n",
        "  my_string = my_string + item + \" \"\n",
        "\n",
        "new_tuple = tuple(map(str, my_string.split(', ')))\n",
        "new_tuple[0]"
      ],
      "execution_count": null,
      "outputs": []
    },
    {
      "cell_type": "markdown",
      "metadata": {
        "id": "bSO3ZTG7fybc"
      },
      "source": [
        "# Exercise 2\n",
        "\n",
        "Given the following list. Use list indexing and operations to normalize the data so all values are floats.\n",
        "\n",
        "Convert alphabetical characters to their ordinal value."
      ]
    },
    {
      "cell_type": "code",
      "metadata": {
        "id": "COpFfCedfybc",
        "outputId": "8916e8ff-24a4-4f3a-9672-f979d1563724",
        "colab": {
          "base_uri": "https://localhost:8080/"
        }
      },
      "source": [
        "a = ['23', 95, '4', 0x2ce, 9, '35', 'a', 40.0,]\n",
        "a[0] = float(a[0])\n",
        "a[1] = float(a[1])\n",
        "a[2] = float(a[2])\n",
        "a[3] = float(a[3])\n",
        "a[4] = float(a[4])\n",
        "a[5] = float(a[5])\n",
        "a[6] = float(ord(a[6]))"
      ],
      "execution_count": 17,
      "outputs": [
        {
          "output_type": "execute_result",
          "data": {
            "text/plain": [
              "[23.0, 95.0, 4.0, 718.0, 9.0, 35.0, 97.0, 40.0]"
            ]
          },
          "metadata": {},
          "execution_count": 17
        }
      ]
    },
    {
      "cell_type": "markdown",
      "metadata": {
        "id": "O3oTPf45fybd"
      },
      "source": [
        "# Exercise 3\n",
        "\n",
        "We would like to use a list as a queue. A queue in computer science is a structure that operates using FIFO (first in first out). As entries come in, they're added/inserted to the back of the queue. When the code processing the entries is ready for a new entry, it pulls/removes from the front of the queue. Similar to how lines at a supermarket work.\n",
        "\n",
        "Create an empty list to represent our queue. What list operation would allow us to add new entries at the back of the queue. What list operation would remove the first entry on the list? Write python code that creates an empty 'queue', add entries to the queue, and pulls from the front of the queue. \n",
        "\n",
        "Show these steps in a series of python statements. (No need to create a function or do anything we haven't covered in depth.)"
      ]
    },
    {
      "cell_type": "code",
      "metadata": {
        "id": "LPB0P9xAfybd",
        "outputId": "731274d8-eb25-4de3-9793-6213a8295272",
        "colab": {
          "base_uri": "https://localhost:8080/"
        }
      },
      "source": [
        "queue = []\n",
        "user = \"\"\n",
        "while user != '1':\n",
        "  user = input(\"Enter food name. Press 1 to exit: \")\n",
        "  if user != '1':\n",
        "    queue.append(user)\n",
        "\n",
        "while len(queue) > 0:\n",
        "  print(\"Here is your food in entered order: \" + queue.pop(0))"
      ],
      "execution_count": 24,
      "outputs": [
        {
          "output_type": "stream",
          "name": "stdout",
          "text": [
            "Enter food name. Press 1 to exit: Guac\n",
            "Enter food name. Press 1 to exit: Rice\n",
            "Enter food name. Press 1 to exit: Chicken\n",
            "Enter food name. Press 1 to exit: 1\n",
            "['Guac', 'Rice', 'Chicken']\n",
            "Here is your food in entered order: Guac\n",
            "Here is your food in entered order: Rice\n",
            "Here is your food in entered order: Chicken\n"
          ]
        }
      ]
    },
    {
      "cell_type": "code",
      "metadata": {
        "id": "W_mxMALmfybe"
      },
      "source": [
        ""
      ],
      "execution_count": null,
      "outputs": []
    }
  ]
}