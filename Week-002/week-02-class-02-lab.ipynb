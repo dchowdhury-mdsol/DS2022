{
  "nbformat": 4,
  "nbformat_minor": 0,
  "metadata": {
    "kernelspec": {
      "display_name": "Python 3",
      "language": "python",
      "name": "python3"
    },
    "language_info": {
      "codemirror_mode": {
        "name": "ipython",
        "version": 3
      },
      "file_extension": ".py",
      "mimetype": "text/x-python",
      "name": "python",
      "nbconvert_exporter": "python",
      "pygments_lexer": "ipython3",
      "version": "3.9.0"
    },
    "colab": {
      "name": "week-02-class-02-lab.ipynb",
      "provenance": []
    }
  },
  "cells": [
    {
      "cell_type": "markdown",
      "metadata": {
        "id": "4mut5lo1gHW8"
      },
      "source": [
        "<div style=\"background: #000;\n",
        "            color: #FFF;\n",
        "            margin: 0px;\n",
        "                padding: 10px 0px 20px 0px;\n",
        "            text-align: center; \n",
        "                \">\n",
        "    <h1>Week 2 Class 2 Lab</h1>\n",
        "</div>"
      ]
    },
    {
      "cell_type": "markdown",
      "metadata": {
        "id": "rlQjRZqYgHW9"
      },
      "source": [
        "# Question 1\n",
        "\n",
        "In your own words, explain the difference between lists and tuples. Explain a situation where it may be useful to use tuples instead of lists.\n",
        "\n",
        "Tuples can not be changed once created, but lists can be changed (increase in size, changed values, etc).\n",
        "\n",
        "It can be useful to use Tuples when you want to create a list that not changeable (set of pre-defined passwords)"
      ]
    },
    {
      "cell_type": "markdown",
      "metadata": {
        "id": "QCxtIDpEgHW9"
      },
      "source": [
        "# Exercise 1\n",
        "\n",
        "Create a tuple with four values (ints or strings) or  in it. Unpack the tuple into four variables. Create a list with those four values. Turn the list into a string. Add that to the end of a separate string (create whatever you'd like). Now make a tuple  from  that string and output one element from it.\n",
        "\n",
        "Follow each step as described. Show all your work in python statements. "
      ]
    },
    {
      "cell_type": "code",
      "metadata": {
        "id": "z0ig5yPOgHW9",
        "outputId": "fc6a7933-a209-4fa2-9340-b63cccd35ae4",
        "colab": {
          "base_uri": "https://localhost:8080/"
        }
      },
      "source": [
        "# Step 1: Create Tuple with 4 values\n",
        "my_tuple = (\"I\", \"have\", 10, \"apples\")\n",
        "\n",
        "# Step 2: Unpack tuple in 4 variables\n",
        "var_1 = my_tuple[0]\n",
        "var_2 = my_tuple[1]\n",
        "var_3 = my_tuple[2]\n",
        "var_4 = my_tuple[3]\n",
        "\n",
        "# Step 3: Create list with created variables\n",
        "my_list = [var_1, var_2, var_3, var_4]\n",
        "\n",
        "# Step 4: Turn list into a string\n",
        "my_string = \"\"\n",
        "for item in my_list:\n",
        "  my_string += \" \" + str(item)\n",
        "\n",
        "# Step 5: Add string to the end of another string\n",
        "my_other_string = \"Seriously,\"\n",
        "my_other_string += my_string\n",
        "\n",
        "# Step 6: Turn newly made string into tuple\n",
        "my_other_tuple = tuple(map(str, my_other_string.split(' ')))\n",
        "\n",
        "my_other_tuple"
      ],
      "execution_count": 14,
      "outputs": [
        {
          "output_type": "execute_result",
          "data": {
            "text/plain": [
              "('Seriously,', 'I', 'have', '10', 'apples')"
            ]
          },
          "metadata": {},
          "execution_count": 14
        }
      ]
    },
    {
      "cell_type": "markdown",
      "metadata": {
        "id": "P1XFns3kgHW-"
      },
      "source": [
        "# Exercise 2\n",
        "\n",
        "Given the following list. Use list indexing and operations to normalize the data so all values are floats.\n",
        "\n",
        "Convert alphabetical characters to their ordinal value."
      ]
    },
    {
      "cell_type": "code",
      "metadata": {
        "id": "clgK6N0VgHW-"
      },
      "source": [
        "a = ['23', 95, '4', 0x2ce, 9, '35', 'a', 40.0,]"
      ],
      "execution_count": 20,
      "outputs": []
    },
    {
      "cell_type": "code",
      "metadata": {
        "id": "-_uBM_Vn2oEJ",
        "outputId": "6d1c473f-93eb-4f3c-ce2b-cf1fcc2e0d9b",
        "colab": {
          "base_uri": "https://localhost:8080/"
        }
      },
      "source": [
        "a[0] = float(a[0])\n",
        "a[1] = float(a[1])\n",
        "a[2] = float(a[2])\n",
        "a[3] = float(a[3])\n",
        "a[4] = float(a[4])\n",
        "a[5] = float(a[5])\n",
        "a[6] = float(ord(a[6]))\n",
        "\n",
        "a"
      ],
      "execution_count": 21,
      "outputs": [
        {
          "output_type": "execute_result",
          "data": {
            "text/plain": [
              "[23.0, 95.0, 4.0, 718.0, 9.0, 35.0, 97.0, 40.0]"
            ]
          },
          "metadata": {},
          "execution_count": 21
        }
      ]
    },
    {
      "cell_type": "markdown",
      "metadata": {
        "id": "Ut4IM-cfgHW-"
      },
      "source": [
        "# Exercise 3\n",
        "\n",
        "We would like to use a list as a queue. A queue in computer science is a structure that operates using FIFO (first in first out). As entries come in, they're added/inserted to the back of the queue. When the code processing the entries is ready for a new entry, it pulls/removes from the front of the queue. Similar to how lines at a supermarket work.\n",
        "\n",
        "Create an empty list to represent our queue. What list operation would allow us to add new entries at the back of the queue. What list operation would remove the first entry on the list? Write python code that creates an empty 'queue', add entries to the queue, and pulls from the front of the queue. \n",
        "\n",
        "Show these steps in a series of python statements. (No need to create a function or do anything we haven't covered in depth.)"
      ]
    },
    {
      "cell_type": "code",
      "metadata": {
        "id": "aEh0mNJegHW-",
        "outputId": "69bb9511-d935-427d-d27f-1e8a7e70f9f5",
        "colab": {
          "base_uri": "https://localhost:8080/"
        }
      },
      "source": [
        "# making the queue\n",
        "\n",
        "def make_queue(list, limit):\n",
        "  while limit > 0:\n",
        "    item = input(\"Enter an item in the queue: \")\n",
        "    list.append(item) # Allows us to add items to the end of a list\n",
        "    limit -= 1\n",
        "\n",
        "queue = [] \n",
        "make_queue(queue, 10)\n",
        "print(queue)"
      ],
      "execution_count": 39,
      "outputs": [
        {
          "output_type": "stream",
          "name": "stdout",
          "text": [
            "Enter an item in the queue: Hi\n",
            "Enter an item in the queue: my\n",
            "Enter an item in the queue: name\n",
            "Enter an item in the queue: is\n",
            "Enter an item in the queue: Daiyan\n",
            "Enter an item in the queue: and\n",
            "Enter an item in the queue: I\n",
            "Enter an item in the queue: am\n",
            "Enter an item in the queue: 22\n",
            "Enter an item in the queue: years\n",
            "['Hi', 'my', 'name', 'is', 'Daiyan', 'and', 'I', 'am', '22', 'years']\n"
          ]
        }
      ]
    },
    {
      "cell_type": "code",
      "metadata": {
        "id": "9IB0cRCBgHW_",
        "outputId": "992243ee-9e88-4c07-9338-01d304c35d7f",
        "colab": {
          "base_uri": "https://localhost:8080/"
        }
      },
      "source": [
        "# removing item from the queue\n",
        "\n",
        "def remove_items(list, num_items):\n",
        "  original_len = len(list)\n",
        "  print(\"Here is the list of items removed:\")\n",
        "  while len(list) > (original_len - num_items):\n",
        "    val = list.pop(0) # pops out value from index 0, first value\n",
        "    print(val)\n",
        "\n",
        "remove_items(queue, 4)\n",
        "print(\"Here is the queue:\", queue)"
      ],
      "execution_count": 40,
      "outputs": [
        {
          "output_type": "stream",
          "name": "stdout",
          "text": [
            "Here is the list of items removed:\n",
            "Hi\n",
            "my\n",
            "name\n",
            "is\n",
            "Here is the queue: ['Daiyan', 'and', 'I', 'am', '22', 'years']\n"
          ]
        }
      ]
    }
  ]
}