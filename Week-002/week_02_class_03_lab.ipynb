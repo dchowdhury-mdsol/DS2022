{
  "nbformat": 4,
  "nbformat_minor": 0,
  "metadata": {
    "kernelspec": {
      "display_name": "Python 3",
      "language": "python",
      "name": "python3"
    },
    "language_info": {
      "codemirror_mode": {
        "name": "ipython",
        "version": 3
      },
      "file_extension": ".py",
      "mimetype": "text/x-python",
      "name": "python",
      "nbconvert_exporter": "python",
      "pygments_lexer": "ipython3",
      "version": "3.8.5"
    },
    "colab": {
      "name": "week-02-class-03-lab.ipynb",
      "provenance": [],
      "collapsed_sections": [],
      "include_colab_link": true
    }
  },
  "cells": [
    {
      "cell_type": "markdown",
      "metadata": {
        "id": "view-in-github",
        "colab_type": "text"
      },
      "source": [
        "<a href=\"https://colab.research.google.com/github/xdaiyan/DS2022/blob/main/week_02_class_03_lab.ipynb\" target=\"_parent\"><img src=\"https://colab.research.google.com/assets/colab-badge.svg\" alt=\"Open In Colab\"/></a>"
      ]
    },
    {
      "cell_type": "markdown",
      "metadata": {
        "id": "2XzdHnv1TLp6"
      },
      "source": [
        "<div style=\"background: #000;\n",
        "            color: #FFF;\n",
        "            margin: 0px;\n",
        "                padding: 10px 0px 20px 0px;\n",
        "            text-align: center; \n",
        "                \">\n",
        "    <h1>Week 2 Class 3 Lab</h1>\n",
        "</div>"
      ]
    },
    {
      "cell_type": "markdown",
      "metadata": {
        "id": "LEHCXC_qTLp7"
      },
      "source": [
        "# Question 1\n",
        "\n",
        "When might you use a dictionary? Why? Explain in your own words"
      ]
    },
    {
      "cell_type": "markdown",
      "metadata": {
        "id": "AHPxA5FLTLp7"
      },
      "source": [
        "# Question 2\n",
        "\n",
        "When might you use a set? Why? Explain in your own words."
      ]
    },
    {
      "cell_type": "markdown",
      "metadata": {
        "id": "TVnjixI4TLp7"
      },
      "source": [
        "# Exercise 1\n",
        "\n",
        "\n",
        "\n",
        "Create a dictionary and populate it with keys from 0 to 9 and a default value of \"None\". Then set the values of all keys divisible by 2 to be the value times itself. "
      ]
    },
    {
      "cell_type": "code",
      "metadata": {
        "id": "jgYfVFz5TLp7",
        "colab": {
          "base_uri": "https://localhost:8080/"
        },
        "outputId": "e4ddafea-1527-477f-c30f-415f152adaaa"
      },
      "source": [
        "nums = [0, 1, 2, 3, 4, 5, 6, 7, 8, 9]\n",
        "numbers = dict.fromkeys(nums)\n",
        "for key in numbers.keys():\n",
        "  if key % 2 == 0:\n",
        "    numbers[key] = key ** 2\n",
        "print(numbers)"
      ],
      "execution_count": 36,
      "outputs": [
        {
          "output_type": "stream",
          "name": "stdout",
          "text": [
            "{0: 0, 1: None, 2: 4, 3: None, 4: 16, 5: None, 6: 36, 7: None, 8: 64, 9: None}\n"
          ]
        }
      ]
    },
    {
      "cell_type": "markdown",
      "metadata": {
        "id": "of188Ip5TLp7"
      },
      "source": [
        "# Exercise 2\n",
        "\n",
        "Given a list of words and utilizing set methods print the words that can be typed using letters of alphabet on only one row's of the (American) keyboard. You may use one character in the keyboard more than once. \n",
        "\n",
        " "
      ]
    },
    {
      "cell_type": "code",
      "metadata": {
        "id": "a4_gzyPhTLp8",
        "colab": {
          "base_uri": "https://localhost:8080/"
        },
        "outputId": "8eff00eb-5730-4098-9d3a-c72156aeeab0"
      },
      "source": [
        "words = ['type', 'router', 'pine', 'dash', 'top', 'rower', 'freedom']\n",
        "row = set('qwertyuiop')\n",
        "\n",
        "for word in words:\n",
        "  if set(word).issubset(row):\n",
        "    print(word)"
      ],
      "execution_count": 37,
      "outputs": [
        {
          "output_type": "stream",
          "name": "stdout",
          "text": [
            "type\n",
            "router\n",
            "top\n",
            "rower\n"
          ]
        }
      ]
    },
    {
      "cell_type": "markdown",
      "metadata": {
        "id": "OIKPkYCOTLp8"
      },
      "source": [
        "# Exercise 3\n",
        "\n",
        "Given a list of students, find the students who favorite colors are the same utitlizng set methods. Print the name of the students who share similar tastes in colors. "
      ]
    },
    {
      "cell_type": "code",
      "metadata": {
        "id": "jvquRHyGTLp8",
        "colab": {
          "base_uri": "https://localhost:8080/"
        },
        "outputId": "4e8bc757-34a6-4754-b6dd-2fb2a04cf220"
      },
      "source": [
        "students = [{\"name\":\"Rob\",\"student_id\": 115, \"favorite_colors\":{\"red\",\"green\"}},{\"name\":\"Clara\",\"student_id\": 15, \"favorite_colors\":{\"blue\",\"red\",\"green\"}}, {\"name\":\"Sally\",\"student_id\": 21, \"favorite_colors\":{\"black\"}}, {\"name\":\"Jim\",\"student_id\": 33, \"favorite_colors\":{\"blue\",\"green\"}}]\n",
        "color_set = set('blue')\n",
        "\n",
        "for student in students:\n",
        "  for keys in student.keys():\n",
        "    for values in student.values():\n",
        "      if color_set.issubset(set(str(values))):\n",
        "        print(student)\n",
        "    break"
      ],
      "execution_count": 76,
      "outputs": [
        {
          "output_type": "stream",
          "name": "stdout",
          "text": [
            "{'name': 'Clara', 'student_id': 15, 'favorite_colors': {'blue', 'green', 'red'}}\n",
            "{'name': 'Jim', 'student_id': 33, 'favorite_colors': {'blue', 'green'}}\n"
          ]
        }
      ]
    }
  ]
}