{
  "nbformat": 4,
  "nbformat_minor": 0,
  "metadata": {
    "kernelspec": {
      "display_name": "Python 3",
      "language": "python",
      "name": "python3"
    },
    "language_info": {
      "codemirror_mode": {
        "name": "ipython",
        "version": 3
      },
      "file_extension": ".py",
      "mimetype": "text/x-python",
      "name": "python",
      "nbconvert_exporter": "python",
      "pygments_lexer": "ipython3",
      "version": "3.9.0"
    },
    "colab": {
      "name": "week-02-class-01-lab.ipynb",
      "provenance": [],
      "include_colab_link": true
    }
  },
  "cells": [
    {
      "cell_type": "markdown",
      "metadata": {
        "id": "view-in-github",
        "colab_type": "text"
      },
      "source": [
        "<a href=\"https://colab.research.google.com/github/xdaiyan/DS2022/blob/main/week_02_class_01_lab.ipynb\" target=\"_parent\"><img src=\"https://colab.research.google.com/assets/colab-badge.svg\" alt=\"Open In Colab\"/></a>"
      ]
    },
    {
      "cell_type": "markdown",
      "metadata": {
        "id": "t-o7tpeFnXLm"
      },
      "source": [
        "<div style=\"background: #000;\n",
        "            color: #FFF;\n",
        "            margin: 0px;\n",
        "                padding: 10px 0px 20px 0px;\n",
        "            text-align: center; \n",
        "                \">\n",
        "    <h1>Week 02 Class 01 Lab</h1>\n",
        "</div>"
      ]
    },
    {
      "cell_type": "markdown",
      "metadata": {
        "id": "a85z6Dp-nXLn"
      },
      "source": [
        "###### Question 1\n",
        "\n",
        "In your own words, explain what data structures are. Then name one python data type and explain what sort of problem might require it. "
      ]
    },
    {
      "cell_type": "markdown",
      "metadata": {
        "id": "-fJ4Ms-HnXLn"
      },
      "source": [
        "# Exercise 1\n",
        "\n",
        "Using the list below, answer the following questions."
      ]
    },
    {
      "cell_type": "code",
      "metadata": {
        "id": "iffuRNeKnXLn"
      },
      "source": [
        "l = [[[1,2,3], [4,5,6],[7,8,9]],[[10,11,12], [13,14,15],[16,17,18]],[[19,20,21], [22,23,24],[25,26,27]]]"
      ],
      "execution_count": 63,
      "outputs": []
    },
    {
      "cell_type": "markdown",
      "metadata": {
        "id": "KpczqjVdnXLo"
      },
      "source": [
        "a. What index gives you the number 15? "
      ]
    },
    {
      "cell_type": "code",
      "metadata": {
        "colab": {
          "base_uri": "https://localhost:8080/"
        },
        "id": "birjHx-xnXLo",
        "outputId": "e6eab0ff-2e29-4f03-a0bf-6d5f0d20dcd0"
      },
      "source": [
        "l[1][1][2]"
      ],
      "execution_count": 64,
      "outputs": [
        {
          "output_type": "execute_result",
          "data": {
            "text/plain": [
              "15"
            ]
          },
          "metadata": {},
          "execution_count": 64
        }
      ]
    },
    {
      "cell_type": "markdown",
      "metadata": {
        "id": "Xr2sLzklnXLo"
      },
      "source": [
        " b. Use `del` to delete all numbers divisible by 2, 3, 4 and 5. Print the list.  "
      ]
    },
    {
      "cell_type": "code",
      "metadata": {
        "id": "-_mLdmfcnXLo"
      },
      "source": [
        "del l[0][0][1]\n",
        "del l[0][0][1]\n",
        "del l[0][1]\n",
        "del l[0][1][1]\n",
        "del l[0][1][1]\n",
        "del l[1][0][0]\n",
        "del l[1][0][1]\n",
        "del l[1][1][1]\n",
        "del l[1][1][1]\n",
        "del l[1][2][0]\n",
        "del l[1][2][1]\n",
        "del l[2][0][1]\n",
        "del l[2][0][1]\n",
        "del l[2][1][0]\n",
        "del l[2][1][1]\n",
        "del l[2][2]"
      ],
      "execution_count": 65,
      "outputs": []
    },
    {
      "cell_type": "code",
      "metadata": {
        "colab": {
          "base_uri": "https://localhost:8080/"
        },
        "id": "Kl4fI-FjnXLo",
        "outputId": "814f0be4-1546-4cc1-8413-fe2f0691dd82"
      },
      "source": [
        "print(l)"
      ],
      "execution_count": 61,
      "outputs": [
        {
          "output_type": "stream",
          "name": "stdout",
          "text": [
            "[[[1], [7]], [[11], [13], [17]], [[19], [23]]]\n"
          ]
        }
      ]
    },
    {
      "cell_type": "markdown",
      "metadata": {
        "id": "JctSk665nXLo"
      },
      "source": [
        "c. Create a new 1 x 7 list with the numbers remaining from `l`."
      ]
    },
    {
      "cell_type": "code",
      "metadata": {
        "id": "33VCNgq4nXLp",
        "colab": {
          "base_uri": "https://localhost:8080/"
        },
        "outputId": "8f5b3493-873a-4b5f-8eaf-acf7abc1f4ea"
      },
      "source": [
        "new_list = [l[0][0][0], l[0][1][0], l[1][0][0], l[1][1][0], l[1][2][0], l[2][0][0], l[2][1][0]]\n",
        "new_list"
      ],
      "execution_count": 73,
      "outputs": [
        {
          "output_type": "execute_result",
          "data": {
            "text/plain": [
              "[1, 7, 11, 13, 17, 19, 23]"
            ]
          },
          "metadata": {},
          "execution_count": 73
        }
      ]
    },
    {
      "cell_type": "markdown",
      "metadata": {
        "id": "87fMX3jInXLp"
      },
      "source": [
        "# Exercise 2\n",
        "\n",
        "Using only the following string, use string methods/slices/indexing to produce the following quote from the late Justice Ruth Bader Ginsberg:\n",
        "\n",
        "\"Real change, enduring change, happens one step at a time.\"\n",
        "\n",
        "hint: try splitting the string up."
      ]
    },
    {
      "cell_type": "code",
      "metadata": {
        "id": "wFYCRYnRnXLp"
      },
      "source": [
        "string = 'stepataenduringrealdemocracyblmchange,progresschangefreedomonetimehappens,equalityjustice'"
      ],
      "execution_count": null,
      "outputs": []
    },
    {
      "cell_type": "code",
      "metadata": {
        "colab": {
          "base_uri": "https://localhost:8080/",
          "height": 35
        },
        "id": "bYyYdDYMnXLp",
        "outputId": "ac4058ec-784c-46fb-ea62-42a2b96277d6"
      },
      "source": [
        "string_one = string.split(',')\n",
        "sentence_one = string_one[0]\n",
        "sentence_two = string_one[1]\n",
        "sentence_three = string_one[2]\n",
        "\n",
        "quote_part_one = sentence_one[15:19].title() + \" \" + sentence_one[-6:] + \", \"\n",
        "quote_part_two = sentence_one[7:15] + \" \" + sentence_one[-6:] + \", \"\n",
        "quote_part_three = sentence_two[-7:] + \" \" + sentence_two[21:24]  + \" \" + sentence_one[:4] + \" \" + sentence_one[4:6] + \" \" + sentence_one[6] + \" \" + sentence_two[24:28]\n",
        "quote = quote_part_one + quote_part_two + quote_part_three\n",
        "quote"
      ],
      "execution_count": null,
      "outputs": [
        {
          "output_type": "execute_result",
          "data": {
            "application/vnd.google.colaboratory.intrinsic+json": {
              "type": "string"
            },
            "text/plain": [
              "'Real change, enduring change, happens one step at a time'"
            ]
          },
          "metadata": {},
          "execution_count": 67
        }
      ]
    },
    {
      "cell_type": "markdown",
      "metadata": {
        "id": "V1jhcqNXnXLp"
      },
      "source": [
        "# Exercise 3\n",
        "\n",
        "Given the following matrix, find the determinant:\n",
        "$$\n",
        "\\begin{equation*}\n",
        "A = \n",
        "\\begin{vmatrix}\n",
        "1 & 2 & 3 \\\\\n",
        "4 & 5 & 6 \\\\\n",
        "7 & 8 & 9\n",
        "\\end{vmatrix}\n",
        "\\end{equation*}\n",
        "$$\n",
        "The determinant of a matrix is calculated as follows:\n",
        "$$\n",
        "\\begin{equation*}\n",
        "A = \n",
        "\\begin{vmatrix}\n",
        "a & b & c \\\\\n",
        "d & e & f \\\\\n",
        "g & h & i\n",
        "\\end{vmatrix}\n",
        "= a \n",
        "\\begin{vmatrix}\n",
        "e & f \\\\\n",
        "h & i \\\\\n",
        "\\end{vmatrix}\n",
        "- b\n",
        "\\begin{vmatrix}\n",
        "d & f \\\\\n",
        "g & i \\\\\n",
        "\\end{vmatrix}\n",
        "+ c\n",
        "\\begin{vmatrix}\n",
        "d & e \\\\\n",
        "g & h \\\\\n",
        "\\end{vmatrix}\n",
        "\\end{equation*}\n",
        "$$\n",
        "\n",
        "$$ \n",
        "= aei + bfg + cdh - ceg - bdi -afh\n",
        "$$\n",
        "\n",
        "Create a 3 x 3 matrix using a list. Then use list indexing to access the elements to perform your calculation. Do not use numbers not stored in your matrix to perform your calcuation"
      ]
    },
    {
      "cell_type": "code",
      "metadata": {
        "id": "F_-XNaLSnXLq"
      },
      "source": [
        "A = [[1, 2, 3], [4, 5, 6], [7, 8, 9]]\n",
        "\n",
        "part_one = A[0][0] * A[1][1] * A[2][2]\n",
        "part_two = A[0][1] * A[1][2] * A[2][0]\n",
        "part_three = A[0][2] * A[1][0] * A[2][1]\n",
        "part_four = A[0][2] * A[1][1] * A[2][0]  \n",
        "part_five = A[0][1] * A[1][0] * A[2][2]\n",
        "part_six = A[0][0] * A[1][2] * A[2][1]\n",
        "\n",
        "determinant = part_one + part_two + part_three - part_four - part_five - part_six\n",
        "determinant"
      ],
      "execution_count": null,
      "outputs": []
    },
    {
      "cell_type": "markdown",
      "metadata": {
        "id": "lDk0NtjbnXLq"
      },
      "source": [
        "# Bonus \n"
      ]
    },
    {
      "cell_type": "code",
      "metadata": {
        "id": "LxGUwFxHnXLq"
      },
      "source": [
        ""
      ],
      "execution_count": null,
      "outputs": []
    }
  ]
}