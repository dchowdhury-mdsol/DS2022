{
  "nbformat": 4,
  "nbformat_minor": 0,
  "metadata": {
    "kernelspec": {
      "display_name": "Python 3",
      "language": "python",
      "name": "python3"
    },
    "language_info": {
      "codemirror_mode": {
        "name": "ipython",
        "version": 3
      },
      "file_extension": ".py",
      "mimetype": "text/x-python",
      "name": "python",
      "nbconvert_exporter": "python",
      "pygments_lexer": "ipython3",
      "version": "3.9.0"
    },
    "colab": {
      "name": "week-01-class-02.ipynb",
      "provenance": []
    }
  },
  "cells": [
    {
      "cell_type": "markdown",
      "metadata": {
        "id": "knx_jlidxNgb"
      },
      "source": [
        "<div style=\"background: #000;\n",
        "            color: #FFF;\n",
        "            margin: 0px;\n",
        "                padding: 10px 0px 20px 0px;\n",
        "            text-align: center; \n",
        "                \">\n",
        "    <h1>Python Data Science Course - Week 1 - Day 2</h1>\n",
        "</div>\n",
        "\n",
        "\n",
        "\n",
        "## Todays Agenda\n",
        "\n",
        "* Data Types\n",
        "* Variable Declaration\n",
        "* Strings/String Methods\n",
        "\n"
      ]
    },
    {
      "cell_type": "markdown",
      "metadata": {
        "id": "914pzGpoxNge"
      },
      "source": [
        "\n"
      ]
    },
    {
      "cell_type": "markdown",
      "metadata": {
        "id": "_jByTyUvxNgf"
      },
      "source": [
        "## Examples of things we can do in Python"
      ]
    },
    {
      "cell_type": "code",
      "metadata": {
        "id": "1cJzpnVCxNgf"
      },
      "source": [
        "None"
      ],
      "execution_count": null,
      "outputs": []
    },
    {
      "cell_type": "code",
      "metadata": {
        "id": "Z9NwoCswxNgg"
      },
      "source": [
        "\"this is text\""
      ],
      "execution_count": null,
      "outputs": []
    },
    {
      "cell_type": "code",
      "metadata": {
        "id": "_NCKMocmxNgg"
      },
      "source": [
        "# this is a comment"
      ],
      "execution_count": null,
      "outputs": []
    },
    {
      "cell_type": "code",
      "metadata": {
        "id": "w66MRJaXxNgg"
      },
      "source": [
        "718 # this is a number (integer to be precise)"
      ],
      "execution_count": null,
      "outputs": []
    },
    {
      "cell_type": "code",
      "metadata": {
        "id": "GUF509aZxNgg"
      },
      "source": [
        "3 + 3 # - 3 # + -3 "
      ],
      "execution_count": null,
      "outputs": []
    },
    {
      "cell_type": "code",
      "metadata": {
        "id": "7VeJGXTlxNgh"
      },
      "source": [
        "3**3 # **3"
      ],
      "execution_count": null,
      "outputs": []
    },
    {
      "cell_type": "code",
      "metadata": {
        "id": "Ka9rZb9pxNgh"
      },
      "source": [
        "5 and 3"
      ],
      "execution_count": null,
      "outputs": []
    },
    {
      "cell_type": "code",
      "metadata": {
        "id": "8L_2LUw-xNgh"
      },
      "source": [
        "3 or 3 # then show 3 or 5 (and ask why) # then 5 and 3 (and ask why)"
      ],
      "execution_count": null,
      "outputs": []
    },
    {
      "cell_type": "code",
      "metadata": {
        "id": "ykgYO9dxxNgi"
      },
      "source": [
        "True or False # and True"
      ],
      "execution_count": null,
      "outputs": []
    },
    {
      "cell_type": "code",
      "metadata": {
        "id": "jdfHjwq8xNgi"
      },
      "source": [
        "input(\"get user input?\")"
      ],
      "execution_count": null,
      "outputs": []
    },
    {
      "cell_type": "code",
      "metadata": {
        "id": "QJRamBZZxNgi"
      },
      "source": [
        "import this"
      ],
      "execution_count": null,
      "outputs": []
    },
    {
      "cell_type": "markdown",
      "metadata": {
        "id": "lkgjS04fxNgi"
      },
      "source": [
        "# Built in features"
      ]
    },
    {
      "cell_type": "markdown",
      "metadata": {
        "id": "VYUuSIJJxNgi"
      },
      "source": [
        "## python has built in functions"
      ]
    },
    {
      "cell_type": "code",
      "metadata": {
        "id": "DY7FSHi7xNgi"
      },
      "source": [
        "dir(__builtins__)"
      ],
      "execution_count": null,
      "outputs": []
    },
    {
      "cell_type": "code",
      "metadata": {
        "id": "VmPjXc0ixNgj"
      },
      "source": [
        "print(\"hello world\")"
      ],
      "execution_count": null,
      "outputs": []
    },
    {
      "cell_type": "code",
      "metadata": {
        "id": "jH66F-M-xNgj"
      },
      "source": [
        "type(\"hello world\")"
      ],
      "execution_count": null,
      "outputs": []
    },
    {
      "cell_type": "code",
      "metadata": {
        "id": "wkynbfzqxNgj"
      },
      "source": [
        "int(\"4\")"
      ],
      "execution_count": null,
      "outputs": []
    },
    {
      "cell_type": "code",
      "metadata": {
        "id": "EXHtvcO3xNgj"
      },
      "source": [
        "hex(170)"
      ],
      "execution_count": null,
      "outputs": []
    },
    {
      "cell_type": "code",
      "metadata": {
        "id": "pkHP3sLRxNgj"
      },
      "source": [
        "input()"
      ],
      "execution_count": null,
      "outputs": []
    },
    {
      "cell_type": "markdown",
      "metadata": {
        "id": "GL96ruZFxNgj"
      },
      "source": [
        "## python has built in modules"
      ]
    },
    {
      "cell_type": "code",
      "metadata": {
        "id": "2FT7263qxNgj"
      },
      "source": [
        "help(\"modules\")"
      ],
      "execution_count": null,
      "outputs": []
    },
    {
      "cell_type": "code",
      "metadata": {
        "id": "QibRjYj1xNgj"
      },
      "source": [
        "print(dir.__doc__)\n",
        "print(\"\\n\")\n",
        "print(help.__doc__)\n",
        "print(\"\\n\")\n",
        "print(print.__doc__)"
      ],
      "execution_count": null,
      "outputs": []
    },
    {
      "cell_type": "markdown",
      "metadata": {
        "id": "oRLa2KTRxNgk"
      },
      "source": [
        "# Variable declations\n",
        "\n",
        "## Naming conventions\n",
        "* Variables can only contain letters, numbers, and underscores. Variable names can start with a letter or an underscore, but can not start with a number.\n",
        "* Spaces are not allowed in variable names, so we use underscores instead of spaces. For example, use student_name instead of \"student name\".\n",
        "* You cannot use Python [keywords](https://docs.python.org/3/reference/lexical_analysis.html#keywords) as variable names.\n",
        "* Variable names should be descriptive, without being too long. For example mc_wheels is better than just \"wheels\", and number_of_wheels_on_a_motorycle.\n",
        "* Be careful about using the lowercase letter l and the uppercase letter O in places where they could be confused with the numbers 1 and 0.\n"
      ]
    },
    {
      "cell_type": "code",
      "metadata": {
        "id": "DJZsiwIIxNgk"
      },
      "source": [
        "variable = \"string\""
      ],
      "execution_count": null,
      "outputs": []
    },
    {
      "cell_type": "code",
      "metadata": {
        "id": "M0CP6PEtxNgk"
      },
      "source": [
        "variable = 23"
      ],
      "execution_count": null,
      "outputs": []
    },
    {
      "cell_type": "code",
      "metadata": {
        "id": "1Tjdbkp1xNgk"
      },
      "source": [
        "variable = True"
      ],
      "execution_count": null,
      "outputs": []
    },
    {
      "cell_type": "code",
      "metadata": {
        "id": "YlZ5L4TsxNgk"
      },
      "source": [
        "s = 3\n",
        "a = s\n",
        "a = s = 2\n",
        "print(a)\n",
        "print(s)"
      ],
      "execution_count": null,
      "outputs": []
    },
    {
      "cell_type": "code",
      "metadata": {
        "id": "FQoQmCUDxNgk"
      },
      "source": [
        "s, a = (4, 2)\n",
        "s, a"
      ],
      "execution_count": null,
      "outputs": []
    },
    {
      "cell_type": "code",
      "metadata": {
        "id": "Gr-5rheJxNgk"
      },
      "source": [
        "a = s = 4 \n",
        "a == s"
      ],
      "execution_count": null,
      "outputs": []
    },
    {
      "cell_type": "code",
      "metadata": {
        "id": "zKf_6ad7xNgk"
      },
      "source": [
        "a = True if 5 > 3 else False"
      ],
      "execution_count": null,
      "outputs": []
    },
    {
      "cell_type": "code",
      "metadata": {
        "id": "mxEp16zlxNgk"
      },
      "source": [
        "a"
      ],
      "execution_count": null,
      "outputs": []
    },
    {
      "cell_type": "code",
      "metadata": {
        "id": "Z8dLCEeKxNgk"
      },
      "source": [
        "variable = True\n",
        "if variable: #if not variable:\n",
        "    print(\"what do you think this does?\")"
      ],
      "execution_count": null,
      "outputs": []
    },
    {
      "cell_type": "code",
      "metadata": {
        "id": "tyN_KndSxNgl"
      },
      "source": [
        "li = list() # li = []"
      ],
      "execution_count": null,
      "outputs": []
    },
    {
      "cell_type": "code",
      "metadata": {
        "id": "h88vrOCbxNgl"
      },
      "source": [
        "li.append(0)\n",
        "#li.append(1)\n",
        "#li.append(2)\n",
        "#li.append(2) "
      ],
      "execution_count": null,
      "outputs": []
    },
    {
      "cell_type": "code",
      "metadata": {
        "id": "Dq6YFuwzxNgl"
      },
      "source": [
        "li"
      ],
      "execution_count": null,
      "outputs": []
    },
    {
      "cell_type": "markdown",
      "metadata": {
        "id": "vc7807mjxNgl"
      },
      "source": [
        "# Data Types"
      ]
    },
    {
      "cell_type": "markdown",
      "metadata": {
        "id": "lO4iMg-xxNgl"
      },
      "source": [
        "## What is a data type?"
      ]
    },
    {
      "cell_type": "markdown",
      "metadata": {
        "id": "P-ui4tsixNgl"
      },
      "source": [
        "A data type is an attribute of data which tells the interpreter (or compiler in the case of other languages) how the program intends to use the data. A data type constrains the values an expression might take. It constrains the operations that can be done on the data type and provides a set of values from which an expression may take its value."
      ]
    },
    {
      "cell_type": "markdown",
      "metadata": {
        "id": "iZB0ZmTHxNgl"
      },
      "source": [
        "## Primitive Data Types"
      ]
    },
    {
      "cell_type": "code",
      "metadata": {
        "id": "HX1G3Hk3xNgl"
      },
      "source": [
        "s = \"string\"\n",
        "print(s, type(s))"
      ],
      "execution_count": null,
      "outputs": []
    },
    {
      "cell_type": "code",
      "metadata": {
        "id": "Yy_ZFAlbxNgl"
      },
      "source": [
        "s: str = \"string\""
      ],
      "execution_count": null,
      "outputs": []
    },
    {
      "cell_type": "code",
      "metadata": {
        "id": "trrTwS4xxNgl"
      },
      "source": [
        "s = 4\n",
        "print(s, type(s))"
      ],
      "execution_count": null,
      "outputs": []
    },
    {
      "cell_type": "code",
      "metadata": {
        "id": "OR6HlcJTxNgl"
      },
      "source": [
        "s: int = 4"
      ],
      "execution_count": null,
      "outputs": []
    },
    {
      "cell_type": "code",
      "metadata": {
        "id": "ALOoCrSkxNgl"
      },
      "source": [
        "s = True \n",
        "print(s, type(s))"
      ],
      "execution_count": null,
      "outputs": []
    },
    {
      "cell_type": "code",
      "metadata": {
        "id": "ApVdktKzxNgl"
      },
      "source": [
        "s: bool = True"
      ],
      "execution_count": null,
      "outputs": []
    },
    {
      "cell_type": "code",
      "metadata": {
        "id": "lumQ4w_DxNgl"
      },
      "source": [
        "s = 3.14159\n",
        "print(s, type(s))"
      ],
      "execution_count": null,
      "outputs": []
    },
    {
      "cell_type": "code",
      "metadata": {
        "id": "cpT3WL7bxNgm"
      },
      "source": [
        "s: float = 3.14159"
      ],
      "execution_count": null,
      "outputs": []
    },
    {
      "cell_type": "code",
      "metadata": {
        "id": "Kx1opIfSxNgm"
      },
      "source": [
        "s = 3 +6j\n",
        "print(s, type(s))"
      ],
      "execution_count": null,
      "outputs": []
    },
    {
      "cell_type": "code",
      "metadata": {
        "id": "FKfznd0QxNgm"
      },
      "source": [
        "s: complex = 3 + 6j"
      ],
      "execution_count": null,
      "outputs": []
    },
    {
      "cell_type": "code",
      "metadata": {
        "id": "C3ff-4JtxNgm"
      },
      "source": [
        "isinstance(True, bool)"
      ],
      "execution_count": null,
      "outputs": []
    },
    {
      "cell_type": "markdown",
      "metadata": {
        "id": "6QvK7bnCxNgm"
      },
      "source": [
        "## Data Types in python\n",
        "\n",
        "Boolean types:  \n",
        "```bool``` - binary value  \n",
        "\n",
        "Text types:  \n",
        "```str``` - string\n",
        "\n",
        "Numeric types:  \n",
        "```int``` - integer  \n",
        "```float``` - floating point number  \n",
        "```complex``` - complex number  \n",
        "\n",
        "Sequence types:  \n",
        "```list``` - mutable array  \n",
        "```tuple``` - immutable array  \n",
        "```range``` - array of sequential numbers  \n",
        "\n",
        "Set types:  \n",
        "```set``` - non-repetitious unordered collection  \n",
        "```frozenset``` - immutable set\n",
        "\n",
        "Mapping types:\n",
        "```dict``` - maps values to objects\n",
        "\n",
        "Binary Sequence Types  \n",
        "```bytes``` - byte literals, either b'val' or created with ```bytes()```  \n",
        "```bytearray``` - mutable bytes "
      ]
    },
    {
      "cell_type": "markdown",
      "metadata": {
        "id": "Ma80g9mzxNgm"
      },
      "source": [
        "# Bools"
      ]
    },
    {
      "cell_type": "code",
      "metadata": {
        "id": "3xgYc88mxNgm"
      },
      "source": [
        "statement1 = True\n",
        "statement2 = False"
      ],
      "execution_count": null,
      "outputs": []
    },
    {
      "cell_type": "code",
      "metadata": {
        "id": "I9tv0_6ixNgm"
      },
      "source": [
        "statement1 and statement2 # explain order/short circuit"
      ],
      "execution_count": null,
      "outputs": []
    },
    {
      "cell_type": "code",
      "metadata": {
        "id": "SCT0dS8lxNgm"
      },
      "source": [
        "statement1 or statement2"
      ],
      "execution_count": null,
      "outputs": []
    },
    {
      "cell_type": "code",
      "metadata": {
        "id": "C1WerbzRxNgm"
      },
      "source": [
        "not statement1"
      ],
      "execution_count": null,
      "outputs": []
    },
    {
      "cell_type": "code",
      "metadata": {
        "id": "jiutiIjVxNgm"
      },
      "source": [
        "statement1 is True"
      ],
      "execution_count": null,
      "outputs": []
    },
    {
      "cell_type": "code",
      "metadata": {
        "id": "3U7wTda6xNgm"
      },
      "source": [
        "statement2 is not True"
      ],
      "execution_count": null,
      "outputs": []
    },
    {
      "cell_type": "markdown",
      "metadata": {
        "id": "COHkN0fwxNgn"
      },
      "source": [
        "## Strings"
      ]
    },
    {
      "cell_type": "code",
      "metadata": {
        "id": "mLpSePVnxNgn"
      },
      "source": [
        "\"this is a string\""
      ],
      "execution_count": null,
      "outputs": []
    },
    {
      "cell_type": "code",
      "metadata": {
        "id": "IE6WYdRaxNgn"
      },
      "source": [
        "s = \"this is also a string\""
      ],
      "execution_count": null,
      "outputs": []
    },
    {
      "cell_type": "code",
      "metadata": {
        "id": "5if4zezpxNgn"
      },
      "source": [
        "type(s)"
      ],
      "execution_count": null,
      "outputs": []
    },
    {
      "cell_type": "code",
      "metadata": {
        "id": "7JmjOannxNgn"
      },
      "source": [
        "s[:]"
      ],
      "execution_count": null,
      "outputs": []
    },
    {
      "cell_type": "markdown",
      "metadata": {
        "id": "LwCmfT9YxNgn"
      },
      "source": [
        "## Numeric types and Operators"
      ]
    },
    {
      "cell_type": "code",
      "metadata": {
        "id": "W7Mk2xyGxNgn"
      },
      "source": [
        "s = 25\n",
        "s"
      ],
      "execution_count": null,
      "outputs": []
    },
    {
      "cell_type": "code",
      "metadata": {
        "id": "d8rxrstkxNgn"
      },
      "source": [
        "f = 5\n",
        "f"
      ],
      "execution_count": null,
      "outputs": []
    },
    {
      "cell_type": "code",
      "metadata": {
        "id": "ylVIntC5xNgn"
      },
      "source": [
        "s + f"
      ],
      "execution_count": null,
      "outputs": []
    },
    {
      "cell_type": "code",
      "metadata": {
        "id": "O-O3-7MWxNgn"
      },
      "source": [
        "s - f"
      ],
      "execution_count": null,
      "outputs": []
    },
    {
      "cell_type": "code",
      "metadata": {
        "id": "HiasXRgWxNgn"
      },
      "source": [
        "s / f"
      ],
      "execution_count": null,
      "outputs": []
    },
    {
      "cell_type": "code",
      "metadata": {
        "id": "gd_flw5jxNgn"
      },
      "source": [
        "s ** f"
      ],
      "execution_count": null,
      "outputs": []
    },
    {
      "cell_type": "code",
      "metadata": {
        "id": "LW3aMjWRxNgn"
      },
      "source": [
        "s % f"
      ],
      "execution_count": null,
      "outputs": []
    },
    {
      "cell_type": "code",
      "metadata": {
        "id": "gBpz82D1xNgn"
      },
      "source": [
        "s == f"
      ],
      "execution_count": null,
      "outputs": []
    },
    {
      "cell_type": "code",
      "metadata": {
        "id": "_p8McFSRxNgn"
      },
      "source": [
        "s >= f"
      ],
      "execution_count": null,
      "outputs": []
    },
    {
      "cell_type": "code",
      "metadata": {
        "id": "RO-BPXk8xNgo"
      },
      "source": [
        "s > f"
      ],
      "execution_count": null,
      "outputs": []
    },
    {
      "cell_type": "code",
      "metadata": {
        "id": "fUidYr3DxNgo"
      },
      "source": [
        "s <= f"
      ],
      "execution_count": null,
      "outputs": []
    },
    {
      "cell_type": "code",
      "metadata": {
        "id": "leV75H35xNgo"
      },
      "source": [
        "s < f"
      ],
      "execution_count": null,
      "outputs": []
    },
    {
      "cell_type": "code",
      "metadata": {
        "id": "j1rEl_tJxNgo"
      },
      "source": [
        "s += f"
      ],
      "execution_count": null,
      "outputs": []
    },
    {
      "cell_type": "code",
      "metadata": {
        "id": "vts9AnC8xNgo"
      },
      "source": [
        "s"
      ],
      "execution_count": null,
      "outputs": []
    },
    {
      "cell_type": "markdown",
      "metadata": {
        "id": "mxlKaivLxNgo"
      },
      "source": [
        "# Lists"
      ]
    },
    {
      "cell_type": "code",
      "metadata": {
        "id": "RqvmZ2OcxNgo"
      },
      "source": [
        "l = [0,1,2,3,4,5]\n",
        "l"
      ],
      "execution_count": null,
      "outputs": []
    },
    {
      "cell_type": "code",
      "metadata": {
        "id": "nveXKXatxNgo"
      },
      "source": [
        "l.append(6)\n",
        "l"
      ],
      "execution_count": null,
      "outputs": []
    },
    {
      "cell_type": "code",
      "metadata": {
        "id": "ljt-HUuSxNgo"
      },
      "source": [
        "l.pop()"
      ],
      "execution_count": null,
      "outputs": []
    },
    {
      "cell_type": "code",
      "metadata": {
        "id": "9arwO7IpxNgo"
      },
      "source": [
        "len(l)"
      ],
      "execution_count": null,
      "outputs": []
    },
    {
      "cell_type": "code",
      "metadata": {
        "id": "Z7wBMDraxNgo"
      },
      "source": [
        "l.clear()\n",
        "l"
      ],
      "execution_count": null,
      "outputs": []
    },
    {
      "cell_type": "markdown",
      "metadata": {
        "id": "LHbhayB0xNgo"
      },
      "source": [
        "# Dicts"
      ]
    },
    {
      "cell_type": "code",
      "metadata": {
        "id": "U47TQZNvxNgo"
      },
      "source": [
        "d = {}\n",
        "d['key'] = 'value'\n",
        "d"
      ],
      "execution_count": null,
      "outputs": []
    },
    {
      "cell_type": "code",
      "metadata": {
        "id": "a7L-ZxBwxNgo"
      },
      "source": [
        "d['key']"
      ],
      "execution_count": null,
      "outputs": []
    },
    {
      "cell_type": "code",
      "metadata": {
        "id": "ioqsP0bUxNgp"
      },
      "source": [
        "d.get('key')"
      ],
      "execution_count": null,
      "outputs": []
    },
    {
      "cell_type": "code",
      "metadata": {
        "id": "gCKrrcCfxNgp"
      },
      "source": [
        "d['e']"
      ],
      "execution_count": null,
      "outputs": []
    },
    {
      "cell_type": "code",
      "metadata": {
        "id": "3ZP43gGtxNgp"
      },
      "source": [
        "d.get('e')"
      ],
      "execution_count": null,
      "outputs": []
    },
    {
      "cell_type": "code",
      "metadata": {
        "id": "19ipw5CtxNgp"
      },
      "source": [
        "d.items()"
      ],
      "execution_count": null,
      "outputs": []
    },
    {
      "cell_type": "markdown",
      "metadata": {
        "id": "j-UOOmhtxNgp"
      },
      "source": [
        "# Strings, String Operations and String methods\n",
        "\n",
        "Strings are sequences of characters delimited by quotes. Python's `str` type allows for unicode encoding.\n",
        "\n",
        "```python\n",
        "    >>> \"basic string\" #\n",
        "    basic string\n",
        "    \n",
        "    >>> s = \"basic string\"\n",
        "    >>> print(s)\n",
        "    \"basic string\"\n",
        "    \n",
        "    >>> s = \"basic string\"\n",
        "    >>> s[0]\n",
        "    \"b\"\n",
        "```"
      ]
    },
    {
      "cell_type": "code",
      "metadata": {
        "id": "HffRTtHGxNgp"
      },
      "source": [
        "# empty string\n",
        "\"\""
      ],
      "execution_count": null,
      "outputs": []
    },
    {
      "cell_type": "code",
      "metadata": {
        "id": "7jfCn8KKxNgp"
      },
      "source": [
        "\"\" == \"\""
      ],
      "execution_count": null,
      "outputs": []
    },
    {
      "cell_type": "code",
      "metadata": {
        "id": "XvwfZgjhxNgp"
      },
      "source": [
        "# string indexing\n",
        "\"string\"[0] # [-1] #"
      ],
      "execution_count": null,
      "outputs": []
    },
    {
      "cell_type": "code",
      "metadata": {
        "id": "hkOdvhg0xNgp"
      },
      "source": [
        "\"string\"[:0] == \"\""
      ],
      "execution_count": null,
      "outputs": []
    },
    {
      "cell_type": "code",
      "metadata": {
        "id": "nXyWLVlMxNgp"
      },
      "source": [
        "\"\".join(\"string\")"
      ],
      "execution_count": null,
      "outputs": []
    },
    {
      "cell_type": "code",
      "metadata": {
        "id": "bp3PaY8nxNgq"
      },
      "source": [
        "# declaring a string variable\n",
        "\n",
        "example = \"this is an example of a string\"\n",
        "print(example)# type(example))"
      ],
      "execution_count": null,
      "outputs": []
    },
    {
      "cell_type": "code",
      "metadata": {
        "id": "qI4tYo6-xNgq"
      },
      "source": [
        "# strings can have single...\n",
        "single_quote_example = 'this is an example that allows \"double\" quotes' #then add /n\n",
        "single_quote_example"
      ],
      "execution_count": null,
      "outputs": []
    },
    {
      "cell_type": "code",
      "metadata": {
        "id": "Z6xr8dCGxNgq"
      },
      "source": [
        "# double...\n",
        "double_quote_example = \"this is an example that allows 'single' quotes\"\n",
        "double_quote_example"
      ],
      "execution_count": null,
      "outputs": []
    },
    {
      "cell_type": "code",
      "metadata": {
        "id": "IewZ6nS_xNgq"
      },
      "source": [
        "# or triple quotes\n",
        "triple_quoted = \"\"\"\n",
        "\n",
        "this is an example that can span multiple lines \n",
        "\n",
        "\"\"\"\n",
        "triple_quoted"
      ],
      "execution_count": null,
      "outputs": []
    },
    {
      "cell_type": "code",
      "metadata": {
        "id": "OEHL0NQJxNgq"
      },
      "source": [
        "# examples of escape characters useful in python\n",
        "# \"\\\\\"\n",
        "example = \"backslash to escape \\\\\"\n",
        "# \"\\\"\"\n",
        "example1 = \"escape quote \\\"\"\n",
        "# \"\\r\"\n",
        "example2 = \"carriage return \\rreplaces the line\"\n",
        "# \"\\t\"\n",
        "example3 = \"tabbed \\t\\t\\t example\\n\"\n",
        "# \"\\n\"\n",
        "example4 = \"example\\nwith new line\"\n",
        "print(example)\n",
        "print(example1)\n",
        "print(example2)\n",
        "print(example3)\n",
        "print(example4)"
      ],
      "execution_count": null,
      "outputs": []
    },
    {
      "cell_type": "code",
      "metadata": {
        "id": "CmllCk7IxNgq"
      },
      "source": [
        "example2 = \"concatenation\""
      ],
      "execution_count": null,
      "outputs": []
    },
    {
      "cell_type": "code",
      "metadata": {
        "id": "dufbuouUxNgq"
      },
      "source": [
        "example + \" \" + example2"
      ],
      "execution_count": null,
      "outputs": []
    },
    {
      "cell_type": "code",
      "metadata": {
        "id": "gb8ttpTExNgq"
      },
      "source": [
        "example = example + \" \" +  example2\n",
        "\n",
        "# also:\n",
        "#example += \" \" + example2"
      ],
      "execution_count": null,
      "outputs": []
    },
    {
      "cell_type": "code",
      "metadata": {
        "id": "mUPkwsAnxNgq"
      },
      "source": [
        "\"\" in [\"\", \"0\"]"
      ],
      "execution_count": null,
      "outputs": []
    },
    {
      "cell_type": "markdown",
      "metadata": {
        "id": "9tws0cvvxNgq"
      },
      "source": [
        "# String Formatting"
      ]
    },
    {
      "cell_type": "code",
      "metadata": {
        "id": "DqcMa8v1xNgq"
      },
      "source": [
        "example = \"abcdefghijklmnopqrstuvwxyz\" "
      ],
      "execution_count": null,
      "outputs": []
    },
    {
      "cell_type": "code",
      "metadata": {
        "id": "zay_-2cyxNgr"
      },
      "source": [
        "import string\n",
        "string.ascii_lowercase\n",
        "\"h e w d a e f e w d a t\".split(maxsplit=5)"
      ],
      "execution_count": null,
      "outputs": []
    },
    {
      "cell_type": "code",
      "metadata": {
        "id": "jH02aIOixNgr"
      },
      "source": [
        "# C style string formatting\n",
        "\n",
        "example = 718\n",
        "\n",
        "\"%s\" % example"
      ],
      "execution_count": null,
      "outputs": []
    },
    {
      "cell_type": "code",
      "metadata": {
        "id": "lHmbSMHhxNgr"
      },
      "source": [
        "s = \"string\"\n",
        "i = 0x2ce\n",
        "f = 98.6 \n",
        "e = 3.14159\n",
        "g = 718\n",
        "\"%s %d %.f %.5f 0x%x\" % (s, i, f, e, g)"
      ],
      "execution_count": null,
      "outputs": []
    },
    {
      "cell_type": "code",
      "metadata": {
        "id": "SyC21CdQxNgr"
      },
      "source": [
        "name = input(\"Enter a name here:\")\n",
        "errno = 50159747054\n",
        "\n",
        "'Hey %(name)s, there is a 0x%(errno)x error!' % { \"name\": name, \"errno\": errno }"
      ],
      "execution_count": null,
      "outputs": []
    },
    {
      "cell_type": "code",
      "metadata": {
        "id": "bqfwlHN_xNgr"
      },
      "source": [
        "# \"New\" style string formatting\n",
        "e = \"Hello\"\n",
        "f = \"World\"\n",
        "\"{} {}\".format(e, f)\n"
      ],
      "execution_count": null,
      "outputs": []
    },
    {
      "cell_type": "code",
      "metadata": {
        "id": "7sE3kQ1YxNgr"
      },
      "source": [
        "\"{e} {f}\".format(e=e, f=f)"
      ],
      "execution_count": null,
      "outputs": []
    },
    {
      "cell_type": "code",
      "metadata": {
        "id": "uVthbgFvxNgr"
      },
      "source": [
        "# f strings in python 3.6+\n",
        "e = \"Hello\"\n",
        "f = \"World\"\n",
        "\n",
        "f\"{e} {f} {i / 100.0}\""
      ],
      "execution_count": null,
      "outputs": []
    },
    {
      "cell_type": "code",
      "metadata": {
        "id": "WJBk7cJixNgt"
      },
      "source": [
        "f\"{round(2.43434, 4)}\""
      ],
      "execution_count": null,
      "outputs": []
    },
    {
      "cell_type": "code",
      "metadata": {
        "id": "jnm4igU0xNgt"
      },
      "source": [
        "i = 0x2ce\n",
        "str(i)"
      ],
      "execution_count": null,
      "outputs": []
    },
    {
      "cell_type": "code",
      "metadata": {
        "id": "Fgh9etwnxNgt"
      },
      "source": [
        "# operations"
      ],
      "execution_count": null,
      "outputs": []
    },
    {
      "cell_type": "code",
      "metadata": {
        "id": "jiFFvurFxNgu"
      },
      "source": [
        "\"\".join(\"string\")"
      ],
      "execution_count": null,
      "outputs": []
    },
    {
      "cell_type": "code",
      "metadata": {
        "id": "-ugNpokNxNgu"
      },
      "source": [
        "\"\".join([\"s\", \"t\", \"r\", \"i\", \"n\", \"g\"])"
      ],
      "execution_count": null,
      "outputs": []
    },
    {
      "cell_type": "code",
      "metadata": {
        "id": "Y8zee7fQxNgu"
      },
      "source": [
        "example = \"this is a string\"\n",
        "example.capitalize()"
      ],
      "execution_count": null,
      "outputs": []
    },
    {
      "cell_type": "code",
      "metadata": {
        "id": "TREA3bx2xNgu"
      },
      "source": [
        "example.title()"
      ],
      "execution_count": null,
      "outputs": []
    },
    {
      "cell_type": "code",
      "metadata": {
        "id": "TqE3fTSpxNgu"
      },
      "source": [
        "example2 = example.upper()\n",
        "example2"
      ],
      "execution_count": null,
      "outputs": []
    },
    {
      "cell_type": "code",
      "metadata": {
        "id": "fhTIVBk_xNgu"
      },
      "source": [
        "example2.lower()"
      ],
      "execution_count": null,
      "outputs": []
    },
    {
      "cell_type": "code",
      "metadata": {
        "id": "CgrO_UVOxNgu"
      },
      "source": [
        "example2.center(100)"
      ],
      "execution_count": null,
      "outputs": []
    },
    {
      "cell_type": "code",
      "metadata": {
        "id": "AHNf7GzNxNgu"
      },
      "source": [
        "example2.count(\"IS\")"
      ],
      "execution_count": null,
      "outputs": []
    },
    {
      "cell_type": "code",
      "metadata": {
        "id": "8MxPbzWmxNgu"
      },
      "source": [
        "example2.find(\"THIS\")"
      ],
      "execution_count": null,
      "outputs": []
    },
    {
      "cell_type": "code",
      "metadata": {
        "id": "gpBZS12rxNgu"
      },
      "source": [
        "example2.endswith(\"string\") # then try example2.lower().endswith(\"string\") to show chained operations"
      ],
      "execution_count": null,
      "outputs": []
    },
    {
      "cell_type": "code",
      "metadata": {
        "id": "-r1Zf3OYxNgu"
      },
      "source": [
        "\"this is a sentence\".split()"
      ],
      "execution_count": null,
      "outputs": []
    },
    {
      "cell_type": "code",
      "metadata": {
        "id": "mbmWFvq0xNgu"
      },
      "source": [
        "\"1234567\".isalnum()"
      ],
      "execution_count": null,
      "outputs": []
    },
    {
      "cell_type": "code",
      "metadata": {
        "id": "k5LpUZJKxNgu"
      },
      "source": [
        "example = \"new string\"\n",
        "example[0:3] "
      ],
      "execution_count": null,
      "outputs": []
    },
    {
      "cell_type": "code",
      "metadata": {
        "id": "kC-TCp8UxNgu"
      },
      "source": [
        "example = \"   message    \"\n",
        "\n",
        "print(example.lstrip())\n",
        "print(example.rstrip())\n",
        "print(example.strip())"
      ],
      "execution_count": null,
      "outputs": []
    },
    {
      "cell_type": "code",
      "metadata": {
        "id": "F1U0iQfWxNgu"
      },
      "source": [
        "s = \"\"\n",
        "[s for s in dir(\"\") if not s.endswith('__')]"
      ],
      "execution_count": null,
      "outputs": []
    },
    {
      "cell_type": "markdown",
      "metadata": {
        "id": "5E_GTcjIxNgu"
      },
      "source": [
        "# Putting it all together"
      ]
    },
    {
      "cell_type": "markdown",
      "metadata": {
        "id": "8hBigJXVxNgv"
      },
      "source": [
        "## Example 1 Creating a madlib:\n",
        "\n",
        "\"It was a `adjective`, cold November day. I woke up to the `adjective` smell of `noun` downstairs. I quickly got ready, grabbing my `noun` and ran downstairs to `verb` the `noun`. It was `day` and I was late! I rushed outside to see `person` at the bodega `verb`. I had no time for that and it was `weather` outside so I headed to the subway. On the train, I see `crazy event` so I `action in response`. I finally get to my stop and leave the train. I'm `number` minutes `early/late` so I `action`. I get to the meeting `description of your condition on arrival` only to find out that `event cancelling meeting`"
      ]
    },
    {
      "cell_type": "code",
      "metadata": {
        "id": "m2n_o-76xNgv"
      },
      "source": [
        "s = \"\""
      ],
      "execution_count": null,
      "outputs": []
    },
    {
      "cell_type": "code",
      "metadata": {
        "id": "LPUIVu9txNgv"
      },
      "source": [
        ""
      ],
      "execution_count": null,
      "outputs": []
    },
    {
      "cell_type": "markdown",
      "metadata": {
        "id": "ac3g3sW2xNgv"
      },
      "source": [
        "<div style=\"background: #000;\n",
        "            color: #FFF;\n",
        "            margin: 0px;\n",
        "                padding: 10px 0px 20px 0px;\n",
        "            text-align: center; \n",
        "                \">\n",
        "    <h1>Lab</h1>\n",
        "</div>\n"
      ]
    },
    {
      "cell_type": "markdown",
      "metadata": {
        "id": "pYm6dACHxNgv"
      },
      "source": [
        "### Question 1: \n",
        "\n",
        "Explain data types in your own words."
      ]
    },
    {
      "cell_type": "markdown",
      "metadata": {
        "id": "6amQxVeXxNgv"
      },
      "source": [
        "Data types in python include values that are boolean, integers, lists, floats, strings and dictionaries. You can assign variables these data types and utilize them in your code."
      ]
    },
    {
      "cell_type": "markdown",
      "metadata": {
        "id": "NPt2uvpnxNgv"
      },
      "source": [
        "### Exercise 1:\n",
        "\n",
        "Store your first name, in lowercase, in a variable.\n",
        "Using that one variable, print your name in lowercase, Titlecase, and UPPERCASE.\n"
      ]
    },
    {
      "cell_type": "code",
      "metadata": {
        "id": "1Ne7bVDkxNgv"
      },
      "source": [
        "daiyan = \"daiyan\";\n",
        "print(daiyan)\n",
        "print(daiyan.title())\n",
        "print(daiyan.upper())"
      ],
      "execution_count": null,
      "outputs": []
    },
    {
      "cell_type": "markdown",
      "metadata": {
        "id": "dNOkAlbxxNgv"
      },
      "source": [
        "### Exercise 2:\n",
        "\n",
        "Find a quote that you like. Store the quote in a variable, with an appropriate introduction such as \"Ken Thompson once said, 'One of my most productive days was throwing away 1000 lines of code'\". Print the quote 1000 times."
      ]
    },
    {
      "cell_type": "code",
      "metadata": {
        "id": "MqKZo6xGxNgv"
      },
      "source": [
        "quote = \"Yesterday is history, tomorrow is a mystery, and today is a gift...that's why they call it present\"\n",
        "num = 1\n",
        "while(num <= 1000):\n",
        "  print(quote)\n",
        "  num += 1"
      ],
      "execution_count": null,
      "outputs": []
    },
    {
      "cell_type": "markdown",
      "metadata": {
        "id": "xx5aqaQRxNgv"
      },
      "source": [
        "### Exercise 3:\n",
        "\n",
        "Use python string operations and methods to use the following variables to print this:\n",
        "\n",
        "    \"hello world\""
      ]
    },
    {
      "cell_type": "code",
      "metadata": {
        "id": "dkEC4d9exNgv"
      },
      "source": [
        "message_1 = \"hELlo\"\n",
        "message_2 = \"                              wor\"\n",
        "message_3 = \"\""
      ],
      "execution_count": null,
      "outputs": []
    },
    {
      "cell_type": "code",
      "metadata": {
        "id": "tPxENxDqxNgv"
      },
      "source": [
        "import random, string\n",
        "message_1 = \"hELlo\"\n",
        "message_2 = \"                              wor\"\n",
        "message_3 = \"\"\n",
        "\n",
        "message_1 = message_1.lower();\n",
        "message_2 = message_2.strip() + \"ld\";\n",
        "message_3 += \" \";\n",
        "print(message_1 + message_3 + message_2);"
      ],
      "execution_count": null,
      "outputs": []
    },
    {
      "cell_type": "markdown",
      "metadata": {
        "id": "3rXa5oXhxNgv"
      },
      "source": [
        "### Exercise 4\n",
        "\n",
        "Fix the following code so it prints properly"
      ]
    },
    {
      "cell_type": "code",
      "metadata": {
        "id": "nXARZrULxNgw"
      },
      "source": [
        "# Dollar amounts should only have two digits after the decimal\n",
        "print(\"The price is $%.2f.\" % (3.44444))"
      ],
      "execution_count": null,
      "outputs": []
    },
    {
      "cell_type": "code",
      "metadata": {
        "id": "cYtGYL4kxNgw"
      },
      "source": [
        "print(\"{name} is learning\".format(name = \"Losing\") )"
      ],
      "execution_count": null,
      "outputs": []
    },
    {
      "cell_type": "markdown",
      "metadata": {
        "id": "IOget4SUxNgw"
      },
      "source": [
        "### Exercise 5\n",
        "\n",
        "Create your own mad-lib with at least 5 inputs."
      ]
    },
    {
      "cell_type": "code",
      "metadata": {
        "id": "pZ-kge6k4M1y"
      },
      "source": [
        "#It's a [weather] day. Today I am feeling [adjective]. I will paint my walls [color] to express my feeling. I will paint with [noun]. Painting sounds [gerund].\n",
        "\n",
        "weather = input(\"Enter weather.\");\n",
        "adjective = input(\"Enter adjective.\");\n",
        "color = input(\"Enter color.\");\n",
        "noun = input(\"Enter noun.\");\n",
        "gerund = input(\"Enter gerund.\");\n",
        "\n",
        "print(\"It's a \" + weather.lower() + \" day. Today I am feeling \" + adjective.lower() + \". I will paint my walls \" + color.lower() + \" to express my feeling. I will paint with \" + noun.lower() + \". Painting sounds \" + gerund.lower() + \".\")"
      ],
      "execution_count": null,
      "outputs": []
    }
  ]
}