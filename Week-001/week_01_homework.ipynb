{
  "nbformat": 4,
  "nbformat_minor": 0,
  "metadata": {
    "kernelspec": {
      "display_name": "Python 3",
      "language": "python",
      "name": "python3"
    },
    "language_info": {
      "codemirror_mode": {
        "name": "ipython",
        "version": 3
      },
      "file_extension": ".py",
      "mimetype": "text/x-python",
      "name": "python",
      "nbconvert_exporter": "python",
      "pygments_lexer": "ipython3",
      "version": "3.8.5"
    },
    "colab": {
      "name": "week-01-homework.ipynb",
      "provenance": [],
      "include_colab_link": true
    }
  },
  "cells": [
    {
      "cell_type": "markdown",
      "metadata": {
        "id": "view-in-github",
        "colab_type": "text"
      },
      "source": [
        "<a href=\"https://colab.research.google.com/github/xdaiyan/DS2022/blob/main/week_01_homework.ipynb\" target=\"_parent\"><img src=\"https://colab.research.google.com/assets/colab-badge.svg\" alt=\"Open In Colab\"/></a>"
      ]
    },
    {
      "cell_type": "markdown",
      "metadata": {
        "id": "37nZ3GW1O74z"
      },
      "source": [
        "# Week 1 HW\n",
        "\n",
        "**Exercise 1 and 3 are due Monday 9/20**  \n",
        "**Exercise 2 and 4 are due Tuesday 9/21**  \n",
        "**Exercise 5 and 6 are due Wednesday 9/22**  "
      ]
    },
    {
      "cell_type": "markdown",
      "metadata": {
        "id": "ZCfIxkUAO740"
      },
      "source": [
        "# Exercise 1"
      ]
    },
    {
      "cell_type": "markdown",
      "metadata": {
        "id": "q_hVeWjPO740"
      },
      "source": [
        "a. Set a variable to a user input. "
      ]
    },
    {
      "cell_type": "code",
      "metadata": {
        "id": "CE0EN3XjO740"
      },
      "source": [
        "user = input()"
      ],
      "execution_count": null,
      "outputs": []
    },
    {
      "cell_type": "markdown",
      "metadata": {
        "id": "7ooIdBRzO741"
      },
      "source": [
        "b. Set two variables in the same statement."
      ]
    },
    {
      "cell_type": "code",
      "metadata": {
        "id": "_FF3Fa8aO741"
      },
      "source": [
        "x = y = 5"
      ],
      "execution_count": null,
      "outputs": []
    },
    {
      "cell_type": "markdown",
      "metadata": {
        "id": "UeMVswVAO741"
      },
      "source": [
        "c. Create a variable with a value that when cast as a bool returns True."
      ]
    },
    {
      "cell_type": "code",
      "metadata": {
        "id": "fYa4HMMgO741"
      },
      "source": [
        "x = (10 == 10)"
      ],
      "execution_count": null,
      "outputs": []
    },
    {
      "cell_type": "markdown",
      "metadata": {
        "id": "F3GnVZw1O742"
      },
      "source": [
        "d. If we add up all the numbers from 0 to 100, we get 5050. \n",
        "\n",
        "What sum do we get if we add up all the numbers from 0 to 1000?\n",
        "\n",
        "(Show your work)"
      ]
    },
    {
      "cell_type": "code",
      "metadata": {
        "id": "FlIUm3q8O742"
      },
      "source": [
        "num = 0\n",
        "sum = 0\n",
        "while num <= 1000:\n",
        "  sum += num\n",
        "  num += 1\n",
        "print(sum)"
      ],
      "execution_count": null,
      "outputs": []
    },
    {
      "cell_type": "markdown",
      "metadata": {
        "id": "_jVMVu14O742"
      },
      "source": [
        "# Exercise 2 \n",
        "\n",
        "Convert the following logical statements into python. Print the result for each possible combination (TT, TF, FT, FF)"
      ]
    },
    {
      "cell_type": "markdown",
      "metadata": {
        "id": "jVY6MRZWO742"
      },
      "source": [
        "¬(p || q )  "
      ]
    },
    {
      "cell_type": "code",
      "metadata": {
        "id": "Ef_0oBNVO743"
      },
      "source": [
        "not (p or q)"
      ],
      "execution_count": null,
      "outputs": []
    },
    {
      "cell_type": "markdown",
      "metadata": {
        "id": "qJG_J4KqO743"
      },
      "source": [
        " ( p || q ) ⊕ ( p & q)"
      ]
    },
    {
      "cell_type": "code",
      "metadata": {
        "id": "Qjh-0RgKO743"
      },
      "source": [
        "(p or q) or (p and q)"
      ],
      "execution_count": null,
      "outputs": []
    },
    {
      "cell_type": "markdown",
      "metadata": {
        "id": "4_bmwf-OO743"
      },
      "source": [
        "(p & ¬q ) || (¬p & q)"
      ]
    },
    {
      "cell_type": "code",
      "metadata": {
        "id": "4wd7ej59O744"
      },
      "source": [
        "(p and not q) or (not p and q)"
      ],
      "execution_count": null,
      "outputs": []
    },
    {
      "cell_type": "markdown",
      "metadata": {
        "id": "ISLO7JBMO744"
      },
      "source": [
        "# Exercise 3"
      ]
    },
    {
      "cell_type": "markdown",
      "metadata": {
        "id": "n1P1s-RgO744"
      },
      "source": [
        " a. Create an array of strings that consist of five individual zeros followed by five individual ones. Demonstrate that it's an array, and that this is an array of strings using a built-in python function."
      ]
    },
    {
      "cell_type": "code",
      "metadata": {
        "id": "s-TmMD79O744",
        "colab": {
          "base_uri": "https://localhost:8080/"
        },
        "outputId": "47acd516-cf35-4427-9799-1a316a08468e"
      },
      "source": [
        "array = [\"0\", \"0\", \"0\", \"0\", \"0\", \"1\", \"1\", \"1\", \"1\", \"1\"]\n",
        "print(array)"
      ],
      "execution_count": null,
      "outputs": [
        {
          "output_type": "stream",
          "name": "stdout",
          "text": [
            "['0', '0', '0', '0', '0', '1', '1', '1', '1', '1']\n"
          ]
        }
      ]
    },
    {
      "cell_type": "markdown",
      "metadata": {
        "id": "Ca-QNzX_O744"
      },
      "source": [
        "b. Create an array of integers that consists of the same. Output the number of elements in the array using a built-in python function"
      ]
    },
    {
      "cell_type": "code",
      "metadata": {
        "id": "UxD_wMm4O744"
      },
      "source": [
        "array = [0, 0, 0, 0, 0, 1, 1, 1, 1, 1]\n",
        "print(array)"
      ],
      "execution_count": null,
      "outputs": []
    },
    {
      "cell_type": "markdown",
      "metadata": {
        "id": "_Rb9H75gO744"
      },
      "source": [
        "c. Create an array of floats that consists of the same. Demonstrate that this array is one of floats using a built-in python function."
      ]
    },
    {
      "cell_type": "code",
      "metadata": {
        "id": "1PXfIg6pO745"
      },
      "source": [
        "array = [0.0, 0.0, 0.0, 0.0, 0.0, 1.0, 1.0, 1.0, 1.0, 1.0]\n",
        "print(array)"
      ],
      "execution_count": null,
      "outputs": []
    },
    {
      "cell_type": "markdown",
      "metadata": {
        "id": "8v9h5wisO745"
      },
      "source": [
        "d. Create an array of bools that consists of the same. Demonstrate that this array is one of bools using a built-in python function."
      ]
    },
    {
      "cell_type": "code",
      "metadata": {
        "id": "WtyG1uyLO745"
      },
      "source": [
        "bool_one = (0 > 1)\n",
        "bool_two = (1 == 1)\n",
        "array = [bool_one, bool_two]\n",
        "print(array)"
      ],
      "execution_count": null,
      "outputs": []
    },
    {
      "cell_type": "markdown",
      "metadata": {
        "id": "kdCidhNAO745"
      },
      "source": [
        "# Exercise 4\n",
        "\n",
        "Without actually using Python, determine what the following would evaluate\n",
        "to in Python and explain step-by-step how you arrived at this answer:\n",
        "\n",
        "    a. (1 or ((0 or 0) or 1)) or 1\n",
        "    b. ((1 or 0) or 0 or 1) or 1\n",
        "    c. 1 or 0 or 0 or 1 or 1\n",
        "    \n",
        "Change the following cells to markdown and fill your answer in them."
      ]
    },
    {
      "cell_type": "markdown",
      "metadata": {
        "id": "KEf0WrUGO745"
      },
      "source": [
        "1 = p\n",
        "0 = q\n",
        "\n",
        "a. p || ((q || q) || p) || p → p || q\n",
        "b. ((p || q) || q || p) || p → p || q\n",
        "c. p || q || q || p || q →  p || q\n",
        "\n",
        "Reason why they all are p or q is because you're constantly switching between either variable, so you can shorten it to one statement."
      ]
    },
    {
      "cell_type": "markdown",
      "metadata": {
        "id": "N1Ez4hS6O745"
      },
      "source": [
        "# Exercise 5\n",
        "\n",
        "To convert Fahrenheit to Celsius, you use the following formula:\n",
        "\n",
        "$$\n",
        "    C^{\\circ} = \\frac{ (F^{\\circ} - 32)}{1.8}\n",
        "$$\n",
        "\n",
        "Given a Fahrenheit input `temperature`, write some python statements to print the temperature in Celsius.\n"
      ]
    },
    {
      "cell_type": "code",
      "metadata": {
        "id": "PRivgvKkO745"
      },
      "source": [
        "temperature = input(\"Enter temperature in Fahrenheit: \")\n",
        "celcius = (int(temperature) - 32) / 1.8\n",
        "print(celcius)"
      ],
      "execution_count": null,
      "outputs": []
    },
    {
      "cell_type": "markdown",
      "metadata": {
        "id": "an9H0DbTO745"
      },
      "source": [
        "# Exercise 6\n",
        "\n",
        "If given a height and a radius, print the volume of a cylinder.\n",
        "\n",
        "$$ \n",
        "    V = \\pi r^2h\n",
        "$$"
      ]
    },
    {
      "cell_type": "code",
      "metadata": {
        "id": "M5chyAi0O745"
      },
      "source": [
        "height = input(\"Enter a height: \")\n",
        "radius = input(\"Enter a radius: \")"
      ],
      "execution_count": null,
      "outputs": []
    },
    {
      "cell_type": "code",
      "metadata": {
        "id": "Q1lKzUEvO745"
      },
      "source": [
        "import math\n",
        "height = input(\"Enter a height: \")\n",
        "radius = input(\"Enter a radius: \")\n",
        "volume = math.pi * (math.pow(int(radius), 2)) * int(height)\n",
        "print(volume)"
      ],
      "execution_count": null,
      "outputs": []
    }
  ]
}