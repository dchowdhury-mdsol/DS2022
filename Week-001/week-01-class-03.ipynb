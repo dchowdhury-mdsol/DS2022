{
  "nbformat": 4,
  "nbformat_minor": 0,
  "metadata": {
    "kernelspec": {
      "display_name": "Python 3",
      "language": "python",
      "name": "python3"
    },
    "language_info": {
      "codemirror_mode": {
        "name": "ipython",
        "version": 3
      },
      "file_extension": ".py",
      "mimetype": "text/x-python",
      "name": "python",
      "nbconvert_exporter": "python",
      "pygments_lexer": "ipython3",
      "version": "3.9.0"
    },
    "colab": {
      "name": "week-01-class-03.ipynb",
      "provenance": []
    }
  },
  "cells": [
    {
      "cell_type": "markdown",
      "metadata": {
        "id": "WmaH8G4VY8K6"
      },
      "source": [
        "<div style=\"background: #000;\n",
        "            color: #FFF;\n",
        "            margin: 0px;\n",
        "                padding: 10px 0px 20px 0px;\n",
        "            text-align: center; \n",
        "                \">\n",
        "    <h1>Python Data Science Course - Week 1 - Day 3</h1>\n",
        "</div>\n",
        "\n",
        "## Todays Agenda\n",
        "\n",
        "* Ints vs. Floats\n",
        "* Math in Python\n",
        "* Discuss homework assignments\n"
      ]
    },
    {
      "cell_type": "code",
      "metadata": {
        "id": "rjW-g05oY8K7"
      },
      "source": [
        ""
      ],
      "execution_count": null,
      "outputs": []
    },
    {
      "cell_type": "code",
      "metadata": {
        "id": "XoyvNScCY8K8"
      },
      "source": [
        ""
      ],
      "execution_count": null,
      "outputs": []
    },
    {
      "cell_type": "markdown",
      "metadata": {
        "id": "S_ogP7sCY8K8"
      },
      "source": [
        "### bools"
      ]
    },
    {
      "cell_type": "code",
      "metadata": {
        "id": "7p3uXrxNY8K8"
      },
      "source": [
        "print(\"hello\") and print(\"hello\")"
      ],
      "execution_count": null,
      "outputs": []
    },
    {
      "cell_type": "code",
      "metadata": {
        "id": "i95dXtMGY8K9"
      },
      "source": [
        "print(\"hello\") and True"
      ],
      "execution_count": null,
      "outputs": []
    },
    {
      "cell_type": "code",
      "metadata": {
        "id": "6rPADP0yY8K9"
      },
      "source": [
        "print(\"hello\") and False"
      ],
      "execution_count": null,
      "outputs": []
    },
    {
      "cell_type": "code",
      "metadata": {
        "id": "WHB4mGjkY8K9"
      },
      "source": [
        "True and print(\"hello\")"
      ],
      "execution_count": null,
      "outputs": []
    },
    {
      "cell_type": "code",
      "metadata": {
        "id": "xBUIgHC9Y8K-"
      },
      "source": [
        "False and print(\"hello\")"
      ],
      "execution_count": null,
      "outputs": []
    },
    {
      "cell_type": "code",
      "metadata": {
        "id": "sitnkfUqY8K-"
      },
      "source": [
        "print(\"hello\") or print(\"goodbye\")"
      ],
      "execution_count": null,
      "outputs": []
    },
    {
      "cell_type": "code",
      "metadata": {
        "id": "6uPLwa2rY8K-"
      },
      "source": [
        "print(\"hello\") or True"
      ],
      "execution_count": null,
      "outputs": []
    },
    {
      "cell_type": "code",
      "metadata": {
        "id": "QgVC59OrY8K_"
      },
      "source": [
        "True == 1"
      ],
      "execution_count": null,
      "outputs": []
    },
    {
      "cell_type": "code",
      "metadata": {
        "id": "l2ObzaenY8K_"
      },
      "source": [
        "False == 0"
      ],
      "execution_count": null,
      "outputs": []
    },
    {
      "cell_type": "code",
      "metadata": {
        "id": "sYT-U_hBY8K_"
      },
      "source": [
        "True == 939"
      ],
      "execution_count": null,
      "outputs": []
    },
    {
      "cell_type": "code",
      "metadata": {
        "id": "kBr3sBYOY8K_"
      },
      "source": [
        "False == -323"
      ],
      "execution_count": null,
      "outputs": []
    },
    {
      "cell_type": "code",
      "metadata": {
        "id": "YScu9Y6NY8LA"
      },
      "source": [
        "bool(0), bool(0.00), bool(0j)"
      ],
      "execution_count": null,
      "outputs": []
    },
    {
      "cell_type": "code",
      "metadata": {
        "id": "EWvI1Q6TY8LA"
      },
      "source": [
        "bool(None)"
      ],
      "execution_count": null,
      "outputs": []
    },
    {
      "cell_type": "code",
      "metadata": {
        "id": "2NcFLap2Y8LA"
      },
      "source": [
        "bool(()), bool([]), bool({})"
      ],
      "execution_count": null,
      "outputs": []
    },
    {
      "cell_type": "code",
      "metadata": {
        "id": "L6wxGOddY8LA"
      },
      "source": [
        "class Example:\n",
        "    def __init__(self):\n",
        "        pass\n",
        "    def __bool__(self):\n",
        "        return False\n",
        "    def __len__(self):\n",
        "        return 0\n",
        "\n",
        "e = Example()\n",
        "    \n",
        "bool(e)"
      ],
      "execution_count": null,
      "outputs": []
    },
    {
      "cell_type": "markdown",
      "metadata": {
        "id": "I2pE_WlEY8LA"
      },
      "source": [
        "# Ints"
      ]
    },
    {
      "cell_type": "code",
      "metadata": {
        "id": "uWU8aIo-Y8LA"
      },
      "source": [
        "variable = 45"
      ],
      "execution_count": null,
      "outputs": []
    },
    {
      "cell_type": "code",
      "metadata": {
        "id": "Iwb4kYHlY8LA"
      },
      "source": [
        "type(variable)"
      ],
      "execution_count": null,
      "outputs": []
    },
    {
      "cell_type": "markdown",
      "metadata": {
        "id": "A59PzpWUY8LA"
      },
      "source": [
        "# common math operations"
      ]
    },
    {
      "cell_type": "code",
      "metadata": {
        "id": "nx4anaPAY8LB"
      },
      "source": [
        "variable = 10 + 10\n",
        "\n",
        "print(variable)"
      ],
      "execution_count": null,
      "outputs": []
    },
    {
      "cell_type": "code",
      "metadata": {
        "id": "0lrxe0qLY8LB"
      },
      "source": [
        "variable = 10 - 10\n",
        "\n",
        "print(variable)"
      ],
      "execution_count": null,
      "outputs": []
    },
    {
      "cell_type": "code",
      "metadata": {
        "id": "jcZOispYY8LB"
      },
      "source": [
        "variable = -10 + 10\n",
        "print(variable)"
      ],
      "execution_count": null,
      "outputs": []
    },
    {
      "cell_type": "code",
      "metadata": {
        "id": "9hIpKDF9Y8LB"
      },
      "source": [
        "# some useful tricks\n",
        "\n",
        "# adding/subtracting an amount to a variable:\n",
        "variable += 5\n",
        "variable -= 5"
      ],
      "execution_count": null,
      "outputs": []
    },
    {
      "cell_type": "code",
      "metadata": {
        "id": "Lh6S41ZbY8LB"
      },
      "source": [
        "# multiplication\n",
        "\n",
        "variable = 5 * 5\n",
        "\n",
        "# using exponents\n",
        "\n",
        "variable2 = 5 ** 5\n",
        "\n",
        "print(variable, variable2)"
      ],
      "execution_count": null,
      "outputs": []
    },
    {
      "cell_type": "markdown",
      "metadata": {
        "id": "oJerpgooY8LB"
      },
      "source": [
        "# Examples using python as a calculator"
      ]
    },
    {
      "cell_type": "markdown",
      "metadata": {
        "id": "OdkEz9OwY8LB"
      },
      "source": [
        "Say you had a company that ran projects with a budgeted amount of $1000 per project. Of that amount, you spend money for supplies and labor. Often, you don't use the full budget. Your boss asks you weekly to generate a list of the leftover funds. \n",
        "\n",
        "Let's use python to create a script that will allow us to enter the values and generate that list easily. "
      ]
    },
    {
      "cell_type": "code",
      "metadata": {
        "id": "5taQNawCY8LB"
      },
      "source": [
        "balance: int = 1000"
      ],
      "execution_count": null,
      "outputs": []
    },
    {
      "cell_type": "code",
      "metadata": {
        "id": "AiIlzLfvY8LB"
      },
      "source": [
        "sum(s)"
      ],
      "execution_count": null,
      "outputs": []
    },
    {
      "cell_type": "code",
      "metadata": {
        "id": "EMGllOMMY8LB"
      },
      "source": [
        ""
      ],
      "execution_count": null,
      "outputs": []
    },
    {
      "cell_type": "markdown",
      "metadata": {
        "id": "ZWI71HQtY8LC"
      },
      "source": [
        "# More complicated examples"
      ]
    },
    {
      "cell_type": "code",
      "metadata": {
        "id": "6VdTMgJZY8LC"
      },
      "source": [
        "# Floor division\n",
        "\n",
        "14 // 3 # discards fractional part"
      ],
      "execution_count": null,
      "outputs": []
    },
    {
      "cell_type": "code",
      "metadata": {
        "id": "qbxs1_plY8LC"
      },
      "source": [
        "# Remainder operation\n",
        "\n",
        "14 % 3 # returns remainder"
      ],
      "execution_count": null,
      "outputs": []
    },
    {
      "cell_type": "code",
      "metadata": {
        "id": "8z1Td7_LY8LC"
      },
      "source": [
        "# putting that together:\n",
        "\n",
        "w = 17 // 3\n",
        "w"
      ],
      "execution_count": null,
      "outputs": []
    },
    {
      "cell_type": "code",
      "metadata": {
        "id": "95li670tY8LC"
      },
      "source": [
        "x = 17 % 3\n",
        "x"
      ],
      "execution_count": null,
      "outputs": []
    },
    {
      "cell_type": "code",
      "metadata": {
        "id": "aQ9wGXivY8LC"
      },
      "source": [
        "y = w, x\n",
        "y"
      ],
      "execution_count": null,
      "outputs": []
    },
    {
      "cell_type": "code",
      "metadata": {
        "id": "4fvnPBi0Y8LC"
      },
      "source": [
        "w * 3 + x"
      ],
      "execution_count": null,
      "outputs": []
    },
    {
      "cell_type": "code",
      "metadata": {
        "id": "fkiNmYlmY8LC"
      },
      "source": [
        "# multiplication gets tricky"
      ],
      "execution_count": null,
      "outputs": []
    },
    {
      "cell_type": "code",
      "metadata": {
        "id": "hKRlS-LxY8LC"
      },
      "source": [
        "print(type(5))\n",
        "print(type(3))\n",
        "print(type(5/3))"
      ],
      "execution_count": null,
      "outputs": []
    },
    {
      "cell_type": "code",
      "metadata": {
        "id": "lNrHPJiiY8LC"
      },
      "source": [
        "type(4.)"
      ],
      "execution_count": null,
      "outputs": []
    },
    {
      "cell_type": "code",
      "metadata": {
        "id": "03vFtgFxY8LC"
      },
      "source": [
        "22/7."
      ],
      "execution_count": null,
      "outputs": []
    },
    {
      "cell_type": "code",
      "metadata": {
        "id": "7ZbFc-Q8Y8LC"
      },
      "source": [
        "import math\n",
        "math.pi.as_integer_ratio()"
      ],
      "execution_count": null,
      "outputs": []
    },
    {
      "cell_type": "code",
      "metadata": {
        "id": "hrQDrhyhY8LD"
      },
      "source": [
        "884279719003555/281474976710656"
      ],
      "execution_count": null,
      "outputs": []
    },
    {
      "cell_type": "markdown",
      "metadata": {
        "id": "xZnDbiJ8Y8LD"
      },
      "source": [
        "# Floats\n",
        "***\n",
        "\n",
        "The float type in CPython uses a C double for storage. A float object’s value is stored in binary floating-point with a fixed precision (typically 53 bits) and Python uses C operations, which in turn rely on the hardware implementation in the processor, to perform floating-point operations. This means that as far as floating-point operations are concerned, Python behaves like many popular languages including C and Java.\n",
        "\n",
        "Floats:\n",
        "1. Sign bit\n",
        "2. Fractional part digits\n",
        "3. Exponent part digits\n",
        "\n",
        "\n",
        "\n",
        "1. bit for negative/postive\n",
        "2. bits to expand as follows:  \n",
        "$\n",
        "01101101 - 0*2^{-1} + 1*2^{-2} + 1*2^{-3} + 0*2^{-4} + 1*2^{-5} + 1*2^{-6} + 0*2^{-7} + 1*2^{-8} = 0.42578125\n",
        "$\n",
        "3. bits for exponent:\n",
        "$\n",
        "11000011 - 1*2^7 + 1*2^6 + 0*2^5 + 0*2^4 + 0*2^3 + 0*2^2 + 1*2^1 + 1*2^0 = 195\n",
        "$\n",
        "\n",
        "\n",
        "sign * fractional part ** exponent"
      ]
    },
    {
      "cell_type": "code",
      "metadata": {
        "id": "Dhw7zdMWY8LD"
      },
      "source": [
        "0*2**-1 + 1*2**-2 + 1*2**-3 + 0*2**-4 + 1*2**-5 + 1*2**-6 + 0*2**-7 + 1*2**-8"
      ],
      "execution_count": null,
      "outputs": []
    },
    {
      "cell_type": "code",
      "metadata": {
        "id": "lpq6A2ndY8LD"
      },
      "source": [
        "sum([int(j) * 2 **-(i+1) for i, j in enumerate('01101101')])"
      ],
      "execution_count": null,
      "outputs": []
    },
    {
      "cell_type": "code",
      "metadata": {
        "id": "XKsUDdTWY8LD"
      },
      "source": [
        "1*2**7 + 1*2**6 + 0*2**5 + 0*2**4 + 0*2**3 + 0*2**2 + 1*2**1 + 1*2**0"
      ],
      "execution_count": null,
      "outputs": []
    },
    {
      "cell_type": "code",
      "metadata": {
        "id": "tCk2pXBdY8LD"
      },
      "source": [
        "sum([int(j) * 2 **(i) for i, j in enumerate('11000011')])"
      ],
      "execution_count": null,
      "outputs": []
    },
    {
      "cell_type": "markdown",
      "metadata": {
        "id": "VcUTh8amY8LD"
      },
      "source": [
        "1 2 3 4 5 6 7 8 9 10\n",
        "\n",
        "1.00 1.01 1.02 .. 1.99 2.00 99\n",
        "\n",
        "1.00000000000000000000000000000...\n",
        "2.000000000000000000000000000000000000000000000...\n",
        "1.0 ... 2.0"
      ]
    },
    {
      "cell_type": "code",
      "metadata": {
        "id": "p4DBg3PHY8LD"
      },
      "source": [
        "1/3."
      ],
      "execution_count": null,
      "outputs": []
    },
    {
      "cell_type": "code",
      "metadata": {
        "id": "VxiqTw6XY8LD"
      },
      "source": [
        "import math\n",
        "\n",
        "type(math.pi)"
      ],
      "execution_count": null,
      "outputs": []
    },
    {
      "cell_type": "code",
      "metadata": {
        "id": "Eg1a_X65Y8LD"
      },
      "source": [
        "format(math.pi, '.12g')"
      ],
      "execution_count": null,
      "outputs": []
    },
    {
      "cell_type": "code",
      "metadata": {
        "id": "bgPMM9XEY8LD"
      },
      "source": [
        "format(math.pi, '.2f')"
      ],
      "execution_count": null,
      "outputs": []
    },
    {
      "cell_type": "code",
      "metadata": {
        "id": "M--J34DpY8LE"
      },
      "source": [
        "format(0.1, '.17f')"
      ],
      "execution_count": null,
      "outputs": []
    },
    {
      "cell_type": "code",
      "metadata": {
        "id": "EO5oJ6fNY8LE"
      },
      "source": [
        "0.1 + 0.1 + 0.1 == 0.3"
      ],
      "execution_count": null,
      "outputs": []
    },
    {
      "cell_type": "code",
      "metadata": {
        "id": "OirpPKgEY8LE"
      },
      "source": [
        "round(0.1 + 0.1 + 0.1, 10) == round(0.3, 10)"
      ],
      "execution_count": null,
      "outputs": []
    },
    {
      "cell_type": "code",
      "metadata": {
        "id": "nSdIYzJ3Y8LE"
      },
      "source": [
        "(0.1).as_integer_ratio()"
      ],
      "execution_count": null,
      "outputs": []
    },
    {
      "cell_type": "code",
      "metadata": {
        "id": "q66rD5hwY8LE"
      },
      "source": [
        "from decimal import getcontext, Decimal\n",
        "getcontext().prec = 6\n",
        "Decimal(1)/Decimal(7)"
      ],
      "execution_count": null,
      "outputs": []
    },
    {
      "cell_type": "code",
      "metadata": {
        "id": "ErerI10XY8LE"
      },
      "source": [
        "getcontext().prec = 28\n",
        "Decimal(1)/Decimal(7)"
      ],
      "execution_count": null,
      "outputs": []
    },
    {
      "cell_type": "code",
      "metadata": {
        "id": "A8-vOmaaY8LE"
      },
      "source": [
        "getcontext().prec = 2\n",
        "Decimal(1)/Decimal(7)"
      ],
      "execution_count": null,
      "outputs": []
    },
    {
      "cell_type": "code",
      "metadata": {
        "id": "2OAolqQXY8LE"
      },
      "source": [
        "from fractions import Fraction\n",
        "Fraction.from_float(0.25)"
      ],
      "execution_count": null,
      "outputs": []
    },
    {
      "cell_type": "code",
      "metadata": {
        "id": "ndxHPU3VY8LE"
      },
      "source": [
        "Fraction.from_float(0.33333)"
      ],
      "execution_count": null,
      "outputs": []
    },
    {
      "cell_type": "markdown",
      "metadata": {
        "id": "psjjrJvEY8LE"
      },
      "source": [
        "# More Python\n",
        "\n",
        "## Useful Built In Functions\n",
        "\n",
        "|               |             |              |              |                |\n",
        "|---------------|-------------|--------------|--------------|----------------|\n",
        "| abs()         | delattr()   | hash()       | memoryview() | set()          |\n",
        "| all()         | dict()      | help()       | min()        | setattr()      |\n",
        "| any()         | dir()       | hex()        | next()       | slice()        |\n",
        "| ascii()       | divmod()    | id()         | object()     | sorted()       |\n",
        "| bin()         | enumerate() | input()      | oct()        | staticmethod() |\n",
        "| bool()        | eval()      | int()        | open()       | str()          |\n",
        "| breakpoint()  | exec()      | isinstance() | ord()        | sum()          |\n",
        "| bytearray()   | filter()    | issubclass() | pow()        | super()        |\n",
        "| bytes()       | float()     | iter()       | print()      | tuple()        |\n",
        "| callable()    | format()    | len()        | property()   | type()         |\n",
        "| chr()         | frozenset() | list()       | range()      | vars()         |\n",
        "| classmethod() | getattr()   | locals()     | repr()       | zip()          |\n",
        "| compile()     | globals()   | map()        | reversed()   | \\__import__()   |\n",
        "| complex()     | hasattr()   | max()        | round()      |                |"
      ]
    },
    {
      "cell_type": "markdown",
      "metadata": {
        "id": "BINRBATSY8LF"
      },
      "source": [
        "### `abs(x)` -> returns absolute value of x   \n"
      ]
    },
    {
      "cell_type": "code",
      "metadata": {
        "id": "kZOHZcM7Y8LF"
      },
      "source": [
        "abs(10)"
      ],
      "execution_count": null,
      "outputs": []
    },
    {
      "cell_type": "code",
      "metadata": {
        "id": "hlqa56aUY8LF"
      },
      "source": [
        "abs(-10)"
      ],
      "execution_count": null,
      "outputs": []
    },
    {
      "cell_type": "code",
      "metadata": {
        "id": "STnCzfdxY8LF"
      },
      "source": [
        "abs(0)"
      ],
      "execution_count": null,
      "outputs": []
    },
    {
      "cell_type": "markdown",
      "metadata": {
        "id": "CVrRCmCCY8LF"
      },
      "source": [
        "### `bool(x)` -> casts x as bool "
      ]
    },
    {
      "cell_type": "code",
      "metadata": {
        "id": "4tWZM6YkY8LF"
      },
      "source": [
        "bool(0), bool(\"\"), bool(None)"
      ],
      "execution_count": null,
      "outputs": []
    },
    {
      "cell_type": "code",
      "metadata": {
        "id": "E3A5WRgXY8LF"
      },
      "source": [
        "bool(1), bool(24)"
      ],
      "execution_count": null,
      "outputs": []
    },
    {
      "cell_type": "code",
      "metadata": {
        "id": "B3jfC5jpY8LF"
      },
      "source": [
        "bool(True), bool(4), bool(\"s\")"
      ],
      "execution_count": null,
      "outputs": []
    },
    {
      "cell_type": "markdown",
      "metadata": {
        "id": "MnOCtGzFY8LF"
      },
      "source": [
        "### `callable(x)` -> returns True if x is a function  \n"
      ]
    },
    {
      "cell_type": "code",
      "metadata": {
        "id": "_we8mchSY8LF"
      },
      "source": [
        "callable(print)"
      ],
      "execution_count": null,
      "outputs": []
    },
    {
      "cell_type": "code",
      "metadata": {
        "id": "8NCdnhVlY8LF"
      },
      "source": [
        "callable(bool)"
      ],
      "execution_count": null,
      "outputs": []
    },
    {
      "cell_type": "code",
      "metadata": {
        "id": "upj_vGbKY8LG"
      },
      "source": [
        "s = \"string\"\n",
        "callable(s)"
      ],
      "execution_count": null,
      "outputs": []
    },
    {
      "cell_type": "markdown",
      "metadata": {
        "id": "YdZZOvVpY8LG"
      },
      "source": [
        "### `dict()` -> returns dict  "
      ]
    },
    {
      "cell_type": "code",
      "metadata": {
        "id": "HXSdnIm-Y8LG"
      },
      "source": [
        "d = dict()\n",
        "type(d)"
      ],
      "execution_count": null,
      "outputs": []
    },
    {
      "cell_type": "markdown",
      "metadata": {
        "id": "4ACaFbOGY8LG"
      },
      "source": [
        "### `dir(x)` -> returns attributes and methods of object x  "
      ]
    },
    {
      "cell_type": "code",
      "metadata": {
        "id": "vFLf8tObY8LG"
      },
      "source": [
        "dir()"
      ],
      "execution_count": null,
      "outputs": []
    },
    {
      "cell_type": "code",
      "metadata": {
        "id": "Er5HM6-wY8LG"
      },
      "source": [
        "dir(help)"
      ],
      "execution_count": null,
      "outputs": []
    },
    {
      "cell_type": "markdown",
      "metadata": {
        "id": "-yr3L5-uY8LG"
      },
      "source": [
        " ### `float(x)` -> casts x to a float  "
      ]
    },
    {
      "cell_type": "code",
      "metadata": {
        "id": "6445QaexY8LG"
      },
      "source": [
        "float(1)"
      ],
      "execution_count": null,
      "outputs": []
    },
    {
      "cell_type": "code",
      "metadata": {
        "id": "gI_950DQY8LG"
      },
      "source": [
        "float(\"1\")"
      ],
      "execution_count": null,
      "outputs": []
    },
    {
      "cell_type": "code",
      "metadata": {
        "id": "aWf3s0IYY8LG"
      },
      "source": [
        "float(\"s\")"
      ],
      "execution_count": null,
      "outputs": []
    },
    {
      "cell_type": "markdown",
      "metadata": {
        "id": "LMGcRXRlY8LG"
      },
      "source": [
        "\n",
        "### `hex(x)` -> casts int x as a hex   \n"
      ]
    },
    {
      "cell_type": "code",
      "metadata": {
        "id": "DeoXbumeY8LG"
      },
      "source": [
        "hex(0)"
      ],
      "execution_count": null,
      "outputs": []
    },
    {
      "cell_type": "code",
      "metadata": {
        "id": "HiOc9wiQY8LG"
      },
      "source": [
        "hex(0.0)"
      ],
      "execution_count": null,
      "outputs": []
    },
    {
      "cell_type": "code",
      "metadata": {
        "id": "JV9fFazfY8LG"
      },
      "source": [
        "hex(\"0\")"
      ],
      "execution_count": null,
      "outputs": []
    },
    {
      "cell_type": "markdown",
      "metadata": {
        "id": "yxXAsPViY8LH"
      },
      "source": [
        "### `id(x)` -> returns id for object x  \n"
      ]
    },
    {
      "cell_type": "code",
      "metadata": {
        "id": "6n8wuhvzY8LH"
      },
      "source": [
        "s = \"string\"\n",
        "d = \"string\"\n",
        "e = \"strin\"\n",
        "f = e[:]\n",
        "g = s[:-1]\n",
        "h = d[:-1]\n",
        "print(f)\n",
        "id(s), id(d), id(e), id(f), id(g), id(h)"
      ],
      "execution_count": null,
      "outputs": []
    },
    {
      "cell_type": "code",
      "metadata": {
        "id": "yFmQ-SaxY8LH"
      },
      "source": [
        "s is d"
      ],
      "execution_count": null,
      "outputs": []
    },
    {
      "cell_type": "code",
      "metadata": {
        "id": "3YewDuucY8LH"
      },
      "source": [
        "s == d"
      ],
      "execution_count": null,
      "outputs": []
    },
    {
      "cell_type": "code",
      "metadata": {
        "id": "vo70VyFGY8LH"
      },
      "source": [
        "e == g"
      ],
      "execution_count": null,
      "outputs": []
    },
    {
      "cell_type": "code",
      "metadata": {
        "id": "tR9LWeGiY8LH"
      },
      "source": [
        "e is g"
      ],
      "execution_count": null,
      "outputs": []
    },
    {
      "cell_type": "code",
      "metadata": {
        "id": "XwYCP6EeY8LH"
      },
      "source": [
        "s = [4, 5]\n",
        "d = [4, 5]\n",
        "id(s), id(d)"
      ],
      "execution_count": null,
      "outputs": []
    },
    {
      "cell_type": "code",
      "metadata": {
        "id": "pOb6Jt90Y8LH"
      },
      "source": [
        "s is d"
      ],
      "execution_count": null,
      "outputs": []
    },
    {
      "cell_type": "code",
      "metadata": {
        "id": "AxJUhblcY8LH"
      },
      "source": [
        "s == d"
      ],
      "execution_count": null,
      "outputs": []
    },
    {
      "cell_type": "markdown",
      "metadata": {
        "id": "dixZE5bGY8LH"
      },
      "source": [
        "### `input()`  -> returns user input"
      ]
    },
    {
      "cell_type": "code",
      "metadata": {
        "id": "mihBmucZY8LH"
      },
      "source": [
        "input()"
      ],
      "execution_count": null,
      "outputs": []
    },
    {
      "cell_type": "code",
      "metadata": {
        "id": "xjDvXUa5Y8LH"
      },
      "source": [
        "s = input()"
      ],
      "execution_count": null,
      "outputs": []
    },
    {
      "cell_type": "code",
      "metadata": {
        "id": "KSwW0fRqY8LH"
      },
      "source": [
        "s"
      ],
      "execution_count": null,
      "outputs": []
    },
    {
      "cell_type": "markdown",
      "metadata": {
        "id": "bRgSidtVY8LI"
      },
      "source": [
        "### `int(x)` -> casts x as int  "
      ]
    },
    {
      "cell_type": "code",
      "metadata": {
        "id": "0ZmOMt7TY8LI"
      },
      "source": [
        "int(0)"
      ],
      "execution_count": null,
      "outputs": []
    },
    {
      "cell_type": "code",
      "metadata": {
        "id": "73UBV8VlY8LI"
      },
      "source": [
        "int(\"1\")"
      ],
      "execution_count": null,
      "outputs": []
    },
    {
      "cell_type": "code",
      "metadata": {
        "id": "db4W5-PZY8LI"
      },
      "source": [
        "int(True)"
      ],
      "execution_count": null,
      "outputs": []
    },
    {
      "cell_type": "markdown",
      "metadata": {
        "id": "gPBmAj6CY8LI"
      },
      "source": [
        "### `len(x)` -> returns count of x  "
      ]
    },
    {
      "cell_type": "code",
      "metadata": {
        "id": "jzO9dsjZY8LI"
      },
      "source": [
        "len(\"string\")"
      ],
      "execution_count": null,
      "outputs": []
    },
    {
      "cell_type": "code",
      "metadata": {
        "id": "DaNiSOcQY8LI"
      },
      "source": [
        "len([1,2,3,4])"
      ],
      "execution_count": null,
      "outputs": []
    },
    {
      "cell_type": "code",
      "metadata": {
        "id": "PwSw8TzwY8LI"
      },
      "source": [
        "len((1,2,3,4))"
      ],
      "execution_count": null,
      "outputs": []
    },
    {
      "cell_type": "code",
      "metadata": {
        "id": "869OfHY-Y8LI"
      },
      "source": [
        "len({'a':1, 'b':2})"
      ],
      "execution_count": null,
      "outputs": []
    },
    {
      "cell_type": "markdown",
      "metadata": {
        "id": "qRhtb1R2Y8LI"
      },
      "source": [
        "### `list()`  -> returns list"
      ]
    },
    {
      "cell_type": "code",
      "metadata": {
        "id": "l3A6ZlgCY8LI"
      },
      "source": [
        "l = list()"
      ],
      "execution_count": null,
      "outputs": []
    },
    {
      "cell_type": "code",
      "metadata": {
        "id": "GTK7KWoDY8LI"
      },
      "source": [
        "l.append(4)"
      ],
      "execution_count": null,
      "outputs": []
    },
    {
      "cell_type": "code",
      "metadata": {
        "id": "TGMedf-2Y8LI"
      },
      "source": [
        "l"
      ],
      "execution_count": null,
      "outputs": []
    },
    {
      "cell_type": "markdown",
      "metadata": {
        "id": "Kn-vb-uCY8LI"
      },
      "source": [
        "### `pow(x, y)` -> returns x to the y power  "
      ]
    },
    {
      "cell_type": "code",
      "metadata": {
        "id": "iMjvyPENY8LJ"
      },
      "source": [
        "pow(2,4)"
      ],
      "execution_count": null,
      "outputs": []
    },
    {
      "cell_type": "code",
      "metadata": {
        "id": "kmdX9_mdY8LJ"
      },
      "source": [
        "pow(25,2)"
      ],
      "execution_count": null,
      "outputs": []
    },
    {
      "cell_type": "markdown",
      "metadata": {
        "id": "By1Y-DbLY8LJ"
      },
      "source": [
        "### `print()`  -> prints argument"
      ]
    },
    {
      "cell_type": "code",
      "metadata": {
        "id": "aQrbc4sCY8LJ"
      },
      "source": [
        "print(\"hello\")"
      ],
      "execution_count": null,
      "outputs": []
    },
    {
      "cell_type": "code",
      "metadata": {
        "id": "t9ZVD-u0Y8LJ"
      },
      "source": [
        "print(25)"
      ],
      "execution_count": null,
      "outputs": []
    },
    {
      "cell_type": "code",
      "metadata": {
        "id": "9K8bsHhYY8LJ"
      },
      "source": [
        "print(True)"
      ],
      "execution_count": null,
      "outputs": []
    },
    {
      "cell_type": "markdown",
      "metadata": {
        "id": "uV2HwTtZY8LJ"
      },
      "source": [
        "### `range()`  returns iterable of sequential values"
      ]
    },
    {
      "cell_type": "code",
      "metadata": {
        "id": "69Vdn7DOY8LJ"
      },
      "source": [
        "range(100)"
      ],
      "execution_count": null,
      "outputs": []
    },
    {
      "cell_type": "code",
      "metadata": {
        "id": "5AU3SDtDY8LJ"
      },
      "source": [
        "range(5,10)"
      ],
      "execution_count": null,
      "outputs": []
    },
    {
      "cell_type": "code",
      "metadata": {
        "id": "-rrQpY-HY8LJ"
      },
      "source": [
        "[i for i in range(10)]"
      ],
      "execution_count": null,
      "outputs": []
    },
    {
      "cell_type": "markdown",
      "metadata": {
        "id": "OA8taOJeY8LJ"
      },
      "source": [
        "### `round(x)` -> returns x rounded to nearest"
      ]
    },
    {
      "cell_type": "code",
      "metadata": {
        "id": "lD6KXS5xY8LJ"
      },
      "source": [
        "round(132320.0324534521, 10)"
      ],
      "execution_count": null,
      "outputs": []
    },
    {
      "cell_type": "markdown",
      "metadata": {
        "id": "xUJj1CFCY8LJ"
      },
      "source": [
        "### `set()` "
      ]
    },
    {
      "cell_type": "code",
      "metadata": {
        "id": "fxVvVEl7Y8LJ"
      },
      "source": [
        "s = set()"
      ],
      "execution_count": null,
      "outputs": []
    },
    {
      "cell_type": "code",
      "metadata": {
        "id": "F1F56XtsY8LJ"
      },
      "source": [
        "s.add(4)"
      ],
      "execution_count": null,
      "outputs": []
    },
    {
      "cell_type": "code",
      "metadata": {
        "id": "ZnoGRs5aY8LK"
      },
      "source": [
        "s"
      ],
      "execution_count": null,
      "outputs": []
    },
    {
      "cell_type": "markdown",
      "metadata": {
        "id": "PKkSFDCqY8LK"
      },
      "source": [
        "### `str(x)`  -> casts x as string"
      ]
    },
    {
      "cell_type": "code",
      "metadata": {
        "id": "gHrSoRW_Y8LK"
      },
      "source": [
        "str(718)"
      ],
      "execution_count": null,
      "outputs": []
    },
    {
      "cell_type": "code",
      "metadata": {
        "id": "vJ4fSUZUY8LK"
      },
      "source": [
        "str(True)"
      ],
      "execution_count": null,
      "outputs": []
    },
    {
      "cell_type": "code",
      "metadata": {
        "id": "nRLU8VPLY8LK"
      },
      "source": [
        "str([2,3,4,5])"
      ],
      "execution_count": null,
      "outputs": []
    },
    {
      "cell_type": "code",
      "metadata": {
        "id": "Z717Ez_gY8LK"
      },
      "source": [
        "t"
      ],
      "execution_count": null,
      "outputs": []
    },
    {
      "cell_type": "markdown",
      "metadata": {
        "id": "WNPNqpu9Y8LK"
      },
      "source": [
        "### `type()`  "
      ]
    },
    {
      "cell_type": "code",
      "metadata": {
        "id": "LSJ1dbDZY8LK"
      },
      "source": [
        "type(\"string\")"
      ],
      "execution_count": null,
      "outputs": []
    },
    {
      "cell_type": "markdown",
      "metadata": {
        "id": "Kjw1ix7FY8LK"
      },
      "source": [
        "### Dunder methods"
      ]
    },
    {
      "cell_type": "code",
      "metadata": {
        "id": "veNYRaDdY8LK"
      },
      "source": [
        "s = str()\n",
        "[i for i in dir(s) if i.endswith('_')]"
      ],
      "execution_count": null,
      "outputs": []
    },
    {
      "cell_type": "code",
      "metadata": {
        "id": "vT1WxkKJY8LK"
      },
      "source": [
        "print(s.__doc__)"
      ],
      "execution_count": null,
      "outputs": []
    },
    {
      "cell_type": "code",
      "metadata": {
        "id": "8vzos55lY8LK"
      },
      "source": [
        "print(s.__str__)"
      ],
      "execution_count": null,
      "outputs": []
    },
    {
      "cell_type": "code",
      "metadata": {
        "id": "ET1H9VE5Y8LK"
      },
      "source": [
        "print(s.__repr__)"
      ],
      "execution_count": null,
      "outputs": []
    },
    {
      "cell_type": "code",
      "metadata": {
        "id": "e3FTYZG9Y8LK"
      },
      "source": [
        "print(s.__len__)"
      ],
      "execution_count": null,
      "outputs": []
    },
    {
      "cell_type": "code",
      "metadata": {
        "id": "QdRfOrodY8LK"
      },
      "source": [
        "print(s.__class__)"
      ],
      "execution_count": null,
      "outputs": []
    },
    {
      "cell_type": "code",
      "metadata": {
        "id": "ecXHc1JeY8LL"
      },
      "source": [
        "print(s.__dir__)"
      ],
      "execution_count": null,
      "outputs": []
    },
    {
      "cell_type": "code",
      "metadata": {
        "id": "isrDVv0kY8LL"
      },
      "source": [
        "print(s.__init__)"
      ],
      "execution_count": null,
      "outputs": []
    },
    {
      "cell_type": "code",
      "metadata": {
        "scrolled": true,
        "id": "J-xbyibrY8LL"
      },
      "source": [
        "bool.__doc__"
      ],
      "execution_count": null,
      "outputs": []
    },
    {
      "cell_type": "markdown",
      "metadata": {
        "id": "C2gU7NQYY8LL"
      },
      "source": [
        "# Built In Exceptions"
      ]
    },
    {
      "cell_type": "code",
      "metadata": {
        "id": "15tNL1DEY8LL"
      },
      "source": [
        "\"123\"[9]"
      ],
      "execution_count": null,
      "outputs": []
    },
    {
      "cell_type": "code",
      "metadata": {
        "id": "yzivwtaAY8LL"
      },
      "source": [
        "try:\n",
        "    \"123\"[9]\n",
        "except Exception as e:\n",
        "    print(e)"
      ],
      "execution_count": null,
      "outputs": []
    },
    {
      "cell_type": "code",
      "metadata": {
        "id": "Yw7wCoRFY8LL"
      },
      "source": [
        "raise Exception"
      ],
      "execution_count": null,
      "outputs": []
    },
    {
      "cell_type": "code",
      "metadata": {
        "id": "hm3zs4HGY8LL"
      },
      "source": [
        "type(Exception)"
      ],
      "execution_count": null,
      "outputs": []
    },
    {
      "cell_type": "markdown",
      "metadata": {
        "id": "J_xyoNLoY8LL"
      },
      "source": [
        "# Python Documentation"
      ]
    },
    {
      "cell_type": "code",
      "metadata": {
        "scrolled": true,
        "id": "ULjNNRMSY8LL"
      },
      "source": [
        "help()"
      ],
      "execution_count": null,
      "outputs": []
    },
    {
      "cell_type": "markdown",
      "metadata": {
        "id": "DBMR-k18Y8LL"
      },
      "source": [
        "<div style=\"background: #000;\n",
        "            color: #FFF;\n",
        "            margin: 0px;\n",
        "                padding: 10px 0px 20px 0px;\n",
        "            text-align: center; \n",
        "                \">\n",
        "    <h1>Extended Lab</h1>\n",
        "</div>\n"
      ]
    },
    {
      "cell_type": "markdown",
      "metadata": {
        "id": "kasD0S3vY8LL"
      },
      "source": [
        "### Question 1: \n",
        "\n",
        "Explain what data types are in your own words."
      ]
    },
    {
      "cell_type": "markdown",
      "metadata": {
        "id": "_b87YVEeY8LL"
      },
      "source": [
        "Data types in python include values that are boolean, integers, lists, floats, strings and dictionaries. You can assign variables these data types and utilize them in your code.\n"
      ]
    },
    {
      "cell_type": "markdown",
      "metadata": {
        "id": "X3XU2cHJY8LM"
      },
      "source": [
        "## Question 2:\n",
        "\n",
        "In your own words, explain what a float is and why sometimes it gives an incorrect value."
      ]
    },
    {
      "cell_type": "markdown",
      "metadata": {
        "id": "HVnO0wbeY8LM"
      },
      "source": [
        "It gives an incorrect value because floating point numbers do not give an exact representation of the value, but instead is an estimate rounded."
      ]
    },
    {
      "cell_type": "markdown",
      "metadata": {
        "id": "uv0n5GU2Y8LM"
      },
      "source": [
        "### Exercise 1:\n",
        "\n",
        "Store your first name, in lowercase, in a variable.\n",
        "Using that one variable, print your name in lowercase, Titlecase, and UPPERCASE.\n"
      ]
    },
    {
      "cell_type": "code",
      "metadata": {
        "id": "XNK69uFmY8LM"
      },
      "source": [
        "daiyan = \"daiyan\";\n",
        "print(daiyan)\n",
        "print(daiyan.title())\n",
        "print(daiyan.upper())"
      ],
      "execution_count": null,
      "outputs": []
    },
    {
      "cell_type": "markdown",
      "metadata": {
        "id": "JM0adyBuY8LM"
      },
      "source": [
        "### Exercise 2:\n",
        "\n",
        "Find a quote that you like. Store the quote in a variable, with an appropriate introduction such as \"Ken Thompson once said, 'One of my most productive days was throwing away 1000 lines of code'\". Print the quote 1000 times."
      ]
    },
    {
      "cell_type": "code",
      "metadata": {
        "id": "1tQhw3CpY8LM"
      },
      "source": [
        "quote = \"Yesterday is history, tomorrow is a mystery, and today is a gift...that's why they call it present - Master Oogway\"\n",
        "num = 1\n",
        "while(num <= 1000):\n",
        "  print(quote)\n",
        "  num += 1"
      ],
      "execution_count": null,
      "outputs": []
    },
    {
      "cell_type": "markdown",
      "metadata": {
        "id": "X8Hap24uY8LM"
      },
      "source": [
        "### Exercise 3:\n",
        "\n",
        "Use python string operations and methods to use the following variables to print this:\n",
        "\n",
        "    \"hello world\""
      ]
    },
    {
      "cell_type": "markdown",
      "metadata": {
        "id": "rLn2cvsSY8LM"
      },
      "source": [
        "message_1 = \"hELlo\"\n",
        "message_2 = \"                              wor\"\n",
        "message_3 = \"wbdaloqteldndyrcggzf\""
      ]
    },
    {
      "cell_type": "code",
      "metadata": {
        "id": "KeZol9W5ZVu4"
      },
      "source": [
        "import random, string\n",
        "message_1 = \"hELlo\"\n",
        "message_2 = \"wor\"\n",
        "message_3 = \"wbdaloqteldndyrcggzf\"\n",
        "\n",
        "message_1 = message_1.lower();\n",
        "message_3 = message_3[4] + message_3[2]; \n",
        "print(message_1 + \" \" + message_2 + message_3);"
      ],
      "execution_count": null,
      "outputs": []
    },
    {
      "cell_type": "markdown",
      "metadata": {
        "id": "tJNSnqtyY8LM"
      },
      "source": [
        "### Exercise 4\n",
        "\n",
        "Fix the following code so it prints properly"
      ]
    },
    {
      "cell_type": "code",
      "metadata": {
        "id": "o954PnVNY8LM"
      },
      "source": [
        "# Dollar amounts should only have two digits after the decimal\n",
        "\n",
        "print(\"The price is $%.2f.\" % (3.44444))"
      ],
      "execution_count": null,
      "outputs": []
    },
    {
      "cell_type": "code",
      "metadata": {
        "id": "Y5tVK25iY8LM"
      },
      "source": [
        "# Complete the code so it prints your name and what you're learning\n",
        "name = input(\"enter your name: \")\n",
        "language = input(\"enter the language you are learning: \")\n",
        "print(\"{name} is learning {language}\".format(name = name, language = language) )"
      ],
      "execution_count": null,
      "outputs": []
    },
    {
      "cell_type": "markdown",
      "metadata": {
        "id": "614NBRkbY8LN"
      },
      "source": [
        "### Exercise 5\n",
        "\n",
        "Create your own mad-lib with at least 5 inputs."
      ]
    },
    {
      "cell_type": "code",
      "metadata": {
        "id": "oTYf261raykB"
      },
      "source": [
        "#It's a [weather] day. Today I am feeling [adjective]. I will paint my walls [color] to express my feeling. I will paint with [noun]. Painting sounds [gerund].\n",
        "\n",
        "weather = input(\"Enter weather.\");\n",
        "adjective = input(\"Enter adjective.\");\n",
        "color = input(\"Enter color.\");\n",
        "noun = input(\"Enter noun.\");\n",
        "gerund = input(\"Enter gerund.\");\n",
        "\n",
        "print(\"It's a \" + weather.lower() + \" day. Today I am feeling \" + adjective.lower() + \". I will paint my walls \" + color.lower() + \" to express my feeling. I will paint with \" + noun.lower() + \". Painting sounds \" + gerund.lower() + \".\")"
      ],
      "execution_count": null,
      "outputs": []
    }
  ]
}